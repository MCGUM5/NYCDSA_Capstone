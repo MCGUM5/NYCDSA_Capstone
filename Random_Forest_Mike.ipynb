{
 "cells": [
  {
   "cell_type": "code",
   "execution_count": 1,
   "id": "8fb834f3",
   "metadata": {},
   "outputs": [],
   "source": [
    "import numpy as np\n",
    "import pandas as pd\n",
    "from matplotlib import pyplot as plt\n",
    "import seaborn as sns\n",
    "from sklearn.model_selection import train_test_split, GridSearchCV, KFold, cross_val_score, RandomizedSearchCV\n",
    "from datetime import datetime\n",
    "from sklearn.preprocessing import StandardScaler\n",
    "from sklearn.cluster import KMeans\n",
    "import statsmodels.api as sm\n",
    "import pylab as py\n",
    "import scipy.stats as stats \n",
    "from scipy.stats import norm, skew, probplot\n",
    "from sklearn.metrics import r2_score, mean_squared_error, accuracy_score\n",
    "from sklearn.linear_model import LinearRegression, Ridge, Lasso, ElasticNet, RidgeCV, LassoCV, ElasticNetCV\n",
    "from sklearn.decomposition import PCA\n",
    "from sklearn.metrics import mean_squared_error\n",
    "from sklearn.ensemble import RandomForestRegressor"
   ]
  },
  {
   "cell_type": "code",
   "execution_count": 2,
   "id": "69d15d03",
   "metadata": {
    "scrolled": true
   },
   "outputs": [
    {
     "name": "stderr",
     "output_type": "stream",
     "text": [
      "/opt/anaconda3/lib/python3.8/site-packages/pandas/core/indexing.py:1637: SettingWithCopyWarning: \n",
      "A value is trying to be set on a copy of a slice from a DataFrame\n",
      "\n",
      "See the caveats in the documentation: https://pandas.pydata.org/pandas-docs/stable/user_guide/indexing.html#returning-a-view-versus-a-copy\n",
      "  self._setitem_single_block(indexer, value, name)\n",
      "/opt/anaconda3/lib/python3.8/site-packages/pandas/core/frame.py:4308: SettingWithCopyWarning: \n",
      "A value is trying to be set on a copy of a slice from a DataFrame\n",
      "\n",
      "See the caveats in the documentation: https://pandas.pydata.org/pandas-docs/stable/user_guide/indexing.html#returning-a-view-versus-a-copy\n",
      "  return super().drop(\n",
      "/opt/anaconda3/lib/python3.8/site-packages/pandas/core/frame.py:4308: SettingWithCopyWarning: \n",
      "A value is trying to be set on a copy of a slice from a DataFrame\n",
      "\n",
      "See the caveats in the documentation: https://pandas.pydata.org/pandas-docs/stable/user_guide/indexing.html#returning-a-view-versus-a-copy\n",
      "  return super().drop(\n",
      "/opt/anaconda3/lib/python3.8/site-packages/pandas/core/frame.py:4308: SettingWithCopyWarning: \n",
      "A value is trying to be set on a copy of a slice from a DataFrame\n",
      "\n",
      "See the caveats in the documentation: https://pandas.pydata.org/pandas-docs/stable/user_guide/indexing.html#returning-a-view-versus-a-copy\n",
      "  return super().drop(\n",
      "/opt/anaconda3/lib/python3.8/site-packages/pandas/core/frame.py:4308: SettingWithCopyWarning: \n",
      "A value is trying to be set on a copy of a slice from a DataFrame\n",
      "\n",
      "See the caveats in the documentation: https://pandas.pydata.org/pandas-docs/stable/user_guide/indexing.html#returning-a-view-versus-a-copy\n",
      "  return super().drop(\n",
      "/opt/anaconda3/lib/python3.8/site-packages/pandas/core/frame.py:4308: SettingWithCopyWarning: \n",
      "A value is trying to be set on a copy of a slice from a DataFrame\n",
      "\n",
      "See the caveats in the documentation: https://pandas.pydata.org/pandas-docs/stable/user_guide/indexing.html#returning-a-view-versus-a-copy\n",
      "  return super().drop(\n",
      "/opt/anaconda3/lib/python3.8/site-packages/pandas/core/frame.py:4308: SettingWithCopyWarning: \n",
      "A value is trying to be set on a copy of a slice from a DataFrame\n",
      "\n",
      "See the caveats in the documentation: https://pandas.pydata.org/pandas-docs/stable/user_guide/indexing.html#returning-a-view-versus-a-copy\n",
      "  return super().drop(\n"
     ]
    }
   ],
   "source": [
    "from Feat_eng import (Y_train, X_train, Y_test, X_test, \n",
    "    c1_train, c2_train, c3_train, c1_test, c2_test, c3_test, \n",
    "    Y_c1train, Y_c2train, Y_c3train, Y_c1test, Y_c2test ,Y_c3test)"
   ]
  },
  {
   "cell_type": "code",
   "execution_count": 3,
   "id": "0321048c",
   "metadata": {},
   "outputs": [
    {
     "name": "stderr",
     "output_type": "stream",
     "text": [
      "/opt/anaconda3/lib/python3.8/site-packages/sklearn/model_selection/_search.py:880: DataConversionWarning: A column-vector y was passed when a 1d array was expected. Please change the shape of y to (n_samples,), for example using ravel().\n",
      "  self.best_estimator_.fit(X, y, **fit_params)\n"
     ]
    },
    {
     "data": {
      "text/plain": [
       "RandomizedSearchCV(cv=5, estimator=RandomForestRegressor(oob_score=True),\n",
       "                   n_iter=25, n_jobs=-1,\n",
       "                   param_distributions={'max_samples': [0.7, 0.8, 0.9],\n",
       "                                        'min_samples_leaf': [6, 7, 8],\n",
       "                                        'min_samples_split': array([ 2,  4,  6,  8, 10, 12, 14, 16, 18, 20, 22, 24, 26, 28, 30]),\n",
       "                                        'n_estimators': array([10, 11, 12, 13, 14, 15, 16, 17, 18, 19])})"
      ]
     },
     "execution_count": 3,
     "metadata": {},
     "output_type": "execute_result"
    }
   ],
   "source": [
    "# Randomized parameter grid search on all features\n",
    "\n",
    "rf = RandomForestRegressor(bootstrap = True, oob_score=True)\n",
    "params = {\"min_samples_leaf\": [6,7,8], \n",
    "          \"min_samples_split\": np.linspace(start=2, stop=30, num=15, dtype=int), \n",
    "          \"n_estimators\": np.arange(10, 20, 1), \n",
    "          \"max_samples\": [.7,.8,.9]}\n",
    "rf_random = RandomizedSearchCV(rf, params, n_iter=25, cv=5, n_jobs=-1)\n",
    "\n",
    "rf_random.fit(X_train,Y_train)"
   ]
  },
  {
   "cell_type": "code",
   "execution_count": 4,
   "id": "56d92aa2",
   "metadata": {},
   "outputs": [],
   "source": [
    "# Run a PCA on all data:\n",
    "scaler_pca = StandardScaler().fit(X_train)\n",
    "features = scaler_pca.transform(X_train)\n",
    "df1_scal = pd.DataFrame(features, columns = X_train.columns)\n",
    "\n",
    "pca = PCA(n_components = 0.95)\n",
    "df_reduced = pca.fit_transform(df1_scal)\n",
    "\n",
    "df_reduced = pd.DataFrame(pca.components_, columns = X_train.columns, index = list(range(1,df_reduced.shape[1]+1)))\n",
    "df_reduced = df_reduced.apply(lambda x: abs(x))\n",
    "\n",
    "feat = []\n",
    "for i in range(0,df_reduced.shape[0]):\n",
    "    ff = df_reduced.iloc[i].idxmax()\n",
    "    df_reduced.drop(ff, inplace = True, axis = 1)\n",
    "    feat.append(ff)\n",
    "\n",
    "feat.append('log_value')\n",
    "X_PCA_train = X_train[feat]\n",
    "X_PCA_test = X_test[feat]\n"
   ]
  },
  {
   "cell_type": "code",
   "execution_count": 5,
   "id": "e83e63ed",
   "metadata": {},
   "outputs": [
    {
     "name": "stderr",
     "output_type": "stream",
     "text": [
      "/opt/anaconda3/lib/python3.8/site-packages/sklearn/model_selection/_search.py:880: DataConversionWarning: A column-vector y was passed when a 1d array was expected. Please change the shape of y to (n_samples,), for example using ravel().\n",
      "  self.best_estimator_.fit(X, y, **fit_params)\n"
     ]
    },
    {
     "data": {
      "text/plain": [
       "RandomizedSearchCV(cv=5, estimator=RandomForestRegressor(oob_score=True),\n",
       "                   n_iter=50, n_jobs=-1,\n",
       "                   param_distributions={'max_samples': [0.4, 0.5, 0.6, 0.7,\n",
       "                                                        0.8],\n",
       "                                        'min_samples_leaf': [4, 5, 6, 7, 8],\n",
       "                                        'min_samples_split': array([ 2,  4,  6,  8, 10, 12, 14, 16, 18, 20, 22, 24, 26, 28, 30]),\n",
       "                                        'n_estimators': [50, 100, 150, 200]})"
      ]
     },
     "execution_count": 5,
     "metadata": {},
     "output_type": "execute_result"
    }
   ],
   "source": [
    "# Randomized parameter grid search for PCA on all data:\n",
    "rf2 = RandomForestRegressor(bootstrap = True, oob_score=True)\n",
    "params = {\"min_samples_leaf\": [4,5,6,7,8], \n",
    "          \"min_samples_split\": np.linspace(start=2, stop=30, num=15, dtype=int), \n",
    "          \"n_estimators\": [50, 100, 150, 200], \n",
    "          \"max_samples\": [.4,.5,.6,.7,.8]}\n",
    "rf2_random = RandomizedSearchCV(rf2, params, n_iter=50, cv=5, n_jobs=-1)\n",
    "\n",
    "rf2_random.fit(X_PCA_train,Y_train)"
   ]
  },
  {
   "cell_type": "code",
   "execution_count": 6,
   "id": "20d9f9f5",
   "metadata": {
    "scrolled": true
   },
   "outputs": [
    {
     "name": "stdout",
     "output_type": "stream",
     "text": [
      "{'n_estimators': 19, 'min_samples_split': 8, 'min_samples_leaf': 7, 'max_samples': 0.9}\n",
      "0.9789359852215291\n",
      "The training RMSE is: 50.4575879615785\n",
      "The test RMSE is: 75.36390298322046\n"
     ]
    }
   ],
   "source": [
    "# Results of Random Forest on all features and data\n",
    "print(rf_random.best_params_)\n",
    "print(rf_random.best_score_)\n",
    "Y_pred = rf_random.predict(X_train)\n",
    "pred_unlog = np.exp(Y_pred)\n",
    "Y_unlog = np.exp(Y_train)\n",
    "train_RMSE = np.sqrt(mean_squared_error(Y_unlog, pred_unlog))\n",
    "print('The training RMSE is:', train_RMSE)\n",
    "Y_pred = rf_random.predict(X_test)\n",
    "pred_unlog = np.exp(Y_pred)\n",
    "Y_unlog = np.exp(Y_test)\n",
    "test_RMSE = np.sqrt(mean_squared_error(Y_unlog, pred_unlog))\n",
    "print('The test RMSE is:', test_RMSE)"
   ]
  },
  {
   "cell_type": "code",
   "execution_count": 7,
   "id": "9a38d551",
   "metadata": {},
   "outputs": [
    {
     "data": {
      "text/html": [
       "<div>\n",
       "<style scoped>\n",
       "    .dataframe tbody tr th:only-of-type {\n",
       "        vertical-align: middle;\n",
       "    }\n",
       "\n",
       "    .dataframe tbody tr th {\n",
       "        vertical-align: top;\n",
       "    }\n",
       "\n",
       "    .dataframe thead th {\n",
       "        text-align: right;\n",
       "    }\n",
       "</style>\n",
       "<table border=\"1\" class=\"dataframe\">\n",
       "  <thead>\n",
       "    <tr style=\"text-align: right;\">\n",
       "      <th></th>\n",
       "      <th>all</th>\n",
       "    </tr>\n",
       "  </thead>\n",
       "  <tbody>\n",
       "    <tr>\n",
       "      <th>RMSE_train</th>\n",
       "      <td>50.457588</td>\n",
       "    </tr>\n",
       "    <tr>\n",
       "      <th>RMSE_test</th>\n",
       "      <td>75.363903</td>\n",
       "    </tr>\n",
       "    <tr>\n",
       "      <th>R2_train</th>\n",
       "      <td>0.978936</td>\n",
       "    </tr>\n",
       "    <tr>\n",
       "      <th>R2_test</th>\n",
       "      <td>0.988983</td>\n",
       "    </tr>\n",
       "  </tbody>\n",
       "</table>\n",
       "</div>"
      ],
      "text/plain": [
       "                  all\n",
       "RMSE_train  50.457588\n",
       "RMSE_test   75.363903\n",
       "R2_train     0.978936\n",
       "R2_test      0.988983"
      ]
     },
     "execution_count": 7,
     "metadata": {},
     "output_type": "execute_result"
    }
   ],
   "source": [
    "# Create a dictionary of the results\n",
    "r2_train = rf_random.best_score_\n",
    "r2_test = rf_random.score(X_test, Y_test)\n",
    "rf_output = pd.DataFrame()\n",
    "rf_output['all'] = [train_RMSE, test_RMSE, r2_train, r2_test]\n",
    "rf_output.index = ['RMSE_train', 'RMSE_test', 'R2_train', 'R2_test']\n",
    "rf_output"
   ]
  },
  {
   "cell_type": "code",
   "execution_count": 8,
   "id": "c372ed5d",
   "metadata": {},
   "outputs": [
    {
     "name": "stdout",
     "output_type": "stream",
     "text": [
      "{'n_estimators': 150, 'min_samples_split': 12, 'min_samples_leaf': 7, 'max_samples': 0.6}\n",
      "0.979525803250505\n",
      "The training RMSE is: 56.80838419033132\n",
      "The test RMSE is: 73.56766046367797\n"
     ]
    }
   ],
   "source": [
    "# Results of Random Forest on all features with PCA\n",
    "print(rf2_random.best_params_)\n",
    "print(rf2_random.best_score_)\n",
    "Y_pred = rf2_random.predict(X_PCA_train)\n",
    "pred_unlog = np.exp(Y_pred)\n",
    "Y_unlog = np.exp(Y_train)\n",
    "train_RMSE = np.sqrt(mean_squared_error(Y_unlog, pred_unlog))\n",
    "print('The training RMSE is:', train_RMSE)\n",
    "Y_pred = rf2_random.predict(X_PCA_test)\n",
    "pred_unlog = np.exp(Y_pred)\n",
    "Y_unlog = np.exp(Y_test)\n",
    "test_RMSE = np.sqrt(mean_squared_error(Y_unlog, pred_unlog))\n",
    "print('The test RMSE is:', test_RMSE)"
   ]
  },
  {
   "cell_type": "code",
   "execution_count": 9,
   "id": "6874d68f",
   "metadata": {},
   "outputs": [
    {
     "data": {
      "text/html": [
       "<div>\n",
       "<style scoped>\n",
       "    .dataframe tbody tr th:only-of-type {\n",
       "        vertical-align: middle;\n",
       "    }\n",
       "\n",
       "    .dataframe tbody tr th {\n",
       "        vertical-align: top;\n",
       "    }\n",
       "\n",
       "    .dataframe thead th {\n",
       "        text-align: right;\n",
       "    }\n",
       "</style>\n",
       "<table border=\"1\" class=\"dataframe\">\n",
       "  <thead>\n",
       "    <tr style=\"text-align: right;\">\n",
       "      <th></th>\n",
       "      <th>all</th>\n",
       "      <th>All_PCA</th>\n",
       "    </tr>\n",
       "  </thead>\n",
       "  <tbody>\n",
       "    <tr>\n",
       "      <th>RMSE_train</th>\n",
       "      <td>50.457588</td>\n",
       "      <td>56.808384</td>\n",
       "    </tr>\n",
       "    <tr>\n",
       "      <th>RMSE_test</th>\n",
       "      <td>75.363903</td>\n",
       "      <td>73.567660</td>\n",
       "    </tr>\n",
       "    <tr>\n",
       "      <th>R2_train</th>\n",
       "      <td>0.978936</td>\n",
       "      <td>0.979526</td>\n",
       "    </tr>\n",
       "    <tr>\n",
       "      <th>R2_test</th>\n",
       "      <td>0.988983</td>\n",
       "      <td>0.989525</td>\n",
       "    </tr>\n",
       "  </tbody>\n",
       "</table>\n",
       "</div>"
      ],
      "text/plain": [
       "                  all    All_PCA\n",
       "RMSE_train  50.457588  56.808384\n",
       "RMSE_test   75.363903  73.567660\n",
       "R2_train     0.978936   0.979526\n",
       "R2_test      0.988983   0.989525"
      ]
     },
     "execution_count": 9,
     "metadata": {},
     "output_type": "execute_result"
    }
   ],
   "source": [
    "# Create a dictionary of the all_PCA results\n",
    "r2_train = rf2_random.best_score_\n",
    "r2_test = rf2_random.score(X_PCA_test, Y_test)\n",
    "rf_output['All_PCA'] = [train_RMSE, test_RMSE, r2_train, r2_test]\n",
    "rf_output.index = ['RMSE_train', 'RMSE_test', 'R2_train', 'R2_test']\n",
    "rf_output"
   ]
  },
  {
   "cell_type": "code",
   "execution_count": 10,
   "id": "5971b811",
   "metadata": {},
   "outputs": [],
   "source": [
    "# Create pickle files for both random forest models\n",
    "import pickle\n",
    "pickle.dump(rf_random, open('rf_all.pkl','wb'))\n",
    "pickle.dump(rf2_random, open('rf_all_PCA.pkl','wb'))"
   ]
  },
  {
   "cell_type": "markdown",
   "id": "5a71d643",
   "metadata": {},
   "source": [
    "## Cluster 1 Random Forest"
   ]
  },
  {
   "cell_type": "code",
   "execution_count": 11,
   "id": "b3a35b79",
   "metadata": {},
   "outputs": [
    {
     "name": "stderr",
     "output_type": "stream",
     "text": [
      "/opt/anaconda3/lib/python3.8/site-packages/sklearn/model_selection/_search.py:880: DataConversionWarning: A column-vector y was passed when a 1d array was expected. Please change the shape of y to (n_samples,), for example using ravel().\n",
      "  self.best_estimator_.fit(X, y, **fit_params)\n"
     ]
    },
    {
     "data": {
      "text/plain": [
       "RandomizedSearchCV(cv=5, estimator=RandomForestRegressor(oob_score=True),\n",
       "                   n_iter=50, n_jobs=-1,\n",
       "                   param_distributions={'max_samples': [0.4, 0.5, 0.6, 0.7,\n",
       "                                                        0.8],\n",
       "                                        'min_samples_leaf': [4, 5, 6, 7, 8],\n",
       "                                        'min_samples_split': array([ 2,  4,  6,  8, 10, 12, 14, 16, 18, 20, 22, 24, 26, 28, 30]),\n",
       "                                        'n_estimators': [50, 100, 150, 200]})"
      ]
     },
     "execution_count": 11,
     "metadata": {},
     "output_type": "execute_result"
    }
   ],
   "source": [
    "# Randomized parameter grid search for Cluster 1:\n",
    "rf = RandomForestRegressor(bootstrap = True, oob_score=True)\n",
    "params = {\"min_samples_leaf\": [4,5,6,7,8], \n",
    "          \"min_samples_split\": np.linspace(start=2, stop=30, num=15, dtype=int), \n",
    "          \"n_estimators\": [50, 100, 150, 200], \n",
    "          \"max_samples\": [.4,.5,.6,.7,.8]}\n",
    "rf1= RandomizedSearchCV(rf, params, n_iter=50, cv=5, n_jobs=-1)\n",
    "\n",
    "rf1.fit(c1_train,Y_c1train)"
   ]
  },
  {
   "cell_type": "code",
   "execution_count": 12,
   "id": "9362f3f4",
   "metadata": {},
   "outputs": [
    {
     "name": "stdout",
     "output_type": "stream",
     "text": [
      "{'n_estimators': 150, 'min_samples_split': 8, 'min_samples_leaf': 5, 'max_samples': 0.8}\n",
      "0.959260713623913\n",
      "The training RMSE is: 61.090916689244445\n",
      "The test RMSE is: 79.83897507338445\n"
     ]
    }
   ],
   "source": [
    "# Results of Random Forest on Cluster 1:\n",
    "print(rf1.best_params_)\n",
    "print(rf1.best_score_)\n",
    "Y_pred = rf1.predict(c1_train)\n",
    "pred_unlog = np.exp(Y_pred)\n",
    "Y_unlog = np.exp(Y_c1train)\n",
    "train_RMSE = np.sqrt(mean_squared_error(Y_unlog, pred_unlog))\n",
    "print('The training RMSE is:', train_RMSE)\n",
    "Y_pred = rf1.predict(c1_test)\n",
    "pred_unlog = np.exp(Y_pred)\n",
    "Y_unlog = np.exp(Y_c1test)\n",
    "test_RMSE = np.sqrt(mean_squared_error(Y_unlog, pred_unlog))\n",
    "print('The test RMSE is:', test_RMSE)"
   ]
  },
  {
   "cell_type": "code",
   "execution_count": 13,
   "id": "48544f9b",
   "metadata": {},
   "outputs": [
    {
     "data": {
      "text/html": [
       "<div>\n",
       "<style scoped>\n",
       "    .dataframe tbody tr th:only-of-type {\n",
       "        vertical-align: middle;\n",
       "    }\n",
       "\n",
       "    .dataframe tbody tr th {\n",
       "        vertical-align: top;\n",
       "    }\n",
       "\n",
       "    .dataframe thead th {\n",
       "        text-align: right;\n",
       "    }\n",
       "</style>\n",
       "<table border=\"1\" class=\"dataframe\">\n",
       "  <thead>\n",
       "    <tr style=\"text-align: right;\">\n",
       "      <th></th>\n",
       "      <th>all</th>\n",
       "      <th>All_PCA</th>\n",
       "      <th>Cluster_1</th>\n",
       "    </tr>\n",
       "  </thead>\n",
       "  <tbody>\n",
       "    <tr>\n",
       "      <th>RMSE_train</th>\n",
       "      <td>50.457588</td>\n",
       "      <td>56.808384</td>\n",
       "      <td>61.090917</td>\n",
       "    </tr>\n",
       "    <tr>\n",
       "      <th>RMSE_test</th>\n",
       "      <td>75.363903</td>\n",
       "      <td>73.567660</td>\n",
       "      <td>79.838975</td>\n",
       "    </tr>\n",
       "    <tr>\n",
       "      <th>R2_train</th>\n",
       "      <td>0.978936</td>\n",
       "      <td>0.979526</td>\n",
       "      <td>0.959261</td>\n",
       "    </tr>\n",
       "    <tr>\n",
       "      <th>R2_test</th>\n",
       "      <td>0.988983</td>\n",
       "      <td>0.989525</td>\n",
       "      <td>0.985582</td>\n",
       "    </tr>\n",
       "  </tbody>\n",
       "</table>\n",
       "</div>"
      ],
      "text/plain": [
       "                  all    All_PCA  Cluster_1\n",
       "RMSE_train  50.457588  56.808384  61.090917\n",
       "RMSE_test   75.363903  73.567660  79.838975\n",
       "R2_train     0.978936   0.979526   0.959261\n",
       "R2_test      0.988983   0.989525   0.985582"
      ]
     },
     "execution_count": 13,
     "metadata": {},
     "output_type": "execute_result"
    }
   ],
   "source": [
    "# Create a dictionary of the cluster 1 results\n",
    "r2_train = rf1.best_score_\n",
    "r2_test = rf1.score(c1_test, Y_c1test)\n",
    "rf_output['Cluster_1'] = [train_RMSE, test_RMSE, r2_train, r2_test]\n",
    "rf_output.index = ['RMSE_train', 'RMSE_test', 'R2_train', 'R2_test']\n",
    "rf_output"
   ]
  },
  {
   "cell_type": "markdown",
   "id": "8464a338",
   "metadata": {},
   "source": [
    "## Cluster 2 Random Forest"
   ]
  },
  {
   "cell_type": "code",
   "execution_count": 14,
   "id": "0be4fbc5",
   "metadata": {},
   "outputs": [
    {
     "name": "stderr",
     "output_type": "stream",
     "text": [
      "/opt/anaconda3/lib/python3.8/site-packages/sklearn/model_selection/_search.py:880: DataConversionWarning: A column-vector y was passed when a 1d array was expected. Please change the shape of y to (n_samples,), for example using ravel().\n",
      "  self.best_estimator_.fit(X, y, **fit_params)\n"
     ]
    },
    {
     "data": {
      "text/plain": [
       "RandomizedSearchCV(cv=5, estimator=RandomForestRegressor(oob_score=True),\n",
       "                   n_iter=50, n_jobs=-1,\n",
       "                   param_distributions={'max_samples': [0.4, 0.5, 0.6, 0.7,\n",
       "                                                        0.8],\n",
       "                                        'min_samples_leaf': [4, 5, 6, 7, 8],\n",
       "                                        'min_samples_split': array([ 2,  4,  6,  8, 10, 12, 14, 16, 18, 20, 22, 24, 26, 28, 30]),\n",
       "                                        'n_estimators': [50, 100, 150, 200]})"
      ]
     },
     "execution_count": 14,
     "metadata": {},
     "output_type": "execute_result"
    }
   ],
   "source": [
    "# Randomized parameter grid search for Cluster 2:\n",
    "rf = RandomForestRegressor(bootstrap = True, oob_score=True)\n",
    "params = {\"min_samples_leaf\": [4,5,6,7,8], \n",
    "          \"min_samples_split\": np.linspace(start=2, stop=30, num=15, dtype=int), \n",
    "          \"n_estimators\": [50, 100, 150, 200], \n",
    "          \"max_samples\": [.4,.5,.6,.7,.8]}\n",
    "rf2 = RandomizedSearchCV(rf, params, n_iter=50, cv=5, n_jobs=-1)\n",
    "\n",
    "rf2.fit(c2_train,Y_c2train)"
   ]
  },
  {
   "cell_type": "code",
   "execution_count": 15,
   "id": "d6e0164a",
   "metadata": {},
   "outputs": [
    {
     "name": "stdout",
     "output_type": "stream",
     "text": [
      "{'n_estimators': 150, 'min_samples_split': 12, 'min_samples_leaf': 5, 'max_samples': 0.5}\n",
      "0.9760338070809083\n",
      "The training RMSE is: 52.06657371283588\n",
      "The test RMSE is: 71.92204130549759\n"
     ]
    }
   ],
   "source": [
    "# Results of Random Forest on Cluster 2:\n",
    "print(rf2.best_params_)\n",
    "print(rf2.best_score_)\n",
    "Y_pred = rf2.predict(c2_train)\n",
    "pred_unlog = np.exp(Y_pred)\n",
    "Y_unlog = np.exp(Y_c2train)\n",
    "train_RMSE = np.sqrt(mean_squared_error(Y_unlog, pred_unlog))\n",
    "print('The training RMSE is:', train_RMSE)\n",
    "Y_pred = rf2.predict(c2_test)\n",
    "pred_unlog = np.exp(Y_pred)\n",
    "Y_unlog = np.exp(Y_c2test)\n",
    "test_RMSE = np.sqrt(mean_squared_error(Y_unlog, pred_unlog))\n",
    "print('The test RMSE is:', test_RMSE)"
   ]
  },
  {
   "cell_type": "code",
   "execution_count": 16,
   "id": "8f31ba50",
   "metadata": {},
   "outputs": [
    {
     "data": {
      "text/html": [
       "<div>\n",
       "<style scoped>\n",
       "    .dataframe tbody tr th:only-of-type {\n",
       "        vertical-align: middle;\n",
       "    }\n",
       "\n",
       "    .dataframe tbody tr th {\n",
       "        vertical-align: top;\n",
       "    }\n",
       "\n",
       "    .dataframe thead th {\n",
       "        text-align: right;\n",
       "    }\n",
       "</style>\n",
       "<table border=\"1\" class=\"dataframe\">\n",
       "  <thead>\n",
       "    <tr style=\"text-align: right;\">\n",
       "      <th></th>\n",
       "      <th>all</th>\n",
       "      <th>All_PCA</th>\n",
       "      <th>Cluster_1</th>\n",
       "      <th>Cluster_2</th>\n",
       "    </tr>\n",
       "  </thead>\n",
       "  <tbody>\n",
       "    <tr>\n",
       "      <th>RMSE_train</th>\n",
       "      <td>50.457588</td>\n",
       "      <td>56.808384</td>\n",
       "      <td>61.090917</td>\n",
       "      <td>52.066574</td>\n",
       "    </tr>\n",
       "    <tr>\n",
       "      <th>RMSE_test</th>\n",
       "      <td>75.363903</td>\n",
       "      <td>73.567660</td>\n",
       "      <td>79.838975</td>\n",
       "      <td>71.922041</td>\n",
       "    </tr>\n",
       "    <tr>\n",
       "      <th>R2_train</th>\n",
       "      <td>0.978936</td>\n",
       "      <td>0.979526</td>\n",
       "      <td>0.959261</td>\n",
       "      <td>0.976034</td>\n",
       "    </tr>\n",
       "    <tr>\n",
       "      <th>R2_test</th>\n",
       "      <td>0.988983</td>\n",
       "      <td>0.989525</td>\n",
       "      <td>0.985582</td>\n",
       "      <td>0.986566</td>\n",
       "    </tr>\n",
       "  </tbody>\n",
       "</table>\n",
       "</div>"
      ],
      "text/plain": [
       "                  all    All_PCA  Cluster_1  Cluster_2\n",
       "RMSE_train  50.457588  56.808384  61.090917  52.066574\n",
       "RMSE_test   75.363903  73.567660  79.838975  71.922041\n",
       "R2_train     0.978936   0.979526   0.959261   0.976034\n",
       "R2_test      0.988983   0.989525   0.985582   0.986566"
      ]
     },
     "execution_count": 16,
     "metadata": {},
     "output_type": "execute_result"
    }
   ],
   "source": [
    "# Create a dictionary of the cluster 2 results\n",
    "r2_train = rf2.best_score_\n",
    "r2_test = rf2.score(c2_test, Y_c2test)\n",
    "rf_output['Cluster_2'] = [train_RMSE, test_RMSE, r2_train, r2_test]\n",
    "rf_output.index = ['RMSE_train', 'RMSE_test', 'R2_train', 'R2_test']\n",
    "rf_output"
   ]
  },
  {
   "cell_type": "markdown",
   "id": "98b2f64f",
   "metadata": {},
   "source": [
    "## Cluster 3 Random Forest"
   ]
  },
  {
   "cell_type": "code",
   "execution_count": 17,
   "id": "f1048e75",
   "metadata": {},
   "outputs": [
    {
     "name": "stderr",
     "output_type": "stream",
     "text": [
      "/opt/anaconda3/lib/python3.8/site-packages/sklearn/model_selection/_search.py:880: DataConversionWarning: A column-vector y was passed when a 1d array was expected. Please change the shape of y to (n_samples,), for example using ravel().\n",
      "  self.best_estimator_.fit(X, y, **fit_params)\n"
     ]
    },
    {
     "data": {
      "text/plain": [
       "RandomizedSearchCV(cv=5, estimator=RandomForestRegressor(oob_score=True),\n",
       "                   n_iter=50, n_jobs=-1,\n",
       "                   param_distributions={'max_samples': [0.4, 0.5, 0.6, 0.7,\n",
       "                                                        0.8],\n",
       "                                        'min_samples_leaf': [4, 5, 6, 7, 8],\n",
       "                                        'min_samples_split': array([ 2,  4,  6,  8, 10, 12, 14, 16, 18, 20, 22, 24, 26, 28, 30]),\n",
       "                                        'n_estimators': [50, 100, 150, 200]})"
      ]
     },
     "execution_count": 17,
     "metadata": {},
     "output_type": "execute_result"
    }
   ],
   "source": [
    "# Randomized parameter grid search for Cluster 3:\n",
    "rf = RandomForestRegressor(bootstrap = True, oob_score=True)\n",
    "params = {\"min_samples_leaf\": [4,5,6,7,8], \n",
    "          \"min_samples_split\": np.linspace(start=2, stop=30, num=15, dtype=int), \n",
    "          \"n_estimators\": [50, 100, 150, 200], \n",
    "          \"max_samples\": [.4,.5,.6,.7,.8]}\n",
    "rf3 = RandomizedSearchCV(rf, params, n_iter=50, cv=5, n_jobs=-1)\n",
    "\n",
    "rf3.fit(c3_train,Y_c3train)"
   ]
  },
  {
   "cell_type": "code",
   "execution_count": 18,
   "id": "b82b5adb",
   "metadata": {},
   "outputs": [
    {
     "name": "stdout",
     "output_type": "stream",
     "text": [
      "{'n_estimators': 150, 'min_samples_split': 4, 'min_samples_leaf': 5, 'max_samples': 0.8}\n",
      "0.9653572041591522\n",
      "The training RMSE is: 43.78977584568195\n",
      "The test RMSE is: 85.3710224090214\n"
     ]
    }
   ],
   "source": [
    "# Results of Random Forest on Cluster 3:\n",
    "print(rf3.best_params_)\n",
    "print(rf3.best_score_)\n",
    "Y_pred = rf3.predict(c3_train)\n",
    "pred_unlog = np.exp(Y_pred)\n",
    "Y_unlog = np.exp(Y_c3train)\n",
    "train_RMSE = np.sqrt(mean_squared_error(Y_unlog, pred_unlog))\n",
    "print('The training RMSE is:', train_RMSE)\n",
    "Y_pred = rf3.predict(c3_test)\n",
    "pred_unlog = np.exp(Y_pred)\n",
    "Y_unlog = np.exp(Y_c3test)\n",
    "test_RMSE = np.sqrt(mean_squared_error(Y_unlog, pred_unlog))\n",
    "print('The test RMSE is:', test_RMSE)"
   ]
  },
  {
   "cell_type": "code",
   "execution_count": 19,
   "id": "edb415dd",
   "metadata": {},
   "outputs": [
    {
     "data": {
      "text/html": [
       "<div>\n",
       "<style scoped>\n",
       "    .dataframe tbody tr th:only-of-type {\n",
       "        vertical-align: middle;\n",
       "    }\n",
       "\n",
       "    .dataframe tbody tr th {\n",
       "        vertical-align: top;\n",
       "    }\n",
       "\n",
       "    .dataframe thead th {\n",
       "        text-align: right;\n",
       "    }\n",
       "</style>\n",
       "<table border=\"1\" class=\"dataframe\">\n",
       "  <thead>\n",
       "    <tr style=\"text-align: right;\">\n",
       "      <th></th>\n",
       "      <th>all</th>\n",
       "      <th>All_PCA</th>\n",
       "      <th>Cluster_1</th>\n",
       "      <th>Cluster_2</th>\n",
       "      <th>Cluster_3</th>\n",
       "    </tr>\n",
       "  </thead>\n",
       "  <tbody>\n",
       "    <tr>\n",
       "      <th>RMSE_train</th>\n",
       "      <td>50.457588</td>\n",
       "      <td>56.808384</td>\n",
       "      <td>61.090917</td>\n",
       "      <td>52.066574</td>\n",
       "      <td>43.789776</td>\n",
       "    </tr>\n",
       "    <tr>\n",
       "      <th>RMSE_test</th>\n",
       "      <td>75.363903</td>\n",
       "      <td>73.567660</td>\n",
       "      <td>79.838975</td>\n",
       "      <td>71.922041</td>\n",
       "      <td>85.371022</td>\n",
       "    </tr>\n",
       "    <tr>\n",
       "      <th>R2_train</th>\n",
       "      <td>0.978936</td>\n",
       "      <td>0.979526</td>\n",
       "      <td>0.959261</td>\n",
       "      <td>0.976034</td>\n",
       "      <td>0.965357</td>\n",
       "    </tr>\n",
       "    <tr>\n",
       "      <th>R2_test</th>\n",
       "      <td>0.988983</td>\n",
       "      <td>0.989525</td>\n",
       "      <td>0.985582</td>\n",
       "      <td>0.986566</td>\n",
       "      <td>0.984261</td>\n",
       "    </tr>\n",
       "  </tbody>\n",
       "</table>\n",
       "</div>"
      ],
      "text/plain": [
       "                  all    All_PCA  Cluster_1  Cluster_2  Cluster_3\n",
       "RMSE_train  50.457588  56.808384  61.090917  52.066574  43.789776\n",
       "RMSE_test   75.363903  73.567660  79.838975  71.922041  85.371022\n",
       "R2_train     0.978936   0.979526   0.959261   0.976034   0.965357\n",
       "R2_test      0.988983   0.989525   0.985582   0.986566   0.984261"
      ]
     },
     "execution_count": 19,
     "metadata": {},
     "output_type": "execute_result"
    }
   ],
   "source": [
    "# Create a dictionary of the cluster 3 results\n",
    "r2_train = rf3.best_score_\n",
    "r2_test = rf3.score(c3_test, Y_c3test)\n",
    "rf_output['Cluster_3'] = [train_RMSE, test_RMSE, r2_train, r2_test]\n",
    "rf_output.index = ['RMSE_train', 'RMSE_test', 'R2_train', 'R2_test']\n",
    "rf_output"
   ]
  },
  {
   "cell_type": "code",
   "execution_count": 20,
   "id": "f3a4efc9",
   "metadata": {},
   "outputs": [],
   "source": [
    "# Create pickle files for all clusters:\n",
    "pickle.dump(rf1, open('rf_cluster1.pkl','wb'))\n",
    "pickle.dump(rf2, open('rf_cluster2.pkl','wb'))\n",
    "pickle.dump(rf3, open('rf_cluster3.pkl','wb'))"
   ]
  },
  {
   "cell_type": "markdown",
   "id": "029f9213",
   "metadata": {},
   "source": [
    "# Cluster with PCA\n",
    "## Cluster 1 with PCA"
   ]
  },
  {
   "cell_type": "code",
   "execution_count": 22,
   "id": "2ead2bbf",
   "metadata": {},
   "outputs": [
    {
     "name": "stderr",
     "output_type": "stream",
     "text": [
      "/opt/anaconda3/lib/python3.8/site-packages/sklearn/model_selection/_search.py:880: DataConversionWarning: A column-vector y was passed when a 1d array was expected. Please change the shape of y to (n_samples,), for example using ravel().\n",
      "  self.best_estimator_.fit(X, y, **fit_params)\n"
     ]
    },
    {
     "data": {
      "text/plain": [
       "RandomizedSearchCV(cv=5, estimator=RandomForestRegressor(oob_score=True),\n",
       "                   n_iter=50, n_jobs=-1,\n",
       "                   param_distributions={'max_samples': [0.4, 0.5, 0.6, 0.7,\n",
       "                                                        0.8],\n",
       "                                        'min_samples_leaf': [4, 5, 6, 7, 8],\n",
       "                                        'min_samples_split': array([ 2,  4,  6,  8, 10, 12, 14, 16, 18, 20, 22, 24, 26, 28, 30]),\n",
       "                                        'n_estimators': [50, 100, 150, 200]})"
      ]
     },
     "execution_count": 22,
     "metadata": {},
     "output_type": "execute_result"
    }
   ],
   "source": [
    "# Randomized parameter grid search for Cluster 1 with PCA:\n",
    "c1_PCA_train = c1_train[feat]\n",
    "c1_PCA_test = c1_test[feat]\n",
    "rf = RandomForestRegressor(bootstrap = True, oob_score=True)\n",
    "params = {\"min_samples_leaf\": [4,5,6,7,8], \n",
    "          \"min_samples_split\": np.linspace(start=2, stop=30, num=15, dtype=int), \n",
    "          \"n_estimators\": [50, 100, 150, 200], \n",
    "          \"max_samples\": [.4,.5,.6,.7,.8]}\n",
    "rf1_pca= RandomizedSearchCV(rf, params, n_iter=50, cv=5, n_jobs=-1)\n",
    "\n",
    "rf1_pca.fit(c1_PCA_train,Y_c1train)\n"
   ]
  },
  {
   "cell_type": "code",
   "execution_count": 23,
   "id": "9362f3f4",
   "metadata": {},
   "outputs": [
    {
     "name": "stdout",
     "output_type": "stream",
     "text": [
      "{'n_estimators': 200, 'min_samples_split': 4, 'min_samples_leaf': 6, 'max_samples': 0.8}\n",
      "0.9600354465681218\n",
      "The training RMSE is: 66.82546911538869\n",
      "The test RMSE is: 78.55002499894074\n"
     ]
    }
   ],
   "source": [
    "# Results of Random Forest on Cluster 1 with PCA:\n",
    "print(rf1_pca.best_params_)\n",
    "print(rf1_pca.best_score_)\n",
    "Y_pred = rf1_pca.predict(c1_PCA_train)\n",
    "pred_unlog = np.exp(Y_pred)\n",
    "Y_unlog = np.exp(Y_c1train)\n",
    "train_RMSE = np.sqrt(mean_squared_error(Y_unlog, pred_unlog))\n",
    "print('The training RMSE is:', train_RMSE)\n",
    "Y_pred = rf1_pca.predict(c1_PCA_test)\n",
    "pred_unlog = np.exp(Y_pred)\n",
    "Y_unlog = np.exp(Y_c1test)\n",
    "test_RMSE = np.sqrt(mean_squared_error(Y_unlog, pred_unlog))\n",
    "print('The test RMSE is:', test_RMSE)"
   ]
  },
  {
   "cell_type": "code",
   "execution_count": 24,
   "id": "48544f9b",
   "metadata": {},
   "outputs": [
    {
     "data": {
      "text/html": [
       "<div>\n",
       "<style scoped>\n",
       "    .dataframe tbody tr th:only-of-type {\n",
       "        vertical-align: middle;\n",
       "    }\n",
       "\n",
       "    .dataframe tbody tr th {\n",
       "        vertical-align: top;\n",
       "    }\n",
       "\n",
       "    .dataframe thead th {\n",
       "        text-align: right;\n",
       "    }\n",
       "</style>\n",
       "<table border=\"1\" class=\"dataframe\">\n",
       "  <thead>\n",
       "    <tr style=\"text-align: right;\">\n",
       "      <th></th>\n",
       "      <th>all</th>\n",
       "      <th>All_PCA</th>\n",
       "      <th>Cluster_1</th>\n",
       "      <th>Cluster_2</th>\n",
       "      <th>Cluster_3</th>\n",
       "      <th>PCA_Cluster_1</th>\n",
       "    </tr>\n",
       "  </thead>\n",
       "  <tbody>\n",
       "    <tr>\n",
       "      <th>RMSE_train</th>\n",
       "      <td>50.457588</td>\n",
       "      <td>56.808384</td>\n",
       "      <td>61.090917</td>\n",
       "      <td>52.066574</td>\n",
       "      <td>43.789776</td>\n",
       "      <td>66.825469</td>\n",
       "    </tr>\n",
       "    <tr>\n",
       "      <th>RMSE_test</th>\n",
       "      <td>75.363903</td>\n",
       "      <td>73.567660</td>\n",
       "      <td>79.838975</td>\n",
       "      <td>71.922041</td>\n",
       "      <td>85.371022</td>\n",
       "      <td>78.550025</td>\n",
       "    </tr>\n",
       "    <tr>\n",
       "      <th>R2_train</th>\n",
       "      <td>0.978936</td>\n",
       "      <td>0.979526</td>\n",
       "      <td>0.959261</td>\n",
       "      <td>0.976034</td>\n",
       "      <td>0.965357</td>\n",
       "      <td>0.960035</td>\n",
       "    </tr>\n",
       "    <tr>\n",
       "      <th>R2_test</th>\n",
       "      <td>0.988983</td>\n",
       "      <td>0.989525</td>\n",
       "      <td>0.985582</td>\n",
       "      <td>0.986566</td>\n",
       "      <td>0.984261</td>\n",
       "      <td>0.986339</td>\n",
       "    </tr>\n",
       "  </tbody>\n",
       "</table>\n",
       "</div>"
      ],
      "text/plain": [
       "                  all    All_PCA  Cluster_1  Cluster_2  Cluster_3  \\\n",
       "RMSE_train  50.457588  56.808384  61.090917  52.066574  43.789776   \n",
       "RMSE_test   75.363903  73.567660  79.838975  71.922041  85.371022   \n",
       "R2_train     0.978936   0.979526   0.959261   0.976034   0.965357   \n",
       "R2_test      0.988983   0.989525   0.985582   0.986566   0.984261   \n",
       "\n",
       "            PCA_Cluster_1  \n",
       "RMSE_train      66.825469  \n",
       "RMSE_test       78.550025  \n",
       "R2_train         0.960035  \n",
       "R2_test          0.986339  "
      ]
     },
     "execution_count": 24,
     "metadata": {},
     "output_type": "execute_result"
    }
   ],
   "source": [
    "# Create a dictionary of the cluster 1 results\n",
    "r2_train = rf1_pca.best_score_\n",
    "r2_test = rf1_pca.score(c1_PCA_test, Y_c1test)\n",
    "rf_output['PCA_Cluster_1'] = [train_RMSE, test_RMSE, r2_train, r2_test]\n",
    "rf_output.index = ['RMSE_train', 'RMSE_test', 'R2_train', 'R2_test']\n",
    "rf_output"
   ]
  },
  {
   "cell_type": "markdown",
   "id": "8464a338",
   "metadata": {},
   "source": [
    "## Cluster 2 with PCA"
   ]
  },
  {
   "cell_type": "code",
   "execution_count": 25,
   "id": "0be4fbc5",
   "metadata": {},
   "outputs": [
    {
     "name": "stderr",
     "output_type": "stream",
     "text": [
      "/opt/anaconda3/lib/python3.8/site-packages/sklearn/model_selection/_search.py:880: DataConversionWarning: A column-vector y was passed when a 1d array was expected. Please change the shape of y to (n_samples,), for example using ravel().\n",
      "  self.best_estimator_.fit(X, y, **fit_params)\n"
     ]
    },
    {
     "data": {
      "text/plain": [
       "RandomizedSearchCV(cv=5, estimator=RandomForestRegressor(oob_score=True),\n",
       "                   n_iter=50, n_jobs=-1,\n",
       "                   param_distributions={'max_samples': [0.4, 0.5, 0.6, 0.7,\n",
       "                                                        0.8],\n",
       "                                        'min_samples_leaf': [4, 5, 6, 7, 8],\n",
       "                                        'min_samples_split': array([ 2,  4,  6,  8, 10, 12, 14, 16, 18, 20, 22, 24, 26, 28, 30]),\n",
       "                                        'n_estimators': [50, 100, 150, 200]})"
      ]
     },
     "execution_count": 25,
     "metadata": {},
     "output_type": "execute_result"
    }
   ],
   "source": [
    "# Randomized parameter grid search for Cluster 2 with PCA:\n",
    "c2_PCA_train = c2_train[feat]\n",
    "c2_PCA_test = c2_test[feat]\n",
    "rf = RandomForestRegressor(bootstrap = True, oob_score=True)\n",
    "params = {\"min_samples_leaf\": [4,5,6,7,8], \n",
    "          \"min_samples_split\": np.linspace(start=2, stop=30, num=15, dtype=int), \n",
    "          \"n_estimators\": [50, 100, 150, 200], \n",
    "          \"max_samples\": [.4,.5,.6,.7,.8]}\n",
    "rf2_pca = RandomizedSearchCV(rf, params, n_iter=50, cv=5, n_jobs=-1)\n",
    "\n",
    "rf2_pca.fit(c2_PCA_train,Y_c2train)"
   ]
  },
  {
   "cell_type": "code",
   "execution_count": 26,
   "id": "d6e0164a",
   "metadata": {},
   "outputs": [
    {
     "name": "stdout",
     "output_type": "stream",
     "text": [
      "{'n_estimators': 100, 'min_samples_split': 4, 'min_samples_leaf': 5, 'max_samples': 0.8}\n",
      "0.976508031867907\n",
      "The training RMSE is: 45.83041879790641\n",
      "The test RMSE is: 71.2190332362072\n"
     ]
    }
   ],
   "source": [
    "# Results of Random Forest on Cluster 2:\n",
    "print(rf2_pca.best_params_)\n",
    "print(rf2_pca.best_score_)\n",
    "Y_pred = rf2_pca.predict(c2_PCA_train)\n",
    "pred_unlog = np.exp(Y_pred)\n",
    "Y_unlog = np.exp(Y_c2train)\n",
    "train_RMSE = np.sqrt(mean_squared_error(Y_unlog, pred_unlog))\n",
    "print('The training RMSE is:', train_RMSE)\n",
    "Y_pred = rf2_pca.predict(c2_PCA_test)\n",
    "pred_unlog = np.exp(Y_pred)\n",
    "Y_unlog = np.exp(Y_c2test)\n",
    "test_RMSE = np.sqrt(mean_squared_error(Y_unlog, pred_unlog))\n",
    "print('The test RMSE is:', test_RMSE)"
   ]
  },
  {
   "cell_type": "code",
   "execution_count": 27,
   "id": "8f31ba50",
   "metadata": {},
   "outputs": [
    {
     "data": {
      "text/html": [
       "<div>\n",
       "<style scoped>\n",
       "    .dataframe tbody tr th:only-of-type {\n",
       "        vertical-align: middle;\n",
       "    }\n",
       "\n",
       "    .dataframe tbody tr th {\n",
       "        vertical-align: top;\n",
       "    }\n",
       "\n",
       "    .dataframe thead th {\n",
       "        text-align: right;\n",
       "    }\n",
       "</style>\n",
       "<table border=\"1\" class=\"dataframe\">\n",
       "  <thead>\n",
       "    <tr style=\"text-align: right;\">\n",
       "      <th></th>\n",
       "      <th>all</th>\n",
       "      <th>All_PCA</th>\n",
       "      <th>Cluster_1</th>\n",
       "      <th>Cluster_2</th>\n",
       "      <th>Cluster_3</th>\n",
       "      <th>PCA_Cluster_1</th>\n",
       "      <th>PCA_Cluster_2</th>\n",
       "    </tr>\n",
       "  </thead>\n",
       "  <tbody>\n",
       "    <tr>\n",
       "      <th>RMSE_train</th>\n",
       "      <td>50.457588</td>\n",
       "      <td>56.808384</td>\n",
       "      <td>61.090917</td>\n",
       "      <td>52.066574</td>\n",
       "      <td>43.789776</td>\n",
       "      <td>66.825469</td>\n",
       "      <td>45.830419</td>\n",
       "    </tr>\n",
       "    <tr>\n",
       "      <th>RMSE_test</th>\n",
       "      <td>75.363903</td>\n",
       "      <td>73.567660</td>\n",
       "      <td>79.838975</td>\n",
       "      <td>71.922041</td>\n",
       "      <td>85.371022</td>\n",
       "      <td>78.550025</td>\n",
       "      <td>71.219033</td>\n",
       "    </tr>\n",
       "    <tr>\n",
       "      <th>R2_train</th>\n",
       "      <td>0.978936</td>\n",
       "      <td>0.979526</td>\n",
       "      <td>0.959261</td>\n",
       "      <td>0.976034</td>\n",
       "      <td>0.965357</td>\n",
       "      <td>0.960035</td>\n",
       "      <td>0.976508</td>\n",
       "    </tr>\n",
       "    <tr>\n",
       "      <th>R2_test</th>\n",
       "      <td>0.988983</td>\n",
       "      <td>0.989525</td>\n",
       "      <td>0.985582</td>\n",
       "      <td>0.986566</td>\n",
       "      <td>0.984261</td>\n",
       "      <td>0.986339</td>\n",
       "      <td>0.986450</td>\n",
       "    </tr>\n",
       "  </tbody>\n",
       "</table>\n",
       "</div>"
      ],
      "text/plain": [
       "                  all    All_PCA  Cluster_1  Cluster_2  Cluster_3  \\\n",
       "RMSE_train  50.457588  56.808384  61.090917  52.066574  43.789776   \n",
       "RMSE_test   75.363903  73.567660  79.838975  71.922041  85.371022   \n",
       "R2_train     0.978936   0.979526   0.959261   0.976034   0.965357   \n",
       "R2_test      0.988983   0.989525   0.985582   0.986566   0.984261   \n",
       "\n",
       "            PCA_Cluster_1  PCA_Cluster_2  \n",
       "RMSE_train      66.825469      45.830419  \n",
       "RMSE_test       78.550025      71.219033  \n",
       "R2_train         0.960035       0.976508  \n",
       "R2_test          0.986339       0.986450  "
      ]
     },
     "execution_count": 27,
     "metadata": {},
     "output_type": "execute_result"
    }
   ],
   "source": [
    "# Create a dictionary of the cluster 2 results\n",
    "r2_train = rf2_pca.best_score_\n",
    "r2_test = rf2_pca.score(c2_PCA_test, Y_c2test)\n",
    "rf_output['PCA_Cluster_2'] = [train_RMSE, test_RMSE, r2_train, r2_test]\n",
    "rf_output.index = ['RMSE_train', 'RMSE_test', 'R2_train', 'R2_test']\n",
    "rf_output"
   ]
  },
  {
   "cell_type": "markdown",
   "id": "98b2f64f",
   "metadata": {},
   "source": [
    "## Cluster 3 with PCA"
   ]
  },
  {
   "cell_type": "code",
   "execution_count": 28,
   "id": "f1048e75",
   "metadata": {},
   "outputs": [
    {
     "name": "stderr",
     "output_type": "stream",
     "text": [
      "/opt/anaconda3/lib/python3.8/site-packages/sklearn/model_selection/_search.py:880: DataConversionWarning: A column-vector y was passed when a 1d array was expected. Please change the shape of y to (n_samples,), for example using ravel().\n",
      "  self.best_estimator_.fit(X, y, **fit_params)\n"
     ]
    },
    {
     "data": {
      "text/plain": [
       "RandomizedSearchCV(cv=5, estimator=RandomForestRegressor(oob_score=True),\n",
       "                   n_iter=50, n_jobs=-1,\n",
       "                   param_distributions={'max_samples': [0.4, 0.5, 0.6, 0.7,\n",
       "                                                        0.8],\n",
       "                                        'min_samples_leaf': [4, 5, 6, 7, 8],\n",
       "                                        'min_samples_split': array([ 2,  4,  6,  8, 10, 12, 14, 16, 18, 20, 22, 24, 26, 28, 30]),\n",
       "                                        'n_estimators': [50, 100, 150, 200]})"
      ]
     },
     "execution_count": 28,
     "metadata": {},
     "output_type": "execute_result"
    }
   ],
   "source": [
    "# Randomized parameter grid search for Cluster 3:\n",
    "c3_PCA_train = c3_train[feat]\n",
    "c3_PCA_test = c3_test[feat]\n",
    "rf = RandomForestRegressor(bootstrap = True, oob_score=True)\n",
    "params = {\"min_samples_leaf\": [4,5,6,7,8], \n",
    "          \"min_samples_split\": np.linspace(start=2, stop=30, num=15, dtype=int), \n",
    "          \"n_estimators\": [50, 100, 150, 200], \n",
    "          \"max_samples\": [.4,.5,.6,.7,.8]}\n",
    "rf3_pca = RandomizedSearchCV(rf, params, n_iter=50, cv=5, n_jobs=-1)\n",
    "\n",
    "rf3_pca.fit(c3_PCA_train,Y_c3train)"
   ]
  },
  {
   "cell_type": "code",
   "execution_count": 29,
   "id": "b82b5adb",
   "metadata": {},
   "outputs": [
    {
     "name": "stdout",
     "output_type": "stream",
     "text": [
      "{'n_estimators': 100, 'min_samples_split': 6, 'min_samples_leaf': 4, 'max_samples': 0.8}\n",
      "0.9669781974385762\n",
      "The training RMSE is: 41.26601321572755\n",
      "The test RMSE is: 83.8169558771746\n"
     ]
    }
   ],
   "source": [
    "# Results of Random Forest on Cluster 3:\n",
    "print(rf3_pca.best_params_)\n",
    "print(rf3_pca.best_score_)\n",
    "Y_pred = rf3_pca.predict(c3_PCA_train)\n",
    "pred_unlog = np.exp(Y_pred)\n",
    "Y_unlog = np.exp(Y_c3train)\n",
    "train_RMSE = np.sqrt(mean_squared_error(Y_unlog, pred_unlog))\n",
    "print('The training RMSE is:', train_RMSE)\n",
    "Y_pred = rf3_pca.predict(c3_PCA_test)\n",
    "pred_unlog = np.exp(Y_pred)\n",
    "Y_unlog = np.exp(Y_c3test)\n",
    "test_RMSE = np.sqrt(mean_squared_error(Y_unlog, pred_unlog))\n",
    "print('The test RMSE is:', test_RMSE)"
   ]
  },
  {
   "cell_type": "code",
   "execution_count": 30,
   "id": "edb415dd",
   "metadata": {},
   "outputs": [
    {
     "data": {
      "text/html": [
       "<div>\n",
       "<style scoped>\n",
       "    .dataframe tbody tr th:only-of-type {\n",
       "        vertical-align: middle;\n",
       "    }\n",
       "\n",
       "    .dataframe tbody tr th {\n",
       "        vertical-align: top;\n",
       "    }\n",
       "\n",
       "    .dataframe thead th {\n",
       "        text-align: right;\n",
       "    }\n",
       "</style>\n",
       "<table border=\"1\" class=\"dataframe\">\n",
       "  <thead>\n",
       "    <tr style=\"text-align: right;\">\n",
       "      <th></th>\n",
       "      <th>all</th>\n",
       "      <th>All_PCA</th>\n",
       "      <th>Cluster_1</th>\n",
       "      <th>Cluster_2</th>\n",
       "      <th>Cluster_3</th>\n",
       "      <th>PCA_Cluster_1</th>\n",
       "      <th>PCA_Cluster_2</th>\n",
       "      <th>PCA_Cluster_3</th>\n",
       "    </tr>\n",
       "  </thead>\n",
       "  <tbody>\n",
       "    <tr>\n",
       "      <th>RMSE_train</th>\n",
       "      <td>50.457588</td>\n",
       "      <td>56.808384</td>\n",
       "      <td>61.090917</td>\n",
       "      <td>52.066574</td>\n",
       "      <td>43.789776</td>\n",
       "      <td>66.825469</td>\n",
       "      <td>45.830419</td>\n",
       "      <td>41.266013</td>\n",
       "    </tr>\n",
       "    <tr>\n",
       "      <th>RMSE_test</th>\n",
       "      <td>75.363903</td>\n",
       "      <td>73.567660</td>\n",
       "      <td>79.838975</td>\n",
       "      <td>71.922041</td>\n",
       "      <td>85.371022</td>\n",
       "      <td>78.550025</td>\n",
       "      <td>71.219033</td>\n",
       "      <td>83.816956</td>\n",
       "    </tr>\n",
       "    <tr>\n",
       "      <th>R2_train</th>\n",
       "      <td>0.978936</td>\n",
       "      <td>0.979526</td>\n",
       "      <td>0.959261</td>\n",
       "      <td>0.976034</td>\n",
       "      <td>0.965357</td>\n",
       "      <td>0.960035</td>\n",
       "      <td>0.976508</td>\n",
       "      <td>0.966978</td>\n",
       "    </tr>\n",
       "    <tr>\n",
       "      <th>R2_test</th>\n",
       "      <td>0.988983</td>\n",
       "      <td>0.989525</td>\n",
       "      <td>0.985582</td>\n",
       "      <td>0.986566</td>\n",
       "      <td>0.984261</td>\n",
       "      <td>0.986339</td>\n",
       "      <td>0.986450</td>\n",
       "      <td>0.984515</td>\n",
       "    </tr>\n",
       "  </tbody>\n",
       "</table>\n",
       "</div>"
      ],
      "text/plain": [
       "                  all    All_PCA  Cluster_1  Cluster_2  Cluster_3  \\\n",
       "RMSE_train  50.457588  56.808384  61.090917  52.066574  43.789776   \n",
       "RMSE_test   75.363903  73.567660  79.838975  71.922041  85.371022   \n",
       "R2_train     0.978936   0.979526   0.959261   0.976034   0.965357   \n",
       "R2_test      0.988983   0.989525   0.985582   0.986566   0.984261   \n",
       "\n",
       "            PCA_Cluster_1  PCA_Cluster_2  PCA_Cluster_3  \n",
       "RMSE_train      66.825469      45.830419      41.266013  \n",
       "RMSE_test       78.550025      71.219033      83.816956  \n",
       "R2_train         0.960035       0.976508       0.966978  \n",
       "R2_test          0.986339       0.986450       0.984515  "
      ]
     },
     "execution_count": 30,
     "metadata": {},
     "output_type": "execute_result"
    }
   ],
   "source": [
    "# Create a dictionary of the cluster 3 results\n",
    "r2_train = rf3_pca.best_score_\n",
    "r2_test = rf3_pca.score(c3_PCA_test, Y_c3test)\n",
    "rf_output['PCA_Cluster_3'] = [train_RMSE, test_RMSE, r2_train, r2_test]\n",
    "rf_output.index = ['RMSE_train', 'RMSE_test', 'R2_train', 'R2_test']\n",
    "rf_output"
   ]
  },
  {
   "cell_type": "code",
   "execution_count": 31,
   "id": "f3a4efc9",
   "metadata": {},
   "outputs": [],
   "source": [
    "# Create pickle files for all clusters:\n",
    "pickle.dump(rf1_pca, open('rf1_pca.pkl','wb'))\n",
    "pickle.dump(rf2_pca, open('rf2_pca.pkl','wb'))\n",
    "pickle.dump(rf3_pca, open('rf3_pca.pkl','wb'))"
   ]
  }
 ],
 "metadata": {
  "kernelspec": {
   "display_name": "Python 3",
   "language": "python",
   "name": "python3"
  },
  "language_info": {
   "codemirror_mode": {
    "name": "ipython",
    "version": 3
   },
   "file_extension": ".py",
   "mimetype": "text/x-python",
   "name": "python",
   "nbconvert_exporter": "python",
   "pygments_lexer": "ipython3",
   "version": "3.8.8"
  }
 },
 "nbformat": 4,
 "nbformat_minor": 5
}
