{
 "cells": [
  {
   "cell_type": "code",
   "execution_count": 4,
   "id": "8fb834f3",
   "metadata": {},
   "outputs": [],
   "source": [
    "import numpy as np\n",
    "import pandas as pd\n",
    "from matplotlib import pyplot as plt\n",
    "import seaborn as sns\n",
    "from sklearn.model_selection import train_test_split, GridSearchCV, KFold, cross_val_score, RandomizedSearchCV\n",
    "from datetime import datetime\n",
    "from sklearn.preprocessing import StandardScaler\n",
    "from sklearn.cluster import KMeans\n",
    "import statsmodels.api as sm\n",
    "import pylab as py\n",
    "import scipy.stats as stats \n",
    "from scipy.stats import norm, skew, probplot\n",
    "from sklearn.metrics import r2_score, mean_squared_error, accuracy_score\n",
    "from sklearn.linear_model import LinearRegression, Ridge, Lasso, ElasticNet, RidgeCV, LassoCV, ElasticNetCV\n",
    "from sklearn.decomposition import PCA\n",
    "from sklearn.metrics import mean_squared_error\n",
    "from sklearn.ensemble import RandomForestRegressor"
   ]
  },
  {
   "cell_type": "code",
   "execution_count": 2,
   "id": "69d15d03",
   "metadata": {
    "scrolled": true
   },
   "outputs": [
    {
     "name": "stderr",
     "output_type": "stream",
     "text": [
      "/opt/anaconda3/lib/python3.8/site-packages/pandas/core/indexing.py:1637: SettingWithCopyWarning: \n",
      "A value is trying to be set on a copy of a slice from a DataFrame\n",
      "\n",
      "See the caveats in the documentation: https://pandas.pydata.org/pandas-docs/stable/user_guide/indexing.html#returning-a-view-versus-a-copy\n",
      "  self._setitem_single_block(indexer, value, name)\n",
      "/opt/anaconda3/lib/python3.8/site-packages/pandas/core/frame.py:4308: SettingWithCopyWarning: \n",
      "A value is trying to be set on a copy of a slice from a DataFrame\n",
      "\n",
      "See the caveats in the documentation: https://pandas.pydata.org/pandas-docs/stable/user_guide/indexing.html#returning-a-view-versus-a-copy\n",
      "  return super().drop(\n",
      "/opt/anaconda3/lib/python3.8/site-packages/pandas/core/frame.py:4308: SettingWithCopyWarning: \n",
      "A value is trying to be set on a copy of a slice from a DataFrame\n",
      "\n",
      "See the caveats in the documentation: https://pandas.pydata.org/pandas-docs/stable/user_guide/indexing.html#returning-a-view-versus-a-copy\n",
      "  return super().drop(\n",
      "/opt/anaconda3/lib/python3.8/site-packages/pandas/core/frame.py:4308: SettingWithCopyWarning: \n",
      "A value is trying to be set on a copy of a slice from a DataFrame\n",
      "\n",
      "See the caveats in the documentation: https://pandas.pydata.org/pandas-docs/stable/user_guide/indexing.html#returning-a-view-versus-a-copy\n",
      "  return super().drop(\n",
      "/opt/anaconda3/lib/python3.8/site-packages/pandas/core/frame.py:4308: SettingWithCopyWarning: \n",
      "A value is trying to be set on a copy of a slice from a DataFrame\n",
      "\n",
      "See the caveats in the documentation: https://pandas.pydata.org/pandas-docs/stable/user_guide/indexing.html#returning-a-view-versus-a-copy\n",
      "  return super().drop(\n",
      "/opt/anaconda3/lib/python3.8/site-packages/pandas/core/frame.py:4308: SettingWithCopyWarning: \n",
      "A value is trying to be set on a copy of a slice from a DataFrame\n",
      "\n",
      "See the caveats in the documentation: https://pandas.pydata.org/pandas-docs/stable/user_guide/indexing.html#returning-a-view-versus-a-copy\n",
      "  return super().drop(\n",
      "/opt/anaconda3/lib/python3.8/site-packages/pandas/core/frame.py:4308: SettingWithCopyWarning: \n",
      "A value is trying to be set on a copy of a slice from a DataFrame\n",
      "\n",
      "See the caveats in the documentation: https://pandas.pydata.org/pandas-docs/stable/user_guide/indexing.html#returning-a-view-versus-a-copy\n",
      "  return super().drop(\n"
     ]
    }
   ],
   "source": [
    "from Feat_eng import (Y_train, X_train, Y_test, X_test, \n",
    "    c1_train, c2_train, c3_train, c1_test, c2_test, c3_test, \n",
    "    Y_c1train, Y_c2train, Y_c3train, Y_c1test, Y_c2test ,Y_c3test)"
   ]
  },
  {
   "cell_type": "code",
   "execution_count": 18,
   "id": "0321048c",
   "metadata": {},
   "outputs": [
    {
     "name": "stderr",
     "output_type": "stream",
     "text": [
      "/opt/anaconda3/lib/python3.8/site-packages/sklearn/model_selection/_search.py:880: DataConversionWarning: A column-vector y was passed when a 1d array was expected. Please change the shape of y to (n_samples,), for example using ravel().\n",
      "  self.best_estimator_.fit(X, y, **fit_params)\n"
     ]
    },
    {
     "data": {
      "text/plain": [
       "RandomizedSearchCV(cv=5, estimator=RandomForestRegressor(oob_score=True),\n",
       "                   n_iter=25, n_jobs=-1,\n",
       "                   param_distributions={'max_samples': [0.7, 0.8, 0.9],\n",
       "                                        'min_samples_leaf': [6, 7, 8],\n",
       "                                        'min_samples_split': array([ 2,  4,  6,  8, 10, 12, 14, 16, 18, 20, 22, 24, 26, 28, 30]),\n",
       "                                        'n_estimators': array([10, 11, 12, 13, 14, 15, 16, 17, 18, 19])})"
      ]
     },
     "execution_count": 18,
     "metadata": {},
     "output_type": "execute_result"
    }
   ],
   "source": [
    "# Randomized parameter grid search on all features\n",
    "\n",
    "rf = RandomForestRegressor(bootstrap = True, oob_score=True)\n",
    "params = {\"min_samples_leaf\": [6,7,8], \n",
    "          \"min_samples_split\": np.linspace(start=2, stop=30, num=15, dtype=int), \n",
    "          \"n_estimators\": np.arange(10, 20, 1), \n",
    "          \"max_samples\": [.7,.8,.9]}\n",
    "rf_random = RandomizedSearchCV(rf, params, n_iter=25, cv=5, n_jobs=-1)\n",
    "\n",
    "rf_random.fit(X_train,Y_train)"
   ]
  },
  {
   "cell_type": "code",
   "execution_count": 22,
   "id": "56d92aa2",
   "metadata": {},
   "outputs": [],
   "source": [
    "# Run a PCA on all data:\n",
    "scaler_pca = StandardScaler().fit(X_train)\n",
    "features = scaler_pca.transform(X_train)\n",
    "df1_scal = pd.DataFrame(features, columns = X_train.columns)\n",
    "\n",
    "pca = PCA(n_components = 0.95)\n",
    "df_reduced = pca.fit_transform(df1_scal)\n",
    "\n",
    "df_reduced = pd.DataFrame(pca.components_, columns = X_train.columns, index = list(range(1,df_reduced.shape[1]+1)))\n",
    "df_reduced = df_reduced.apply(lambda x: abs(x))\n",
    "\n",
    "feat = []\n",
    "for i in range(0,df_reduced.shape[0]):\n",
    "    ff = df_reduced.iloc[i].idxmax()\n",
    "    df_reduced.drop(ff, inplace = True, axis = 1)\n",
    "    feat.append(ff)\n",
    "\n",
    "feat.append('log_value')\n",
    "X_PCA_train = X_train[feat]\n",
    "X_PCA_test = X_test[feat]\n"
   ]
  },
  {
   "cell_type": "code",
   "execution_count": 37,
   "id": "e83e63ed",
   "metadata": {},
   "outputs": [
    {
     "name": "stderr",
     "output_type": "stream",
     "text": [
      "/opt/anaconda3/lib/python3.8/site-packages/sklearn/model_selection/_search.py:880: DataConversionWarning: A column-vector y was passed when a 1d array was expected. Please change the shape of y to (n_samples,), for example using ravel().\n",
      "  self.best_estimator_.fit(X, y, **fit_params)\n"
     ]
    },
    {
     "data": {
      "text/plain": [
       "RandomizedSearchCV(cv=5, estimator=RandomForestRegressor(oob_score=True),\n",
       "                   n_iter=50, n_jobs=-1,\n",
       "                   param_distributions={'max_samples': [0.4, 0.5, 0.6, 0.7,\n",
       "                                                        0.8],\n",
       "                                        'min_samples_leaf': [4, 5, 6, 7, 8],\n",
       "                                        'min_samples_split': array([ 2,  4,  6,  8, 10, 12, 14, 16, 18, 20, 22, 24, 26, 28, 30]),\n",
       "                                        'n_estimators': [50, 100, 150, 200]})"
      ]
     },
     "execution_count": 37,
     "metadata": {},
     "output_type": "execute_result"
    }
   ],
   "source": [
    "# Randomized parameter grid search for PCA on all data:\n",
    "rf = RandomForestRegressor(bootstrap = True, oob_score=True)\n",
    "params = {\"min_samples_leaf\": [4,5,6,7,8], \n",
    "          \"min_samples_split\": np.linspace(start=2, stop=30, num=15, dtype=int), \n",
    "          \"n_estimators\": [50, 100, 150, 200], \n",
    "          \"max_samples\": [.4,.5,.6,.7,.8]}\n",
    "rf2_random = RandomizedSearchCV(rf2, params, n_iter=50, cv=5, n_jobs=-1)\n",
    "\n",
    "rf2_random.fit(X_PCA_train,Y_train)"
   ]
  },
  {
   "cell_type": "code",
   "execution_count": 19,
   "id": "20d9f9f5",
   "metadata": {
    "scrolled": true
   },
   "outputs": [
    {
     "name": "stdout",
     "output_type": "stream",
     "text": [
      "{'n_estimators': 17, 'min_samples_split': 16, 'min_samples_leaf': 8, 'max_samples': 0.8}\n",
      "0.9789603417142635\n",
      "The training RMSE is: 54.24057055339063\n",
      "The test RMSE is: 73.83045393397678\n"
     ]
    }
   ],
   "source": [
    "# Results of Random Forest on all features and data\n",
    "print(rf_random.best_params_)\n",
    "print(rf_random.best_score_)\n",
    "Y_pred = rf_random.predict(X_train)\n",
    "pred_unlog = np.exp(Y_pred)\n",
    "Y_unlog = np.exp(Y_train)\n",
    "RMSE = np.sqrt(mean_squared_error(Y_unlog, pred_unlog))\n",
    "print('The training RMSE is:', RMSE)\n",
    "Y_pred = rf_random.predict(X_test)\n",
    "pred_unlog = np.exp(Y_pred)s\n",
    "Y_unlog = np.exp(Y_test)\n",
    "RMSE = np.sqrt(mean_squared_error(Y_unlog, pred_unlog))\n",
    "print('The test RMSE is:', RMSE)"
   ]
  },
  {
   "cell_type": "code",
   "execution_count": 38,
   "id": "c372ed5d",
   "metadata": {},
   "outputs": [
    {
     "name": "stdout",
     "output_type": "stream",
     "text": [
      "{'n_estimators': 200, 'min_samples_split': 2, 'min_samples_leaf': 5, 'max_samples': 0.4}\n",
      "0.9795886800171036\n",
      "The training RMSE is: 58.338159482642055\n",
      "The test RMSE is: 74.03181721013713\n"
     ]
    }
   ],
   "source": [
    "# Results of Random Forest on all features with PCA\n",
    "print(rf2_random.best_params_)\n",
    "print(rf2_random.best_score_)\n",
    "Y_pred = rf2_random.predict(X_PCA_train)\n",
    "pred_unlog = np.exp(Y_pred)\n",
    "Y_unlog = np.exp(Y_train)\n",
    "RMSE = np.sqrt(mean_squared_error(Y_unlog, pred_unlog))\n",
    "print('The training RMSE is:', RMSE)\n",
    "Y_pred = rf2_random.predict(X_PCA_test)\n",
    "pred_unlog = np.exp(Y_pred)\n",
    "Y_unlog = np.exp(Y_test)\n",
    "RMSE = np.sqrt(mean_squared_error(Y_unlog, pred_unlog))\n",
    "print('The test RMSE is:', RMSE)"
   ]
  },
  {
   "cell_type": "markdown",
   "id": "5a71d643",
   "metadata": {},
   "source": [
    "## Cluster 1 Random Forest"
   ]
  },
  {
   "cell_type": "code",
   "execution_count": 39,
   "id": "b3a35b79",
   "metadata": {},
   "outputs": [
    {
     "name": "stderr",
     "output_type": "stream",
     "text": [
      "/opt/anaconda3/lib/python3.8/site-packages/sklearn/model_selection/_search.py:880: DataConversionWarning: A column-vector y was passed when a 1d array was expected. Please change the shape of y to (n_samples,), for example using ravel().\n",
      "  self.best_estimator_.fit(X, y, **fit_params)\n"
     ]
    },
    {
     "data": {
      "text/plain": [
       "RandomizedSearchCV(cv=5, estimator=RandomForestRegressor(oob_score=True),\n",
       "                   n_iter=50, n_jobs=-1,\n",
       "                   param_distributions={'max_samples': [0.4, 0.5, 0.6, 0.7,\n",
       "                                                        0.8],\n",
       "                                        'min_samples_leaf': [4, 5, 6, 7, 8],\n",
       "                                        'min_samples_split': array([ 2,  4,  6,  8, 10, 12, 14, 16, 18, 20, 22, 24, 26, 28, 30]),\n",
       "                                        'n_estimators': [50, 100, 150, 200]})"
      ]
     },
     "execution_count": 39,
     "metadata": {},
     "output_type": "execute_result"
    }
   ],
   "source": [
    "# Randomized parameter grid search for Cluster 1:\n",
    "rf = RandomForestRegressor(bootstrap = True, oob_score=True)\n",
    "params = {\"min_samples_leaf\": [4,5,6,7,8], \n",
    "          \"min_samples_split\": np.linspace(start=2, stop=30, num=15, dtype=int), \n",
    "          \"n_estimators\": [50, 100, 150, 200], \n",
    "          \"max_samples\": [.4,.5,.6,.7,.8]}\n",
    "rf1= RandomizedSearchCV(rf, params, n_iter=50, cv=5, n_jobs=-1)\n",
    "\n",
    "rf1.fit(c1_train,Y_c1train)"
   ]
  },
  {
   "cell_type": "code",
   "execution_count": 41,
   "id": "9362f3f4",
   "metadata": {},
   "outputs": [
    {
     "name": "stdout",
     "output_type": "stream",
     "text": [
      "{'n_estimators': 200, 'min_samples_split': 8, 'min_samples_leaf': 5, 'max_samples': 0.7}\n",
      "0.9589013092680627\n",
      "The training RMSE is: 62.59074835444834\n",
      "The test RMSE is: 77.29867665721176\n"
     ]
    }
   ],
   "source": [
    "# Results of Random Forest on Cluster 1:\n",
    "print(rf1.best_params_)\n",
    "print(rf1.best_score_)\n",
    "Y_pred = rf1.predict(c1_train)\n",
    "pred_unlog = np.exp(Y_pred)\n",
    "Y_unlog = np.exp(Y_c1train)\n",
    "RMSE = np.sqrt(mean_squared_error(Y_unlog, pred_unlog))\n",
    "print('The training RMSE is:', RMSE)\n",
    "Y_pred = rf1.predict(c1_test)\n",
    "pred_unlog = np.exp(Y_pred)\n",
    "Y_unlog = np.exp(Y_c1test)\n",
    "RMSE = np.sqrt(mean_squared_error(Y_unlog, pred_unlog))\n",
    "print('The test RMSE is:', RMSE)"
   ]
  },
  {
   "cell_type": "markdown",
   "id": "8464a338",
   "metadata": {},
   "source": [
    "## Cluster 2 Random Forest"
   ]
  },
  {
   "cell_type": "code",
   "execution_count": 42,
   "id": "0be4fbc5",
   "metadata": {},
   "outputs": [
    {
     "name": "stderr",
     "output_type": "stream",
     "text": [
      "/opt/anaconda3/lib/python3.8/site-packages/sklearn/model_selection/_search.py:880: DataConversionWarning: A column-vector y was passed when a 1d array was expected. Please change the shape of y to (n_samples,), for example using ravel().\n",
      "  self.best_estimator_.fit(X, y, **fit_params)\n"
     ]
    },
    {
     "data": {
      "text/plain": [
       "RandomizedSearchCV(cv=5, estimator=RandomForestRegressor(oob_score=True),\n",
       "                   n_iter=50, n_jobs=-1,\n",
       "                   param_distributions={'max_samples': [0.4, 0.5, 0.6, 0.7,\n",
       "                                                        0.8],\n",
       "                                        'min_samples_leaf': [4, 5, 6, 7, 8],\n",
       "                                        'min_samples_split': array([ 2,  4,  6,  8, 10, 12, 14, 16, 18, 20, 22, 24, 26, 28, 30]),\n",
       "                                        'n_estimators': [50, 100, 150, 200]})"
      ]
     },
     "execution_count": 42,
     "metadata": {},
     "output_type": "execute_result"
    }
   ],
   "source": [
    "# Randomized parameter grid search for Cluster 2:\n",
    "rf = RandomForestRegressor(bootstrap = True, oob_score=True)\n",
    "params = {\"min_samples_leaf\": [4,5,6,7,8], \n",
    "          \"min_samples_split\": np.linspace(start=2, stop=30, num=15, dtype=int), \n",
    "          \"n_estimators\": [50, 100, 150, 200], \n",
    "          \"max_samples\": [.4,.5,.6,.7,.8]}\n",
    "rf2 = RandomizedSearchCV(rf, params, n_iter=50, cv=5, n_jobs=-1)\n",
    "\n",
    "rf2.fit(c2_train,Y_c2train)"
   ]
  },
  {
   "cell_type": "code",
   "execution_count": 43,
   "id": "d6e0164a",
   "metadata": {},
   "outputs": [
    {
     "name": "stdout",
     "output_type": "stream",
     "text": [
      "{'n_estimators': 150, 'min_samples_split': 14, 'min_samples_leaf': 4, 'max_samples': 0.6}\n",
      "0.9760609762069367\n",
      "The training RMSE is: 48.78416964441518\n",
      "The test RMSE is: 71.28870570176925\n"
     ]
    }
   ],
   "source": [
    "# Results of Random Forest on Cluster 2:\n",
    "print(rf2.best_params_)\n",
    "print(rf2.best_score_)\n",
    "Y_pred = rf2.predict(c2_train)\n",
    "pred_unlog = np.exp(Y_pred)\n",
    "Y_unlog = np.exp(Y_c2train)\n",
    "RMSE = np.sqrt(mean_squared_error(Y_unlog, pred_unlog))\n",
    "print('The training RMSE is:', RMSE)\n",
    "Y_pred = rf2.predict(c2_test)\n",
    "pred_unlog = np.exp(Y_pred)\n",
    "Y_unlog = np.exp(Y_c2test)\n",
    "RMSE = np.sqrt(mean_squared_error(Y_unlog, pred_unlog))\n",
    "print('The test RMSE is:', RMSE)"
   ]
  },
  {
   "cell_type": "markdown",
   "id": "98b2f64f",
   "metadata": {},
   "source": [
    "## Cluster 3 Random Forest"
   ]
  },
  {
   "cell_type": "code",
   "execution_count": 44,
   "id": "f1048e75",
   "metadata": {},
   "outputs": [
    {
     "name": "stderr",
     "output_type": "stream",
     "text": [
      "/opt/anaconda3/lib/python3.8/site-packages/sklearn/model_selection/_search.py:880: DataConversionWarning: A column-vector y was passed when a 1d array was expected. Please change the shape of y to (n_samples,), for example using ravel().\n",
      "  self.best_estimator_.fit(X, y, **fit_params)\n"
     ]
    },
    {
     "data": {
      "text/plain": [
       "RandomizedSearchCV(cv=5, estimator=RandomForestRegressor(oob_score=True),\n",
       "                   n_iter=50, n_jobs=-1,\n",
       "                   param_distributions={'max_samples': [0.4, 0.5, 0.6, 0.7,\n",
       "                                                        0.8],\n",
       "                                        'min_samples_leaf': [4, 5, 6, 7, 8],\n",
       "                                        'min_samples_split': array([ 2,  4,  6,  8, 10, 12, 14, 16, 18, 20, 22, 24, 26, 28, 30]),\n",
       "                                        'n_estimators': [50, 100, 150, 200]})"
      ]
     },
     "execution_count": 44,
     "metadata": {},
     "output_type": "execute_result"
    }
   ],
   "source": [
    "# Randomized parameter grid search for Cluster 3:\n",
    "rf = RandomForestRegressor(bootstrap = True, oob_score=True)\n",
    "params = {\"min_samples_leaf\": [4,5,6,7,8], \n",
    "          \"min_samples_split\": np.linspace(start=2, stop=30, num=15, dtype=int), \n",
    "          \"n_estimators\": [50, 100, 150, 200], \n",
    "          \"max_samples\": [.4,.5,.6,.7,.8]}\n",
    "rf3 = RandomizedSearchCV(rf, params, n_iter=50, cv=5, n_jobs=-1)\n",
    "\n",
    "rf3.fit(c3_train,Y_c3train)"
   ]
  },
  {
   "cell_type": "code",
   "execution_count": 45,
   "id": "b82b5adb",
   "metadata": {},
   "outputs": [
    {
     "name": "stdout",
     "output_type": "stream",
     "text": [
      "{'n_estimators': 100, 'min_samples_split': 6, 'min_samples_leaf': 5, 'max_samples': 0.8}\n",
      "0.9644713207194533\n",
      "The training RMSE is: 43.5443699658256\n",
      "The test RMSE is: 83.40997365647577\n"
     ]
    }
   ],
   "source": [
    "# Results of Random Forest on Cluster 3:\n",
    "print(rf3.best_params_)\n",
    "print(rf3.best_score_)\n",
    "Y_pred = rf3.predict(c3_train)\n",
    "pred_unlog = np.exp(Y_pred)\n",
    "Y_unlog = np.exp(Y_c3train)\n",
    "RMSE = np.sqrt(mean_squared_error(Y_unlog, pred_unlog))\n",
    "print('The training RMSE is:', RMSE)\n",
    "Y_pred = rf3.predict(c3_test)\n",
    "pred_unlog = np.exp(Y_pred)\n",
    "Y_unlog = np.exp(Y_c3test)\n",
    "RMSE = np.sqrt(mean_squared_error(Y_unlog, pred_unlog))\n",
    "print('The test RMSE is:', RMSE)"
   ]
  }
 ],
 "metadata": {
  "kernelspec": {
   "display_name": "Python 3",
   "language": "python",
   "name": "python3"
  },
  "language_info": {
   "codemirror_mode": {
    "name": "ipython",
    "version": 3
   },
   "file_extension": ".py",
   "mimetype": "text/x-python",
   "name": "python",
   "nbconvert_exporter": "python",
   "pygments_lexer": "ipython3",
   "version": "3.8.8"
  }
 },
 "nbformat": 4,
 "nbformat_minor": 5
}
