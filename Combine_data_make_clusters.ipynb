{
 "cells": [
  {
   "cell_type": "code",
   "execution_count": null,
   "id": "2ddc6fb5",
   "metadata": {},
   "outputs": [],
   "source": [
    "import numpy as np\n",
    "import pandas as pd\n",
    "from matplotlib import pyplot as plt\n",
    "import seaborn as sns\n",
    "from sklearn.model_selection import train_test_split\n",
    "from datetime import datetime"
   ]
  },
  {
   "cell_type": "code",
   "execution_count": null,
   "id": "7bc361a4",
   "metadata": {},
   "outputs": [],
   "source": [
    "year = ['2011','2012','2013','2014','2015','2016','2017','2018']\n",
    "data_ = pd.DataFrame()\n",
    "\n",
    "acs = pd.read_csv(\"../data/ACS_2011.csv\")\n",
    "acs['year'] = 2011\n",
    "\n",
    "pp = pd.read_csv(\"../data/ACS_2012.csv\")\n",
    "pp['year'] = 2012\n",
    "acs = acs.append(pp)\n",
    "\n",
    "pp = pd.read_csv(\"../data/ACS_2013.csv\")\n",
    "pp['year'] = 2013\n",
    "acs = acs.append(pp)\n",
    "\n",
    "pp = pd.read_csv(\"../data/ACS_2014.csv\")\n",
    "pp['year'] = 2014\n",
    "acs = acs.append(pp)\n",
    "\n",
    "pp = pd.read_csv(\"../data/ACS_2015.csv\")\n",
    "pp['year'] = 2015\n",
    "acs = acs.append(pp)\n",
    "\n",
    "pp = pd.read_csv(\"../data/ACS_2016.csv\")\n",
    "pp['year'] = 2016\n",
    "acs = acs.append(pp)\n",
    "\n",
    "pp = pd.read_csv(\"../data/ACS_2017.csv\")\n",
    "pp['year'] = 2017\n",
    "acs = acs.append(pp)\n",
    "\n",
    "pp = pd.read_csv(\"../data/ACS_2018.csv\")\n",
    "pp['year'] = 2018\n",
    "data_ = acs.append(pp)"
   ]
  },
  {
   "cell_type": "code",
   "execution_count": null,
   "id": "f825c446",
   "metadata": {},
   "outputs": [],
   "source": [
    "zir = pd.read_csv(\"../data/Zip_Zri_MultiFamilyResidenceRental.csv\")"
   ]
  },
  {
   "cell_type": "code",
   "execution_count": null,
   "id": "02f1202d",
   "metadata": {},
   "outputs": [],
   "source": [
    "data_['geo_id'] = data_['geo_id'].astype(str).str.zfill(5)\n",
    "zir['RegionName'] = zir['RegionName'].astype(str).str.zfill(5)"
   ]
  },
  {
   "cell_type": "code",
   "execution_count": null,
   "id": "9aa2eaee",
   "metadata": {},
   "outputs": [],
   "source": [
    "cols_replace = list(zir.columns)[7:]\n",
    "cols_keep = list(zir.columns)[:7]\n",
    "zil_new = zir.melt(id_vars=cols_keep, value_vars = cols_replace)\n",
    "zil_new['variable']= pd.to_datetime(zil_new['variable'])b"
   ]
  },
  {
   "cell_type": "code",
   "execution_count": null,
   "id": "37703a6c",
   "metadata": {},
   "outputs": [],
   "source": [
    "zil_new['year'] = zil_new['variable'].apply(lambda a: a.year)\n",
    "zil_new.info()"
   ]
  },
  {
   "cell_type": "code",
   "execution_count": null,
   "id": "45dee996",
   "metadata": {},
   "outputs": [],
   "source": [
    "zil_yr = zil_new.groupby(['RegionName', 'year']).mean().reset_index()\n",
    "zil_yr.drop(['SizeRank','RegionID'], inplace=True, axis=1)"
   ]
  },
  {
   "cell_type": "code",
   "execution_count": null,
   "id": "164dde9b",
   "metadata": {},
   "outputs": [],
   "source": [
    "zil_yr = zil_yr.dropna()\n",
    "\n",
    "zil_yr = zil_yr[zil_yr['year'] > 2010]\n",
    "zil_yr = zil_yr[zil_yr['year'] < 2019]"
   ]
  },
  {
   "cell_type": "code",
   "execution_count": null,
   "id": "7f13e469",
   "metadata": {},
   "outputs": [],
   "source": [
    "df_final = zil_yr.merge(data_, how='left', left_on = ['RegionName','year'], right_on=['geo_id', 'year'])"
   ]
  },
  {
   "cell_type": "code",
   "execution_count": null,
   "id": "30b774ad",
   "metadata": {},
   "outputs": [],
   "source": [
    "df_final.drop(['pop_5_years_over', 'speak_only_english_at_home', 'speak_spanish_at_home_low_english', \n",
    "               'pop_15_and_over', 'pop_never_married', 'pop_now_married', 'pop_separated', 'pop_widowed',\n",
    "              'pop_divorced', 'geoid','speak_spanish_at_home'], axis=1, inplace=True)"
   ]
  },
  {
   "cell_type": "code",
   "execution_count": null,
   "id": "bfc9a7e2",
   "metadata": {},
   "outputs": [],
   "source": [
    "df_final[df_final['geo_id'].isnull()]"
   ]
  },
  {
   "cell_type": "code",
   "execution_count": null,
   "id": "609a0e99",
   "metadata": {},
   "outputs": [],
   "source": [
    "df_final = df_final[df_final['RegionName']!='11249']\n",
    "df_final = df_final[df_final['RegionName']!='75033']\n",
    "\n",
    "df_final[df_final['geo_id'].isnull()]"
   ]
  },
  {
   "cell_type": "code",
   "execution_count": null,
   "id": "0c374af7",
   "metadata": {},
   "outputs": [],
   "source": [
    "null_zip = list(zip(df_final.columns, list(df_final.isnull().sum())))\n",
    "non_zero = []\n",
    "col_names = []\n",
    "for i, j in null_zip:\n",
    "    if j>0:\n",
    "        non_zero.append(j)\n",
    "        col_names.append(i)\n",
    "list(zip(col_names, non_zero))"
   ]
  },
  {
   "cell_type": "code",
   "execution_count": null,
   "id": "dbf5ef72",
   "metadata": {},
   "outputs": [],
   "source": [
    "df_final[df_final[col_names].isnull().any(axis=1)][col_names]\n",
    "\n",
    "df_final_sorted = df_final.sort_values(by=['RegionName', 'year'])"
   ]
  },
  {
   "cell_type": "code",
   "execution_count": null,
   "id": "311b2d1e",
   "metadata": {},
   "outputs": [],
   "source": [
    "null_2011 = ['associates_degree', 'bachelors_degree', \n",
    "             'high_school_diploma', \n",
    "             'less_one_year_college', \\\n",
    "             'masters_degree', \n",
    "             'one_year_more_college', \n",
    "             'pop_25_years_over']\n",
    "\n",
    "null_2018 = ['white_including_hispanic', 'black_including_hispanic', \n",
    "             'amerindian_including_hispanic', \n",
    "             'asian_including_hispanic', \n",
    "             'commute_5_9_mins', 'commute_35_39_mins', \n",
    "             'commute_40_44_mins', 'commute_60_89_mins', \n",
    "             'commute_90_more_mins', 'households_retirement_income',\n",
    "            'male_60_61','male_62_64']\n",
    "\n",
    "for i in range(0, df_final_sorted.shape[0]):\n",
    "    if df_final_sorted['year'].iloc[i] == 2011:\n",
    "        for j in range(0,len(null_2011)):\n",
    "            df_final_sorted[null_2011[j]].iloc[i] = df_final_sorted[null_2011[j]].iloc[i+1]\n",
    "    if df_final_sorted['year'].iloc[i] == 2018:\n",
    "        for j in range(0,len(null_2018)):\n",
    "            df_final_sorted[null_2018[j]].iloc[i] = df_final_sorted[null_2018[j]].iloc[i-1]\n"
   ]
  },
  {
   "cell_type": "code",
   "execution_count": null,
   "id": "3ab0ae1f",
   "metadata": {},
   "outputs": [],
   "source": [
    "df_final = df_final_sorted.loc[:, df_final_sorted.columns != 'do_date']\n",
    "df_final = df_final.dropna()"
   ]
  },
  {
   "cell_type": "code",
   "execution_count": null,
   "id": "2ed720a1",
   "metadata": {},
   "outputs": [],
   "source": [
    "sns.histplot(x = 'value', data = df_final)\n",
    "plt.show()\n",
    "df_final = df_final[df_final['value'] < 6000]\n",
    "sns.histplot(x = 'value', data = df_final)\n",
    "plt.show()"
   ]
  },
  {
   "cell_type": "code",
   "execution_count": null,
   "id": "4e9326c9",
   "metadata": {},
   "outputs": [],
   "source": [
    "# Filter Cityies with less than 100,000 people\n",
    "zil_city = df_final.merge(zir, on = 'RegionName', how = 'left')\n",
    "zil_city = zil_city[['RegionName','City','total_pop','year']]\n",
    "zil_city = zil_city[zil_city['year'] == 2018]\n",
    "zil_city.drop('year', inplace = True, axis= 1)\n",
    "zil_city = zil_city.groupby('City').sum('total_pop').sort_values(by = 'total_pop')\n",
    "\n",
    "zil_filter = zil_city[zil_city['total_pop'] >= 100000].reset_index()\n",
    "zil_filter = zil_filter['City']"
   ]
  },
  {
   "cell_type": "code",
   "execution_count": null,
   "id": "f45be182",
   "metadata": {},
   "outputs": [],
   "source": [
    "df_filtered = df_final.merge(zir[['RegionName','City']], on = 'RegionName', how = 'left')\n",
    "\n",
    "df_filtered = df_filtered[df_cities['City'].isin(zil_filter)]"
   ]
  },
  {
   "cell_type": "markdown",
   "id": "cf3f3263",
   "metadata": {},
   "source": [
    "## Cluster on three features"
   ]
  },
  {
   "cell_type": "code",
   "execution_count": null,
   "id": "4f88e57e",
   "metadata": {},
   "outputs": [],
   "source": [
    "df_small_fil = df_filtered[['value', 'total_pop', 'median_income']]\n",
    "df_small_fil"
   ]
  },
  {
   "cell_type": "code",
   "execution_count": null,
   "id": "8ed6b636",
   "metadata": {},
   "outputs": [],
   "source": [
    "scaler = StandardScaler().fit(df_small_fil)\n",
    "features = scaler.transform(df_small_fil)\n",
    "df_scal = pd.DataFrame(features, columns = df_small_fil.columns)\n",
    "\n"
   ]
  },
  {
   "cell_type": "code",
   "execution_count": null,
   "id": "c52e62ff",
   "metadata": {},
   "outputs": [],
   "source": [
    "columns = df_small_fil.columns\n",
    "kmeans = KMeans(n_clusters = 3)\n",
    "y = kmeans.fit_predict(df_small_fil[columns])\n",
    "   \n",
    "df_filtered['Cluster'] = y"
   ]
  },
  {
   "cell_type": "markdown",
   "id": "212a9aa9",
   "metadata": {},
   "source": [
    "## Add CPI data"
   ]
  },
  {
   "cell_type": "code",
   "execution_count": null,
   "id": "fe9f7b02",
   "metadata": {},
   "outputs": [],
   "source": [
    "year = [2011, 2012, 2013, 2014, 2015, 2016, 2017, 2018]\n",
    "\n",
    "cpi = [251.645, 257.081, 263.050, 270.509, 278.802, 288.233, 297.808, 307.660]\n",
    "cpi_df = pd.DataFrame()\n",
    "cpi_df['year'] = year\n",
    "cpi_df['cpi'] = cpi\n",
    "cpi_df"
   ]
  },
  {
   "cell_type": "code",
   "execution_count": null,
   "id": "e5cd0f13",
   "metadata": {},
   "outputs": [],
   "source": [
    "df_addition = df_filtered.merge(cpi_df, how = 'left', on = 'year')"
   ]
  },
  {
   "cell_type": "markdown",
   "id": "cdc141bd",
   "metadata": {},
   "source": [
    "## Add Census business data"
   ]
  },
  {
   "cell_type": "markdown",
   "id": "aede1511",
   "metadata": {},
   "source": []
  },
  {
   "cell_type": "markdown",
   "id": "ffebcb2e",
   "metadata": {},
   "source": [
    "## Break data into the different Clusters"
   ]
  },
  {
   "cell_type": "code",
   "execution_count": null,
   "id": "a93d177a",
   "metadata": {},
   "outputs": [],
   "source": [
    "cluster1 = df_addition[df_addition['Cluster'] == 0]\n",
    "print('Size of Cluster 1', cluster1.shape)\n",
    "\n",
    "cluster2 = df_addition[df_addition['Cluster'] == 1]\n",
    "print('Size of Cluster 2', cluster2.shape)\n",
    "\n",
    "cluster3 = df_addition[df_addition['Cluster'] == 2]\n",
    "print('Size of Cluster 3', cluster3.shape)\n",
    "\n",
    "nocluster = df_addition\n",
    "print('Size of all Data', nocluster.shape)"
   ]
  }
 ],
 "metadata": {
  "kernelspec": {
   "display_name": "Python 3",
   "language": "python",
   "name": "python3"
  },
  "language_info": {
   "codemirror_mode": {
    "name": "ipython",
    "version": 3
   },
   "file_extension": ".py",
   "mimetype": "text/x-python",
   "name": "python",
   "nbconvert_exporter": "python",
   "pygments_lexer": "ipython3",
   "version": "3.8.8"
  }
 },
 "nbformat": 4,
 "nbformat_minor": 5
}
