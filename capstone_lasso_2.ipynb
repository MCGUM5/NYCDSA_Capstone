{
 "cells": [
  {
   "cell_type": "markdown",
   "id": "2197efd8",
   "metadata": {},
   "source": [
    "# TEST LASSO REGRESSION "
   ]
  },
  {
   "cell_type": "code",
   "execution_count": null,
   "id": "cc3ffa58",
   "metadata": {},
   "outputs": [],
   "source": [
    "scaler = StandardScaler().fit(X_train)\n",
    "features = scaler.transform(X_train)\n",
    "X_std = pd.DataFrame(features, columns = X_train.columns)"
   ]
  },
  {
   "cell_type": "code",
   "execution_count": null,
   "id": "06130ff8",
   "metadata": {},
   "outputs": [],
   "source": [
    "alphas = 10**np.linspace(10,-2,500)*0.5\n",
    "\n",
    "lassocv = LassoCV(alphas = alphas, random_state=0)\n",
    "lassocv.fit(X_std, Y_train)\n",
    "lassocv_alpha = lassocv.alpha_"
   ]
  },
  {
   "cell_type": "code",
   "execution_count": null,
   "id": "b5ba0785",
   "metadata": {},
   "outputs": [],
   "source": [
    "las = Lasso(alpha = lassocv.alpha_, random_state = 0)\n",
    "las.fit(X_std,Y_train)"
   ]
  },
  {
   "cell_type": "code",
   "execution_count": null,
   "id": "84117077",
   "metadata": {},
   "outputs": [],
   "source": [
    "print('Score for training data:', las.score(X_std,Y_train))\n",
    "\n",
    "pred = las.predict(X_std)\n",
    "pred_unlog = np.exp(pred)\n",
    "Y_unlog = np.exp(Y_train)\n",
    "train_RMSE = mean_squared_error(Y_unlog, pred_unlog, squared = False)\n",
    "print('(not log) RMSE for training data is:', train_RMSE)"
   ]
  },
  {
   "cell_type": "code",
   "execution_count": null,
   "id": "dd5b53d2",
   "metadata": {},
   "outputs": [],
   "source": [
    "test_features = scaler.transform(X_test)\n",
    "X_test_std = pd.DataFrame(test_features, columns = X_test.columns)"
   ]
  },
  {
   "cell_type": "code",
   "execution_count": null,
   "id": "c68c496c",
   "metadata": {},
   "outputs": [],
   "source": [
    "print('Score for test data:', las.score(X_test_std,Y_test))\n",
    "\n",
    "pred_test = las.predict(X_test_std)\n",
    "pred_test_unlog = np.exp(pred_test)\n",
    "Y_test_unlog = np.exp(Y_test)\n",
    "Test_RMSE = mean_squared_error(Y_test_unlog, pred_test_unlog, squared = False)\n",
    "print('(not log) RMSE for test data is:', Test_RMSE)"
   ]
  },
  {
   "cell_type": "code",
   "execution_count": null,
   "id": "86bc1288",
   "metadata": {},
   "outputs": [],
   "source": [
    "las_imp = pd.DataFrame()\n",
    "\n",
    "las_imp['Feature'] = X_test_std.columns\n",
    "las_imp['Importance'] = list(las.coef_)\n",
    "las_imp['Abs Importance'] = abs(las_imp['Importance'])\n",
    "las_imp = las_imp.sort_values(by = 'Abs Importance', ascending = False)\n",
    "las_imp\n",
    "\n",
    "\n",
    "\n",
    "ranking = list(range(1,las_imp.shape[0]+1))\n",
    "las_imp['ranking'] = ranking\n",
    "las_imp"
   ]
  },
  {
   "cell_type": "code",
   "execution_count": null,
   "id": "7b8ef7a0",
   "metadata": {},
   "outputs": [],
   "source": []
  },
  {
   "cell_type": "code",
   "execution_count": null,
   "id": "09890616",
   "metadata": {},
   "outputs": [],
   "source": [
    "X1_train = X_train.drop('log_value', axis=1)\n",
    "X1_test = X_test.drop('log_value', axis=1)"
   ]
  },
  {
   "cell_type": "code",
   "execution_count": null,
   "id": "5eeb7d5d",
   "metadata": {},
   "outputs": [],
   "source": [
    "X1_train = X1_train.drop('median_rent', axis=1)\n",
    "X1_test = X1_test.drop('median_rent', axis=1)"
   ]
  },
  {
   "cell_type": "code",
   "execution_count": null,
   "id": "9c790582",
   "metadata": {
    "scrolled": true
   },
   "outputs": [],
   "source": [
    "# Run without previous rent values\n",
    "\n",
    "scaler = StandardScaler().fit(X1_train)\n",
    "features = scaler.transform(X1_train)\n",
    "X1_std = pd.DataFrame(features, columns = X1_train.columns)\n",
    "\n",
    "alphas = 10**np.linspace(10,-2,500)*0.5\n",
    "\n",
    "lassocv1 = LassoCV(alphas = alphas, random_state=0)\n",
    "lassocv1.fit(X1_std, Y_train)\n",
    "lassocv1_alpha = lassocv1.alpha_\n",
    "\n",
    "las1 = Lasso(alpha = lassocv1.alpha_, random_state = 0)\n",
    "las1.fit(X1_std,Y_train)\n",
    "\n",
    "print('Score for training data:', las1.score(X1_std,Y_train))\n",
    "\n",
    "pred1 = las1.predict(X1_std)\n",
    "pred2 = np.exp(pred1)\n",
    "Y_train2 = np.exp(Y_train)\n",
    "train_RMSE1 = mean_squared_error(Y_train2, pred2, squared = False)\n",
    "print('(not log) RMSE for training data is:', train_RMSE1)\n",
    "\n",
    "test_features1 = scaler.transform(X1_test)\n",
    "X1_test_std = pd.DataFrame(test_features1, columns = X1_test.columns)\n",
    "\n",
    "print('Score for test data:', las1.score(X1_test_std,Y_test))\n",
    "\n",
    "pred_test1 = las1.predict(X1_test_std)\n",
    "pred_test2 = np.exp(pred_test1)\n",
    "Y_test2 = np.exp(Y_test)\n",
    "Test_RMSE1 = mean_squared_error(Y_test2, pred_test2, squared = False)\n",
    "print('(not log) RMSE for test data is:', Test_RMSE1)\n",
    "\n",
    "las_imp1 = pd.DataFrame()\n",
    "\n",
    "las_imp1['Feature'] = X1_test_std.columns\n",
    "las_imp1['Importance'] = list(las1.coef_)\n",
    "las_imp1['Abs Importance'] = abs(las_imp1['Importance'])\n",
    "las_imp1 = las_imp1.sort_values(by = 'Abs Importance', ascending = False)\n",
    "las_imp1\n",
    "\n",
    "\n",
    "\n",
    "ranking1 = list(range(1,las_imp1.shape[0]+1))\n",
    "las_imp1['ranking'] = ranking1\n",
    "las_imp1"
   ]
  },
  {
   "cell_type": "markdown",
   "id": "6fe519cf",
   "metadata": {},
   "source": [
    "# Feature Engineering after Lasso "
   ]
  },
  {
   "cell_type": "code",
   "execution_count": null,
   "id": "baa841bf",
   "metadata": {},
   "outputs": [],
   "source": [
    "print(X_train.shape)\n",
    "print(Y_train.shape)\n",
    "print(X_test.shape)\n",
    "print(Y_test.shape)"
   ]
  },
  {
   "cell_type": "code",
   "execution_count": null,
   "id": "8c5f2e3a",
   "metadata": {},
   "outputs": [],
   "source": [
    "# Create new columns for male ratio\n",
    "X_train['male_ratio'] = X_train['male_pop']/X_train['total_pop']\n",
    "X_test['male_ratio'] = X_test['male_pop']/X_test['total_pop']"
   ]
  },
  {
   "cell_type": "code",
   "execution_count": null,
   "id": "149e0acc",
   "metadata": {},
   "outputs": [],
   "source": [
    "# Drop original male / female population counts\n",
    "X_train.drop(['male_pop', 'female_pop'], axis=1, inplace=True)\n",
    "X_test.drop(['male_pop', 'female_pop'], axis=1, inplace=True)"
   ]
  },
  {
   "cell_type": "code",
   "execution_count": null,
   "id": "aeb29c0d",
   "metadata": {},
   "outputs": [],
   "source": [
    "X_train.drop(['male_under_5', 'male_5_to_9', 'male_10_to_14', 'male_15_to_17', 'male_18_to_19', 'male_20', \n",
    "              'male_21', 'male_22_to_24', 'male_25_to_29', 'male_30_to_34', 'male_35_to_39', 'male_40_to_44', \n",
    "              'male_45_to_49', 'male_50_to_54', 'male_55_to_59', 'male_60_61', 'male_62_64', 'male_65_to_66', \n",
    "              'male_67_to_69', 'male_70_to_74', 'male_75_to_79', 'male_80_to_84', 'male_85_and_over', \n",
    "              'female_under_5', 'female_5_to_9', 'female_10_to_14', 'female_15_to_17', 'female_18_to_19', \n",
    "              'female_20', 'female_21', 'female_22_to_24', 'female_25_to_29', 'female_30_to_34', \n",
    "              'female_35_to_39', 'female_40_to_44', 'female_45_to_49', 'female_50_to_54', 'female_55_to_59', \n",
    "              'female_60_to_61', 'female_62_to_64', 'female_65_to_66', 'female_67_to_69', 'female_70_to_74', \n",
    "              'female_75_to_79', 'female_80_to_84', 'female_85_and_over',], axis=1, inplace=True)\n",
    "X_test.drop(['male_under_5', 'male_5_to_9', 'male_10_to_14', 'male_15_to_17', 'male_18_to_19', 'male_20', \n",
    "             'male_21', 'male_22_to_24', 'male_25_to_29', 'male_30_to_34', 'male_35_to_39', 'male_40_to_44', \n",
    "             'male_45_to_49', 'male_50_to_54', 'male_55_to_59', 'male_60_61', 'male_62_64', 'male_65_to_66', \n",
    "             'male_67_to_69', 'male_70_to_74', 'male_75_to_79', 'male_80_to_84', 'male_85_and_over', \n",
    "             'female_under_5', 'female_5_to_9', 'female_10_to_14', 'female_15_to_17', 'female_18_to_19', \n",
    "             'female_20', 'female_21', 'female_22_to_24', 'female_25_to_29', 'female_30_to_34', 'female_35_to_39', \n",
    "             'female_40_to_44', 'female_45_to_49', 'female_50_to_54', 'female_55_to_59', 'female_60_to_61', \n",
    "             'female_62_to_64', 'female_65_to_66', 'female_67_to_69', 'female_70_to_74', 'female_75_to_79', \n",
    "             'female_80_to_84', 'female_85_and_over',], axis=1, inplace=True)"
   ]
  },
  {
   "cell_type": "code",
   "execution_count": null,
   "id": "45ee1153",
   "metadata": {},
   "outputs": [],
   "source": [
    "# Drop all income features except median income and income per capita\n",
    "drop1 = ['income_less_10000', 'income_10000_14999', 'income_15000_19999', 'income_20000_24999', \n",
    "         'income_25000_29999', 'income_30000_34999', 'income_35000_39999', 'income_40000_44999', \n",
    "         'income_45000_49999', 'income_50000_59999', 'income_60000_74999', 'income_75000_99999', \n",
    "         'income_100000_124999', 'income_125000_149999', 'income_150000_199999', 'income_200000_or_more']\n",
    "X_train.drop(drop1, axis=1, inplace=True)\n",
    "X_test.drop(drop1, axis=1, inplace=True)"
   ]
  },
  {
   "cell_type": "code",
   "execution_count": null,
   "id": "a470b8fd",
   "metadata": {},
   "outputs": [],
   "source": [
    "# Create new columns for demographic ratios\n",
    "X_train['white_ratio'] = X_train['white_pop']/X_train['total_pop']\n",
    "X_test['white_ratio'] = X_test['white_pop']/X_test['total_pop']\n",
    "X_train['black_ratio'] = X_train['black_pop']/X_train['total_pop']\n",
    "X_test['black_ratio'] = X_test['black_pop']/X_test['total_pop']\n",
    "X_train['asian_ratio'] = X_train['asian_pop']/X_train['total_pop']\n",
    "X_test['asian_ratio'] = X_test['asian_pop']/X_test['total_pop']\n",
    "X_train['hispanic_ratio'] = X_train['hispanic_pop']/X_train['total_pop']\n",
    "X_test['hispanic_ratio'] = X_test['hispanic_pop']/X_test['total_pop']\n",
    "X_train['amerindian_ratio'] = X_train['amerindian_pop']/X_train['total_pop']\n",
    "X_test['amerindian_ratio'] = X_test['amerindian_pop']/X_test['total_pop']\n",
    "X_train['other_race_ratio'] = X_train['other_race_pop']/X_train['total_pop']\n",
    "X_test['other_race_ratio'] = X_test['other_race_pop']/X_test['total_pop']"
   ]
  },
  {
   "cell_type": "code",
   "execution_count": null,
   "id": "e3964383",
   "metadata": {},
   "outputs": [],
   "source": [
    "# Drop columns for demographic that aren't needed anymore\n",
    "drop2 = ['white_pop', 'black_pop', 'asian_pop', 'hispanic_pop', 'amerindian_pop', 'other_race_pop', \n",
    "         'two_or_more_races_pop', 'not_hispanic_pop']\n",
    "X_train.drop(drop2, axis=1, inplace=True)\n",
    "X_test.drop(drop2, axis=1, inplace=True)"
   ]
  },
  {
   "cell_type": "code",
   "execution_count": null,
   "id": "c2731898",
   "metadata": {},
   "outputs": [],
   "source": [
    "# Drop misc. columns\n",
    "drop2 = ['asian_male_45_54', 'asian_male_55_64', 'black_male_45_54', 'black_male_55_64', 'hispanic_male_45_54', \n",
    "         'hispanic_male_55_64', 'white_male_45_54', 'white_male_55_64','male_45_64_associates_degree', \n",
    "         'male_45_64_bachelors_degree', 'male_45_64_graduate_degree', 'male_45_64_less_than_9_grade', \n",
    "         'male_45_64_grade_9_12', 'male_45_64_high_school', 'male_45_64_some_college', 'male_45_to_64']\n",
    "X_train.drop(drop2, axis=1, inplace=True)\n",
    "X_test.drop(drop2, axis=1, inplace=True)"
   ]
  },
  {
   "cell_type": "code",
   "execution_count": null,
   "id": "924cd8e7",
   "metadata": {},
   "outputs": [],
   "source": [
    "# Create employement ratio and drop population counts\n",
    "X_train['employed_ratio'] = X_train['employed_pop']/X_train['total_pop']\n",
    "X_test['employed_ratio'] = X_test['employed_pop']/X_test['total_pop'] \n",
    "X_test.drop(['employed_pop', 'unemployed_pop'], axis=1, inplace=True)\n",
    "X_train.drop(['employed_pop', 'unemployed_pop'], axis=1, inplace=True)"
   ]
  },
  {
   "cell_type": "code",
   "execution_count": null,
   "id": "5c962938",
   "metadata": {
    "scrolled": true
   },
   "outputs": [],
   "source": [
    "list(X_train.columns)"
   ]
  },
  {
   "cell_type": "code",
   "execution_count": null,
   "id": "e36b4f3a",
   "metadata": {},
   "outputs": [],
   "source": [
    "X_train.loc[:, X_train.columns.str.contains('car')].columns"
   ]
  },
  {
   "cell_type": "code",
   "execution_count": null,
   "id": "e3f6ae57",
   "metadata": {},
   "outputs": [],
   "source": [
    "X_train.drop(['pop_16_over', 'pop_in_labor_force', 'pop_25_64',\n",
    "       'pop_determined_poverty_status', 'population_1_year_and_over',\n",
    "       'population_3_years_over', 'pop_25_years_over'], axis=1, inplace=True)\n",
    "X_test.drop(['pop_16_over', 'pop_in_labor_force', 'pop_25_64',\n",
    "       'pop_determined_poverty_status', 'population_1_year_and_over',\n",
    "       'population_3_years_over', 'pop_25_years_over'], axis=1, inplace=True)"
   ]
  },
  {
   "cell_type": "code",
   "execution_count": null,
   "id": "aff4519d",
   "metadata": {},
   "outputs": [],
   "source": [
    "X_train['civil_labor_ratio'] = X_train['civilian_labor_force']/X_train['total_pop']\n",
    "X_test['civil_labor_ratio'] = X_test['civilian_labor_force']/X_test['total_pop']\n",
    "X_train.drop('civilian_labor_force', axis=1, inplace=True)\n",
    "X_test.drop('civilian_labor_force', axis=1, inplace=True)"
   ]
  },
  {
   "cell_type": "code",
   "execution_count": null,
   "id": "d1660bf8",
   "metadata": {},
   "outputs": [],
   "source": [
    "drop3 = ['four_more_cars', 'no_car', 'no_cars', 'one_car', 'two_cars', 'three_cars']\n",
    "X_train.drop(drop3, axis=1, inplace=True)\n",
    "X_test.drop(drop3, axis=1, inplace=True)"
   ]
  },
  {
   "cell_type": "markdown",
   "id": "2d0a9f16",
   "metadata": {},
   "source": [
    "## Run a Lasso Regression after Feature Selection"
   ]
  },
  {
   "cell_type": "code",
   "execution_count": null,
   "id": "6b478029",
   "metadata": {},
   "outputs": [],
   "source": [
    "# Run a Lasso Regression on all variables after feature selection\n",
    "\n",
    "scaler = StandardScaler().fit(X_train)\n",
    "features = scaler.transform(X_train)\n",
    "X_std = pd.DataFrame(features, columns = X_train.columns)\n",
    "\n",
    "alphas = 10**np.linspace(10,-2,500)*0.5\n",
    "\n",
    "lassocv = LassoCV(alphas = alphas, random_state=0)\n",
    "lassocv.fit(X_std, Y_train)\n",
    "lassocv_alpha = lassocv.alpha_\n",
    "\n",
    "las = Lasso(alpha = lassocv.alpha_, random_state = 0)\n",
    "las.fit(X_std,Y_train)\n",
    "\n",
    "print('Score for training data:', las.score(X_std,Y_train))\n",
    "\n",
    "pred = las.predict(X_std)\n",
    "pred_unlog = np.exp(pred)\n",
    "Y_unlog = np.exp(Y_train)\n",
    "train_RMSE = mean_squared_error(Y_unlog, pred_unlog, squared = False)\n",
    "print('(not log) RMSE for training data is:', train_RMSE)\n",
    "\n",
    "test_features = scaler.transform(X_test)\n",
    "X_test_std = pd.DataFrame(test_features, columns = X_test.columns)\n",
    "\n",
    "print('Score for test data:', las.score(X_test_std,Y_test))\n",
    "\n",
    "pred_test = las.predict(X_test_std)\n",
    "pred_test_unlog = np.exp(pred_test)\n",
    "Y_test_unlog = np.exp(Y_test)\n",
    "Test_RMSE = mean_squared_error(Y_test_unlog, pred_test_unlog, squared = False)\n",
    "print('(not log) RMSE for test data is:', Test_RMSE)\n",
    "\n",
    "las_imp = pd.DataFrame()\n",
    "\n",
    "las_imp['Feature'] = X_test_std.columns\n",
    "las_imp['Importance'] = list(las.coef_)\n",
    "las_imp['Abs Importance'] = abs(las_imp['Importance'])\n",
    "las_imp = las_imp.sort_values(by = 'Abs Importance', ascending = False)\n",
    "las_imp\n",
    "\n",
    "ranking = list(range(1,las_imp.shape[0]+1))\n",
    "las_imp['ranking'] = ranking\n",
    "las_imp"
   ]
  },
  {
   "cell_type": "code",
   "execution_count": null,
   "id": "79977f9e",
   "metadata": {},
   "outputs": [],
   "source": [
    "r2_train = las.score(X_std, Y_train)\n",
    "r2_test = las.score(X_test_std, Y_test)\n",
    "lasso_output = pd.DataFrame()\n",
    "lasso_output['all'] = [train_RMSE, Test_RMSE, r2_train, r2_test]\n",
    "lasso_output.index = ['RMSE_train', 'RMSE_test', 'R2_train', 'R2_test']\n",
    "lasso_output"
   ]
  },
  {
   "cell_type": "code",
   "execution_count": null,
   "id": "f4c6ecbd",
   "metadata": {},
   "outputs": [],
   "source": []
  },
  {
   "cell_type": "markdown",
   "id": "45b8fa81",
   "metadata": {},
   "source": [
    "## Run a PCA on remaining features"
   ]
  },
  {
   "cell_type": "code",
   "execution_count": null,
   "id": "5120d273",
   "metadata": {},
   "outputs": [],
   "source": [
    "scaler_pca = StandardScaler().fit(X_train)\n",
    "features = scaler_pca.transform(X_train)\n",
    "df_scal = pd.DataFrame(features, columns = X_train.columns)"
   ]
  },
  {
   "cell_type": "code",
   "execution_count": 3,
   "id": "a41985ae",
   "metadata": {},
   "outputs": [
    {
     "ename": "NameError",
     "evalue": "name 'PCA' is not defined",
     "output_type": "error",
     "traceback": [
      "\u001b[0;31m---------------------------------------------------------------------------\u001b[0m",
      "\u001b[0;31mNameError\u001b[0m                                 Traceback (most recent call last)",
      "\u001b[0;32m<ipython-input-3-d1a9b4dbbf39>\u001b[0m in \u001b[0;36m<module>\u001b[0;34m\u001b[0m\n\u001b[0;32m----> 1\u001b[0;31m \u001b[0mpca\u001b[0m \u001b[0;34m=\u001b[0m \u001b[0mPCA\u001b[0m\u001b[0;34m(\u001b[0m\u001b[0mn_components\u001b[0m \u001b[0;34m=\u001b[0m \u001b[0;36m0.95\u001b[0m\u001b[0;34m)\u001b[0m\u001b[0;34m\u001b[0m\u001b[0;34m\u001b[0m\u001b[0m\n\u001b[0m\u001b[1;32m      2\u001b[0m \u001b[0mdf_reduced\u001b[0m \u001b[0;34m=\u001b[0m \u001b[0mpca\u001b[0m\u001b[0;34m.\u001b[0m\u001b[0mfit_transform\u001b[0m\u001b[0;34m(\u001b[0m\u001b[0mdf_scal\u001b[0m\u001b[0;34m)\u001b[0m\u001b[0;34m\u001b[0m\u001b[0;34m\u001b[0m\u001b[0m\n\u001b[1;32m      3\u001b[0m \u001b[0;34m\u001b[0m\u001b[0m\n\u001b[1;32m      4\u001b[0m \u001b[0mprint\u001b[0m\u001b[0;34m(\u001b[0m\u001b[0mdf_reduced\u001b[0m\u001b[0;34m.\u001b[0m\u001b[0mshape\u001b[0m\u001b[0;34m)\u001b[0m\u001b[0;34m\u001b[0m\u001b[0;34m\u001b[0m\u001b[0m\n\u001b[1;32m      5\u001b[0m \u001b[0;34m\u001b[0m\u001b[0m\n",
      "\u001b[0;31mNameError\u001b[0m: name 'PCA' is not defined"
     ]
    }
   ],
   "source": [
    "pca = PCA(n_components = 0.95)\n",
    "df_reduced = pca.fit_transform(df_scal)\n",
    "\n",
    "print(df_reduced.shape)\n",
    "\n",
    "df_reduced = pd.DataFrame(pca.components_, columns = X_train.columns, index = list(range(1,df_reduced.shape[1]+1)))\n",
    "df_reduced = df_reduced.apply(lambda x: abs(x))\n"
   ]
  },
  {
   "cell_type": "code",
   "execution_count": null,
   "id": "4c925743",
   "metadata": {},
   "outputs": [],
   "source": [
    "# Try to reduce features by finding most important one for each of the dimensions\n",
    "feat = []\n",
    "for i in range(0,df_reduced.shape[0]):\n",
    "    ff = df_reduced.iloc[i].idxmax()\n",
    "    df_reduced.drop(ff, inplace = True, axis = 1)\n",
    "    feat.append(ff)"
   ]
  },
  {
   "cell_type": "code",
   "execution_count": null,
   "id": "d9c0129c",
   "metadata": {
    "scrolled": true
   },
   "outputs": [],
   "source": [
    "feat.append('log_value')\n",
    "feat"
   ]
  },
  {
   "cell_type": "code",
   "execution_count": null,
   "id": "45384bdb",
   "metadata": {},
   "outputs": [],
   "source": [
    "X_red_train = X_train[feat]\n",
    "X_red_test = X_test[feat]"
   ]
  },
  {
   "cell_type": "code",
   "execution_count": null,
   "id": "d767cf47",
   "metadata": {
    "scrolled": true
   },
   "outputs": [],
   "source": [
    "# Run Lasso Regression on PCA variables:\n",
    "scaler_red = StandardScaler().fit(X_red_train)\n",
    "features_red = scaler_red.transform(X_red_train)\n",
    "X_red_std = pd.DataFrame(features_red, columns = X_red_train.columns)\n",
    "\n",
    "alphas = 10**np.linspace(10,-2,500)*0.5\n",
    "\n",
    "lassocv_red = LassoCV(alphas = alphas, random_state=0)\n",
    "lassocv_red.fit(X_red_std, Y_train)\n",
    "lassocv_red_alpha = lassocv_red.alpha_\n",
    "\n",
    "las_red = Lasso(alpha = lassocv_red.alpha_, random_state = 0)\n",
    "las_red.fit(X_red_std,Y_train)\n",
    "\n",
    "print('Score for training data:', las_red.score(X_red_std,Y_train))\n",
    "\n",
    "pred_red = las_red.predict(X_red_std)\n",
    "pred_red = np.exp(pred_red)\n",
    "Y_train_red = np.exp(Y_train)\n",
    "train_RMSE_red = mean_squared_error(Y_train_red, pred_red, squared = False)\n",
    "print('(not log) RMSE for training data is:', train_RMSE_red)\n",
    "\n",
    "test_features_red = scaler_red.transform(X_red_test)\n",
    "X_red_test_std = pd.DataFrame(test_features_red, columns = X_red_test.columns)\n",
    "\n",
    "print('Score for test data:', las_red.score(X_red_test_std,Y_test))\n",
    "\n",
    "pred_test_red = las_red.predict(X_red_test_std)\n",
    "pred_test_red = np.exp(pred_test_red)\n",
    "Y_test_red = np.exp(Y_test)\n",
    "Test_RMSE_red = mean_squared_error(Y_test_red, pred_test_red, squared = False)\n",
    "print('(not log) RMSE for test data is:', Test_RMSE_red)\n",
    "\n",
    "las_imp_red = pd.DataFrame()\n",
    "\n",
    "las_imp_red['Feature'] = X_red_test_std.columns\n",
    "las_imp_red['Importance'] = list(las_red.coef_)\n",
    "las_imp_red['Abs Importance'] = abs(las_imp_red['Importance'])\n",
    "las_imp_red = las_imp_red.sort_values(by = 'Abs Importance', ascending = False)\n",
    "las_imp_red\n",
    "\n",
    "ranking_red = list(range(1,las_imp_red.shape[0]+1))\n",
    "las_imp_red['ranking'] = ranking_red\n",
    "las_imp_red"
   ]
  },
  {
   "cell_type": "code",
   "execution_count": null,
   "id": "103e722f",
   "metadata": {},
   "outputs": [],
   "source": [
    "r2_train = las_red.score(X_red_std,Y_train)\n",
    "r2_test = las_red.score(X_red_test_std, Y_test)\n",
    "lasso_output['all_PCA'] = [train_RMSE_red, Test_RMSE_red, r2_train, r2_test]\n",
    "lasso_output"
   ]
  },
  {
   "cell_type": "markdown",
   "id": "ffebcb2e",
   "metadata": {},
   "source": [
    "## Break data into the different Clusters"
   ]
  },
  {
   "cell_type": "code",
   "execution_count": null,
   "id": "f5c9ae6c",
   "metadata": {},
   "outputs": [],
   "source": [
    "Y_ctrain = Y_train.copy()\n",
    "Y_ctrain['Cluster'] = X_train['Cluster']\n",
    "Y_ctest = Y_test.copy()\n",
    "Y_ctest['Cluster'] = X_test['Cluster']"
   ]
  },
  {
   "cell_type": "code",
   "execution_count": null,
   "id": "bc191f40",
   "metadata": {},
   "outputs": [],
   "source": [
    "Y_c1train = Y_ctrain[Y_ctrain['Cluster'] == 0]\n",
    "Y_c1train.drop('Cluster', axis=1, inplace=True)\n",
    "Y_c2train = Y_ctrain[Y_ctrain['Cluster'] == 1]\n",
    "Y_c2train.drop('Cluster', axis=1, inplace=True)\n",
    "Y_c3train = Y_ctrain[Y_ctrain['Cluster'] == 2]\n",
    "Y_c3train.drop('Cluster', axis=1, inplace=True)\n",
    "\n",
    "Y_c1test = Y_ctest[Y_ctest['Cluster'] == 0]\n",
    "Y_c1test.drop('Cluster', axis=1, inplace=True)\n",
    "Y_c2test = Y_ctest[Y_ctest['Cluster'] == 1]\n",
    "Y_c2test.drop('Cluster', axis=1, inplace=True)\n",
    "Y_c3test = Y_ctest[Y_ctest['Cluster'] == 2]\n",
    "Y_c3test.drop('Cluster', axis=1, inplace=True)"
   ]
  },
  {
   "cell_type": "code",
   "execution_count": null,
   "id": "a93d177a",
   "metadata": {},
   "outputs": [],
   "source": [
    "c1_train = X_train[X_train['Cluster'] == 0]\n",
    "\n",
    "c2_train = X_train[X_train['Cluster'] == 1]\n",
    "\n",
    "c3_train = X_train[X_train['Cluster'] == 2]\n",
    "\n",
    "\n",
    "c1_test = X_test[X_test['Cluster'] == 0]\n",
    "\n",
    "c2_test = X_test[X_test['Cluster'] == 1]\n",
    "\n",
    "c3_test = X_test[X_test['Cluster'] == 2]\n"
   ]
  },
  {
   "cell_type": "markdown",
   "id": "11ff0ed8",
   "metadata": {},
   "source": [
    "## Run a Lasso Regression on the Clusters"
   ]
  },
  {
   "cell_type": "code",
   "execution_count": null,
   "id": "2b88f483",
   "metadata": {
    "scrolled": true
   },
   "outputs": [],
   "source": [
    "# Run Lasso Regression on Cluster 1:\n",
    "scaler = StandardScaler().fit(c1_train)\n",
    "features = scaler.transform(c1_train)\n",
    "c1_strain = pd.DataFrame(features, columns = c1_train.columns)\n",
    "\n",
    "alphas = 10**np.linspace(10,-2,500)*0.5\n",
    "\n",
    "lassocv = LassoCV(alphas = alphas, random_state=0)\n",
    "lassocv.fit(c1_strain, Y_c1train)\n",
    "lassocv_alpha = lassocv.alpha_\n",
    "\n",
    "las = Lasso(alpha = lassocv.alpha_, random_state = 0)\n",
    "las.fit(c1_strain,Y_c1train)\n",
    "\n",
    "print('Score for training data:', las.score(c1_strain,Y_c1train))\n",
    "\n",
    "pred = las.predict(c1_strain)\n",
    "pred = np.exp(pred)\n",
    "Y_c1_train = np.exp(Y_c1train)\n",
    "train_RMSE = mean_squared_error(Y_c1_train, pred, squared = False)\n",
    "print('(not log) RMSE for training data is:', train_RMSE)\n",
    "\n",
    "test_features = scaler.transform(c1_test)\n",
    "c1_stest = pd.DataFrame(test_features, columns = c1_test.columns)\n",
    "\n",
    "print('Score for test data:', las.score(c1_stest,Y_c1test))\n",
    "\n",
    "pred_test = las.predict(c1_stest)\n",
    "pred_test = np.exp(pred_test)\n",
    "Y_c1_test = np.exp(Y_c1test)\n",
    "Test_RMSE = mean_squared_error(Y_c1_test, pred_test, squared = False)\n",
    "print('(not log) RMSE for test data is:', Test_RMSE)\n",
    "\n",
    "las_imp = pd.DataFrame()\n",
    "\n",
    "las_imp['Feature'] = c1_strain.columns\n",
    "las_imp['Importance'] = list(las.coef_)\n",
    "las_imp['Abs Importance'] = abs(las_imp['Importance'])\n",
    "las_imp = las_imp.sort_values(by = 'Abs Importance', ascending = False)\n",
    "las_imp\n",
    "\n",
    "ranking = list(range(1,las_imp.shape[0]+1))\n",
    "las_imp['ranking'] = ranking\n",
    "las_imp"
   ]
  },
  {
   "cell_type": "code",
   "execution_count": null,
   "id": "7e787148",
   "metadata": {},
   "outputs": [],
   "source": [
    "r2_train = las.score(c1_strain,Y_c1train)\n",
    "r2_test = las.score(c1_stest,Y_c1test)\n",
    "lasso_output['Clust_1'] = [train_RMSE, Test_RMSE, r2_train, r2_test]\n",
    "lasso_output"
   ]
  },
  {
   "cell_type": "code",
   "execution_count": null,
   "id": "2a756d3b",
   "metadata": {
    "scrolled": true
   },
   "outputs": [],
   "source": [
    "# Run a PCA on Cluster 1:\n",
    "scaler_pca = StandardScaler().fit(c1_train)\n",
    "features = scaler_pca.transform(c1_train)\n",
    "df1_scal = pd.DataFrame(features, columns = c1_train.columns)\n",
    "\n",
    "pca = PCA(n_components = 0.95)\n",
    "df_reduced = pca.fit_transform(df1_scal)\n",
    "\n",
    "df_reduced = pd.DataFrame(pca.components_, columns = c1_train.columns, index = list(range(1,df_reduced.shape[1]+1)))\n",
    "df_reduced = df_reduced.apply(lambda x: abs(x))\n",
    "\n",
    "feat1 = []\n",
    "for i in range(0,df_reduced.shape[0]):\n",
    "    ff = df_reduced.iloc[i].idxmax()\n",
    "    df_reduced.drop(ff, inplace = True, axis = 1)\n",
    "    feat1.append(ff)\n",
    "\n",
    "feat1.append('log_value')\n",
    "\n",
    "c1_train = c1_train[feat1]\n",
    "c1_test = c1_test[feat1]\n",
    "\n",
    "# Run Lasso Regression on Cluster 1 with PCA variables:\n",
    "\n",
    "scaler = StandardScaler().fit(c1_train)\n",
    "features = scaler.transform(c1_train)\n",
    "c1_strain = pd.DataFrame(features, columns = c1_train.columns)\n",
    "\n",
    "alphas = 10**np.linspace(10,-2,500)*0.5\n",
    "\n",
    "lassocv = LassoCV(alphas = alphas, random_state=0)\n",
    "lassocv.fit(c1_strain, Y_c1train)\n",
    "lassocv_alpha = lassocv.alpha_\n",
    "\n",
    "las = Lasso(alpha = lassocv.alpha_, random_state = 0)\n",
    "las.fit(c1_strain,Y_c1train)\n",
    "\n",
    "print('Score for training data:', las.score(c1_strain,Y_c1train))\n",
    "\n",
    "pred = las.predict(c1_strain)\n",
    "pred = np.exp(pred)\n",
    "Y_c1_train = np.exp(Y_c1train)\n",
    "train_RMSE = mean_squared_error(Y_c1_train, pred, squared = False)\n",
    "print('(not log) RMSE for training data is:', train_RMSE)\n",
    "\n",
    "test_features = scaler.transform(c1_test)\n",
    "c1_stest = pd.DataFrame(test_features, columns = c1_test.columns)\n",
    "\n",
    "print('Score for test data:', las.score(c1_stest,Y_c1test))\n",
    "\n",
    "pred_test = las.predict(c1_stest)\n",
    "pred_test = np.exp(pred_test)\n",
    "Y_c1_test = np.exp(Y_c1test)\n",
    "Test_RMSE = mean_squared_error(Y_c1_test, pred_test, squared = False)\n",
    "print('(not log) RMSE for test data is:', Test_RMSE)\n",
    "\n",
    "las_imp = pd.DataFrame()\n",
    "\n",
    "las_imp['Feature'] = c1_strain.columns\n",
    "las_imp['Importance'] = list(las.coef_)\n",
    "las_imp['Abs Importance'] = abs(las_imp['Importance'])\n",
    "las_imp = las_imp.sort_values(by = 'Abs Importance', ascending = False)\n",
    "las_imp\n",
    "\n",
    "ranking = list(range(1,las_imp.shape[0]+1))\n",
    "las_imp['ranking'] = ranking\n",
    "las_imp"
   ]
  },
  {
   "cell_type": "code",
   "execution_count": null,
   "id": "dfac60f8",
   "metadata": {},
   "outputs": [],
   "source": [
    "r2_train = las.score(c1_strain,Y_c1train)\n",
    "r2_test = las.score(c1_stest,Y_c1test)\n",
    "lasso_output['Clust_1_PCA'] = [train_RMSE, Test_RMSE, r2_train, r2_test]\n",
    "lasso_output"
   ]
  },
  {
   "cell_type": "code",
   "execution_count": null,
   "id": "50804d7b",
   "metadata": {
    "scrolled": true
   },
   "outputs": [],
   "source": [
    "# Run Lasso Regression on Cluster 2:\n",
    "\n",
    "scaler = StandardScaler().fit(c2_train)\n",
    "features = scaler.transform(c2_train)\n",
    "c2_strain = pd.DataFrame(features, columns = c2_train.columns)\n",
    "\n",
    "alphas = 10**np.linspace(10,-2,500)*0.5\n",
    "\n",
    "lassocv = LassoCV(alphas = alphas, random_state=0)\n",
    "lassocv.fit(c2_strain, Y_c2train)\n",
    "lassocv_alpha = lassocv.alpha_\n",
    "\n",
    "las = Lasso(alpha = lassocv.alpha_, random_state = 0)\n",
    "las.fit(c2_strain,Y_c2train)\n",
    "\n",
    "print('Score for training data:', las.score(c2_strain,Y_c2train))\n",
    "\n",
    "pred = las.predict(c2_strain)\n",
    "pred = np.exp(pred)\n",
    "Y_c2_train = np.exp(Y_c2train)\n",
    "train_RMSE = mean_squared_error(Y_c2_train, pred, squared = False)\n",
    "print('(not log) RMSE for training data is:', train_RMSE)\n",
    "\n",
    "test_features = scaler.transform(c2_test)\n",
    "c2_stest = pd.DataFrame(test_features, columns = c2_test.columns)\n",
    "\n",
    "print('Score for test data:', las.score(c2_stest,Y_c2test))\n",
    "\n",
    "pred_test = las.predict(c2_stest)\n",
    "pred_test = np.exp(pred_test)\n",
    "Y_c2_test = np.exp(Y_c2test)\n",
    "Test_RMSE = mean_squared_error(Y_c2_test, pred_test, squared = False)\n",
    "print('(not log) RMSE for test data is:', Test_RMSE)\n",
    "\n",
    "las_imp = pd.DataFrame()\n",
    "\n",
    "las_imp['Feature'] = c2_strain.columns\n",
    "las_imp['Importance'] = list(las.coef_)\n",
    "las_imp['Abs Importance'] = abs(las_imp['Importance'])\n",
    "las_imp = las_imp.sort_values(by = 'Abs Importance', ascending = False)\n",
    "las_imp\n",
    "\n",
    "ranking = list(range(1,las_imp.shape[0]+1))\n",
    "las_imp['ranking'] = ranking\n",
    "las_imp"
   ]
  },
  {
   "cell_type": "code",
   "execution_count": null,
   "id": "abb16cf7",
   "metadata": {},
   "outputs": [],
   "source": [
    "r2_train = las.score(c2_strain,Y_c2train)\n",
    "r2_test = las.score(c2_stest,Y_c2test)\n",
    "lasso_output['Clust_2'] = [train_RMSE, Test_RMSE, r2_train, r2_test]\n",
    "lasso_output"
   ]
  },
  {
   "cell_type": "code",
   "execution_count": null,
   "id": "92c5ae96",
   "metadata": {
    "scrolled": true
   },
   "outputs": [],
   "source": [
    "# Run a PCA on Cluster 2:\n",
    "scaler_pca = StandardScaler().fit(c2_train)\n",
    "features = scaler_pca.transform(c2_train)\n",
    "df2_scal = pd.DataFrame(features, columns = c2_train.columns)\n",
    "\n",
    "pca = PCA(n_components = 0.95)\n",
    "df_reduced = pca.fit_transform(df2_scal)\n",
    "\n",
    "df_reduced = pd.DataFrame(pca.components_, columns = c2_train.columns, index = list(range(1,df_reduced.shape[1]+1)))\n",
    "df_reduced = df_reduced.apply(lambda x: abs(x))\n",
    "\n",
    "feat2 = []\n",
    "for i in range(0,df_reduced.shape[0]):\n",
    "    ff = df_reduced.iloc[i].idxmax()\n",
    "    df_reduced.drop(ff, inplace = True, axis = 1)\n",
    "    feat2.append(ff)\n",
    "\n",
    "feat2.append('log_value')\n",
    "\n",
    "c2_train = c2_train[feat2]\n",
    "c2_test = c2_test[feat2]\n",
    "\n",
    "# Run Lasso Regression on Cluster 2 with PCA variables:\n",
    "\n",
    "scaler = StandardScaler().fit(c2_train)\n",
    "features = scaler.transform(c2_train)\n",
    "c2_strain = pd.DataFrame(features, columns = c2_train.columns)\n",
    "\n",
    "alphas = 10**np.linspace(10,-2,500)*0.5\n",
    "\n",
    "lassocv = LassoCV(alphas = alphas, random_state=0)\n",
    "lassocv.fit(c2_strain, Y_c2train)\n",
    "lassocv_alpha = lassocv.alpha_\n",
    "\n",
    "las = Lasso(alpha = lassocv.alpha_, random_state = 0)\n",
    "las.fit(c2_strain,Y_c2train)\n",
    "\n",
    "print('Score for training data:', las.score(c2_strain,Y_c2train))\n",
    "\n",
    "pred = las.predict(c2_strain)\n",
    "pred = np.exp(pred)\n",
    "Y_c2_train = np.exp(Y_c2train)\n",
    "train_RMSE = mean_squared_error(Y_c2_train, pred, squared = False)\n",
    "print('(not log) RMSE for training data is:', train_RMSE)\n",
    "\n",
    "test_features = scaler.transform(c2_test)\n",
    "c2_stest = pd.DataFrame(test_features, columns = c2_test.columns)\n",
    "\n",
    "print('Score for test data:', las.score(c2_stest,Y_c2test))\n",
    "\n",
    "pred_test = las.predict(c2_stest)\n",
    "pred_test = np.exp(pred_test)\n",
    "Y_c2_test = np.exp(Y_c2test)\n",
    "Test_RMSE = mean_squared_error(Y_c2_test, pred_test, squared = False)\n",
    "print('(not log) RMSE for test data is:', Test_RMSE)\n",
    "\n",
    "las_imp = pd.DataFrame()\n",
    "\n",
    "las_imp['Feature'] = c2_strain.columns\n",
    "las_imp['Importance'] = list(las.coef_)\n",
    "las_imp['Abs Importance'] = abs(las_imp['Importance'])\n",
    "las_imp = las_imp.sort_values(by = 'Abs Importance', ascending = False)\n",
    "las_imp\n",
    "\n",
    "ranking = list(range(1,las_imp.shape[0]+1))\n",
    "las_imp['ranking'] = ranking\n",
    "las_imp"
   ]
  },
  {
   "cell_type": "code",
   "execution_count": null,
   "id": "d5d82b14",
   "metadata": {},
   "outputs": [],
   "source": [
    "r2_train = las.score(c2_strain,Y_c2train)\n",
    "r2_test = las.score(c2_stest,Y_c2test)\n",
    "lasso_output['Clust_2_PCA'] = [train_RMSE, Test_RMSE, r2_train, r2_test]\n",
    "lasso_output"
   ]
  },
  {
   "cell_type": "code",
   "execution_count": null,
   "id": "00030bb9",
   "metadata": {
    "scrolled": true
   },
   "outputs": [],
   "source": [
    "# Run Lasso Regression on Cluster 3:\n",
    "\n",
    "scaler = StandardScaler().fit(c3_train)\n",
    "features = scaler.transform(c3_train)\n",
    "c3_strain = pd.DataFrame(features, columns = c3_train.columns)\n",
    "\n",
    "alphas = 10**np.linspace(10,-2,500)*0.5\n",
    "\n",
    "lassocv = LassoCV(alphas = alphas, random_state=0)\n",
    "lassocv.fit(c3_strain, Y_c3train)\n",
    "lassocv_alpha = lassocv.alpha_\n",
    "\n",
    "las = Lasso(alpha = lassocv.alpha_, random_state = 0)\n",
    "las.fit(c3_strain,Y_c3train)\n",
    "\n",
    "print('Score for training data:', las.score(c3_strain,Y_c3train))\n",
    "\n",
    "pred = las.predict(c3_strain)\n",
    "pred = np.exp(pred)\n",
    "Y_c3_train = np.exp(Y_c3train)\n",
    "train_RMSE = mean_squared_error(Y_c3_train, pred, squared = False)\n",
    "print('(not log) RMSE for training data is:', train_RMSE)\n",
    "\n",
    "test_features = scaler.transform(c3_test)\n",
    "c3_stest = pd.DataFrame(test_features, columns = c3_test.columns)\n",
    "\n",
    "print('Score for test data:', las.score(c3_stest,Y_c3test))\n",
    "\n",
    "pred_test = las.predict(c3_stest)\n",
    "pred_test = np.exp(pred_test)\n",
    "Y_c3_test = np.exp(Y_c3test)\n",
    "Test_RMSE = mean_squared_error(Y_c3_test, pred_test, squared = False)\n",
    "print('(not log) RMSE for test data is:', Test_RMSE)\n",
    "\n",
    "las_imp = pd.DataFrame()\n",
    "\n",
    "las_imp['Feature'] = c3_strain.columns\n",
    "las_imp['Importance'] = list(las.coef_)\n",
    "las_imp['Abs Importance'] = abs(las_imp['Importance'])\n",
    "las_imp = las_imp.sort_values(by = 'Abs Importance', ascending = False)\n",
    "las_imp\n",
    "\n",
    "ranking = list(range(1,las_imp.shape[0]+1))\n",
    "las_imp['ranking'] = ranking\n",
    "las_imp"
   ]
  },
  {
   "cell_type": "code",
   "execution_count": null,
   "id": "ca0c1736",
   "metadata": {},
   "outputs": [],
   "source": [
    "r2_train = las.score(c3_strain,Y_c3train)\n",
    "r2_test = las.score(c3_stest,Y_c3test)\n",
    "lasso_output['Clust_3'] = [train_RMSE, Test_RMSE, r2_train, r2_test]\n",
    "lasso_output"
   ]
  },
  {
   "cell_type": "code",
   "execution_count": null,
   "id": "b9dd312e",
   "metadata": {
    "scrolled": true
   },
   "outputs": [],
   "source": [
    "# Run a PCA on Cluster 3:\n",
    "scaler_pca = StandardScaler().fit(c3_train)\n",
    "features = scaler_pca.transform(c3_train)\n",
    "df3_scal = pd.DataFrame(features, columns = c3_train.columns)\n",
    "\n",
    "pca = PCA(n_components = 0.95)\n",
    "df_reduced = pca.fit_transform(df3_scal)\n",
    "\n",
    "df_reduced = pd.DataFrame(pca.components_, columns = c3_train.columns, index = list(range(1,df_reduced.shape[1]+1)))\n",
    "df_reduced = df_reduced.apply(lambda x: abs(x))\n",
    "\n",
    "feat3 = []\n",
    "for i in range(0,df_reduced.shape[0]):\n",
    "    ff = df_reduced.iloc[i].idxmax()\n",
    "    df_reduced.drop(ff, inplace = True, axis = 1)\n",
    "    feat3.append(ff)\n",
    "\n",
    "feat3.append('log_value')\n",
    "\n",
    "c3_train = c3_train[feat3]\n",
    "c3_test = c3_test[feat3]\n",
    "\n",
    "# Run Lasso Regression on Cluster 3 with PCA variables:\n",
    "\n",
    "scaler = StandardScaler().fit(c3_train)\n",
    "features = scaler.transform(c3_train)\n",
    "c3_strain = pd.DataFrame(features, columns = c3_train.columns)\n",
    "\n",
    "alphas = 10**np.linspace(10,-2,500)*0.5\n",
    "\n",
    "lassocv = LassoCV(alphas = alphas, random_state=0)\n",
    "lassocv.fit(c3_strain, Y_c3train)\n",
    "lassocv_alpha = lassocv.alpha_\n",
    "\n",
    "las = Lasso(alpha = lassocv.alpha_, random_state = 0)\n",
    "las.fit(c3_strain,Y_c3train)\n",
    "\n",
    "print('Score for training data:', las.score(c3_strain,Y_c3train))\n",
    "\n",
    "pred = las.predict(c3_strain)\n",
    "pred = np.exp(pred)\n",
    "Y_c3_train = np.exp(Y_c3train)\n",
    "train_RMSE = mean_squared_error(Y_c3_train, pred, squared = False)\n",
    "print('(not log) RMSE for training data is:', train_RMSE)\n",
    "\n",
    "test_features = scaler.transform(c3_test)\n",
    "c3_stest = pd.DataFrame(test_features, columns = c3_test.columns)\n",
    "\n",
    "print('Score for test data:', las.score(c3_stest,Y_c3test))\n",
    "\n",
    "pred_test = las.predict(c3_stest)\n",
    "pred_test = np.exp(pred_test)\n",
    "Y_c3_test = np.exp(Y_c3test)\n",
    "Test_RMSE = mean_squared_error(Y_c3_test, pred_test, squared = False)\n",
    "print('(not log) RMSE for test data is:', Test_RMSE)\n",
    "\n",
    "las_imp = pd.DataFrame()\n",
    "\n",
    "las_imp['Feature'] = c3_strain.columns\n",
    "las_imp['Importance'] = list(las.coef_)\n",
    "las_imp['Abs Importance'] = abs(las_imp['Importance'])\n",
    "las_imp = las_imp.sort_values(by = 'Abs Importance', ascending = False)\n",
    "las_imp\n",
    "\n",
    "ranking = list(range(1,las_imp.shape[0]+1))\n",
    "las_imp['ranking'] = ranking\n",
    "las_imp"
   ]
  },
  {
   "cell_type": "code",
   "execution_count": null,
   "id": "e36aa132",
   "metadata": {},
   "outputs": [],
   "source": [
    "r2_train = las.score(c3_strain,Y_c3train)\n",
    "r2_test = las.score(c3_stest,Y_c3test)\n",
    "lasso_output['Clust_3_PCA'] = [train_RMSE, Test_RMSE, r2_train, r2_test]\n",
    "lasso_output"
   ]
  },
  {
   "cell_type": "code",
   "execution_count": null,
   "id": "6e8c6086",
   "metadata": {},
   "outputs": [],
   "source": [
    "# # Things to discuss:\n",
    "#     Further feature engineering\n",
    "#     Multicolinearity\n",
    "#     Drop columns from lasso\n",
    "#     Currently predicting 1 year out values but if we want to predict 2021, we need to change target values by 2 years\n",
    "#     Next steps: rerun with clusters and compare RSME\n",
    "#     Compare PCA to Lasso selection\n",
    "    "
   ]
  }
 ],
 "metadata": {
  "kernelspec": {
   "display_name": "Python 3",
   "language": "python",
   "name": "python3"
  },
  "language_info": {
   "codemirror_mode": {
    "name": "ipython",
    "version": 3
   },
   "file_extension": ".py",
   "mimetype": "text/x-python",
   "name": "python",
   "nbconvert_exporter": "python",
   "pygments_lexer": "ipython3",
   "version": "3.8.8"
  }
 },
 "nbformat": 4,
 "nbformat_minor": 5
}
