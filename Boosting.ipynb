{
 "cells": [
  {
   "cell_type": "code",
   "execution_count": 1,
   "id": "f7c19906",
   "metadata": {},
   "outputs": [],
   "source": [
    "import numpy as np\n",
    "import pandas as pd\n",
    "import sklearn.ensemble\n",
    "%matplotlib inline\n",
    "import matplotlib.pyplot as plt\n",
    "from sklearn.metrics import mean_squared_error\n",
    "plt.style.use('ggplot')\n",
    "from sklearn.model_selection import GridSearchCV, RandomizedSearchCV\n",
    "from sklearn.ensemble import GradientBoostingClassifier, GradientBoostingRegressor"
   ]
  },
  {
   "cell_type": "code",
   "execution_count": 2,
   "id": "ae10ebc4",
   "metadata": {
    "collapsed": true
   },
   "outputs": [
    {
     "name": "stderr",
     "output_type": "stream",
     "text": [
      "/opt/anaconda3/lib/python3.8/site-packages/pandas/core/indexing.py:1637: SettingWithCopyWarning: \n",
      "A value is trying to be set on a copy of a slice from a DataFrame\n",
      "\n",
      "See the caveats in the documentation: https://pandas.pydata.org/pandas-docs/stable/user_guide/indexing.html#returning-a-view-versus-a-copy\n",
      "  self._setitem_single_block(indexer, value, name)\n",
      "/opt/anaconda3/lib/python3.8/site-packages/pandas/core/frame.py:4308: SettingWithCopyWarning: \n",
      "A value is trying to be set on a copy of a slice from a DataFrame\n",
      "\n",
      "See the caveats in the documentation: https://pandas.pydata.org/pandas-docs/stable/user_guide/indexing.html#returning-a-view-versus-a-copy\n",
      "  return super().drop(\n",
      "/opt/anaconda3/lib/python3.8/site-packages/pandas/core/frame.py:4308: SettingWithCopyWarning: \n",
      "A value is trying to be set on a copy of a slice from a DataFrame\n",
      "\n",
      "See the caveats in the documentation: https://pandas.pydata.org/pandas-docs/stable/user_guide/indexing.html#returning-a-view-versus-a-copy\n",
      "  return super().drop(\n",
      "/opt/anaconda3/lib/python3.8/site-packages/pandas/core/frame.py:4308: SettingWithCopyWarning: \n",
      "A value is trying to be set on a copy of a slice from a DataFrame\n",
      "\n",
      "See the caveats in the documentation: https://pandas.pydata.org/pandas-docs/stable/user_guide/indexing.html#returning-a-view-versus-a-copy\n",
      "  return super().drop(\n",
      "/opt/anaconda3/lib/python3.8/site-packages/pandas/core/frame.py:4308: SettingWithCopyWarning: \n",
      "A value is trying to be set on a copy of a slice from a DataFrame\n",
      "\n",
      "See the caveats in the documentation: https://pandas.pydata.org/pandas-docs/stable/user_guide/indexing.html#returning-a-view-versus-a-copy\n",
      "  return super().drop(\n",
      "/opt/anaconda3/lib/python3.8/site-packages/pandas/core/frame.py:4308: SettingWithCopyWarning: \n",
      "A value is trying to be set on a copy of a slice from a DataFrame\n",
      "\n",
      "See the caveats in the documentation: https://pandas.pydata.org/pandas-docs/stable/user_guide/indexing.html#returning-a-view-versus-a-copy\n",
      "  return super().drop(\n",
      "/opt/anaconda3/lib/python3.8/site-packages/pandas/core/frame.py:4308: SettingWithCopyWarning: \n",
      "A value is trying to be set on a copy of a slice from a DataFrame\n",
      "\n",
      "See the caveats in the documentation: https://pandas.pydata.org/pandas-docs/stable/user_guide/indexing.html#returning-a-view-versus-a-copy\n",
      "  return super().drop(\n"
     ]
    }
   ],
   "source": [
    "from Feat_eng import Y_train, X_train, Y_test, X_test, c1_train, c2_train, c3_train, c1_test, c2_test, c3_test, Y_c1train, Y_c2train, Y_c3train, Y_c1test, Y_c2test ,Y_c3test  "
   ]
  },
  {
   "cell_type": "code",
   "execution_count": 4,
   "id": "1d6f89f9",
   "metadata": {},
   "outputs": [],
   "source": [
    "gbm = GradientBoostingRegressor()\n",
    "gbm.set_params(learning_rate = 0.01, n_estimators = 500, subsample = 0.7)\n",
    "\n",
    "gbm.fit(X_train,Y_train)"
   ]
  },
  {
   "cell_type": "code",
   "execution_count": 7,
   "id": "77d24b1d",
   "metadata": {},
   "outputs": [
    {
     "name": "stdout",
     "output_type": "stream",
     "text": [
      "0.9906981472517199\n",
      "0.9888473164072482\n"
     ]
    }
   ],
   "source": [
    "# print(gbm.best_score_)\n",
    "print(gbm.score(X_train,Y_train))\n",
    "print(gbm.score(X_test,Y_test))"
   ]
  },
  {
   "cell_type": "code",
   "execution_count": 8,
   "id": "aca7c6a2",
   "metadata": {},
   "outputs": [
    {
     "name": "stdout",
     "output_type": "stream",
     "text": [
      "Train RMSE =  67.79061773789292\n",
      "67.79061773789292\n",
      "Test RMSE =  78.71095569100504\n"
     ]
    }
   ],
   "source": [
    "pred = gbm.predict(X_train)\n",
    "pred_unlog = np.exp(pred)\n",
    "\n",
    "pred_test = gbm.predict(X_test)\n",
    "pred_test_unlog = np.exp(pred_test)\n",
    "\n",
    "Y_unlog = np.exp(Y_train)\n",
    "Y_test_unlog = np.exp(Y_test)\n",
    "\n",
    "\n",
    "\n",
    "print(\"Train RMSE = \", np.sqrt(mean_squared_error(pred_unlog, Y_unlog)))\n",
    "train_RMSE = mean_squared_error(Y_unlog, pred_unlog, squared = False)\n",
    "print(train_RMSE)\n",
    "print(\"Test RMSE = \", np.sqrt(mean_squared_error(pred_test_unlog, Y_test_unlog)))"
   ]
  },
  {
   "cell_type": "code",
   "execution_count": 10,
   "id": "99d7fab4",
   "metadata": {},
   "outputs": [
    {
     "name": "stderr",
     "output_type": "stream",
     "text": [
      "/opt/anaconda3/lib/python3.8/site-packages/sklearn/utils/validation.py:63: DataConversionWarning: A column-vector y was passed when a 1d array was expected. Please change the shape of y to (n_samples, ), for example using ravel().\n",
      "  return f(*args, **kwargs)\n"
     ]
    },
    {
     "data": {
      "text/plain": [
       "RandomizedSearchCV(cv=3, estimator=GradientBoostingRegressor(), n_iter=25,\n",
       "                   n_jobs=-1,\n",
       "                   param_distributions=[{'learning_rate': [0.005, 0.01, 0.015,\n",
       "                                                           0.02],\n",
       "                                         'n_estimators': [100, 500, 1000],\n",
       "                                         'subsample': [0.6, 0.5, 0.4, 0.2]}])"
      ]
     },
     "execution_count": 10,
     "metadata": {},
     "output_type": "execute_result"
    }
   ],
   "source": [
    "# GradientBoostingRegressor(learning_rate=0.01, n_estimators=1000, subsample=0.5)\n",
    "\n",
    "# grid_para_tree = [{'learning_rate': [0.01,0.02,0.03,0.04],\n",
    "#                   'subsample'    : [0.9, 0.5, 0.2, 0.1],\n",
    "#                   'n_estimators' : [50,100,250,500,1000]\n",
    "# #                   'max_depth'    : [4,6,8,10]\n",
    "\n",
    "                   \n",
    "grid_para_tree = [{'learning_rate': [0.005, 0.01, 0.015, 0.02],\n",
    "                  'subsample'    : [0.6, 0.5, 0.4, 0.2],\n",
    "                  'n_estimators' : [100, 500, 1000]\n",
    "#                  'max_depth'    : [2,5,10]\n",
    "                 }]\n",
    "\n",
    "boost = RandomizedSearchCV(gbm, grid_para_tree, \n",
    "                                cv = 3, \n",
    "                                n_jobs = -1, n_iter = 25)\n",
    "\n",
    "boost.fit(X_train, Y_train)"
   ]
  },
  {
   "cell_type": "code",
   "execution_count": 14,
   "id": "ea9c8d94",
   "metadata": {},
   "outputs": [
    {
     "data": {
      "text/plain": [
       "GradientBoostingRegressor(learning_rate=0.015, n_estimators=500, subsample=0.6)"
      ]
     },
     "execution_count": 14,
     "metadata": {},
     "output_type": "execute_result"
    }
   ],
   "source": [
    "boost.best_estimator_"
   ]
  },
  {
   "cell_type": "code",
   "execution_count": 15,
   "id": "f466e473",
   "metadata": {},
   "outputs": [
    {
     "name": "stdout",
     "output_type": "stream",
     "text": [
      "0.983964404787311\n",
      "0.9891275140013384\n"
     ]
    }
   ],
   "source": [
    "print(boost.best_score_)\n",
    "print(boost.score(X_test,Y_test))"
   ]
  },
  {
   "cell_type": "code",
   "execution_count": 16,
   "id": "8175c600",
   "metadata": {},
   "outputs": [
    {
     "name": "stdout",
     "output_type": "stream",
     "text": [
      "Train RMSE =  62.297309969375675\n",
      "Test RMSE =  76.99920518487085\n"
     ]
    }
   ],
   "source": [
    "pred = boost.predict(X_train)\n",
    "pred_unlog = np.exp(pred)\n",
    "\n",
    "pred_test = boost.predict(X_test)\n",
    "pred_test_unlog = np.exp(pred_test)\n",
    "\n",
    "Y_unlog = np.exp(Y_train)\n",
    "Y_test_unlog = np.exp(Y_test)\n",
    "\n",
    "train_RMSE = mean_squared_error(Y_unlog, pred_unlog, squared = False)\n",
    "print(\"Train RMSE = \", train_RMSE)\n",
    "print(\"Test RMSE = \", np.sqrt(mean_squared_error(pred_test_unlog, Y_test_unlog)))"
   ]
  },
  {
   "cell_type": "markdown",
   "id": "3aa20be9",
   "metadata": {},
   "source": [
    "## Same for all Clusters"
   ]
  },
  {
   "cell_type": "code",
   "execution_count": 17,
   "id": "eac60178",
   "metadata": {},
   "outputs": [],
   "source": [
    "grid_para_tree = [{'learning_rate': [0.005, 0.01, 0.015, 0.02],\n",
    "                  'subsample'    : [0.6, 0.5, 0.4],\n",
    "                  'n_estimators' : [100, 250, 500, 750]\n",
    "#                   'max_depth'    : [4,6,8,10]\n",
    "                 }]\n"
   ]
  },
  {
   "cell_type": "code",
   "execution_count": 18,
   "id": "f9d04965",
   "metadata": {},
   "outputs": [
    {
     "name": "stderr",
     "output_type": "stream",
     "text": [
      "/opt/anaconda3/lib/python3.8/site-packages/sklearn/utils/validation.py:63: DataConversionWarning: A column-vector y was passed when a 1d array was expected. Please change the shape of y to (n_samples, ), for example using ravel().\n",
      "  return f(*args, **kwargs)\n"
     ]
    },
    {
     "data": {
      "text/plain": [
       "RandomizedSearchCV(cv=3, estimator=GradientBoostingRegressor(), n_iter=25,\n",
       "                   n_jobs=-1,\n",
       "                   param_distributions=[{'learning_rate': [0.005, 0.01, 0.015,\n",
       "                                                           0.02],\n",
       "                                         'n_estimators': [100, 250, 500, 750],\n",
       "                                         'subsample': [0.6, 0.5, 0.4]}])"
      ]
     },
     "execution_count": 18,
     "metadata": {},
     "output_type": "execute_result"
    }
   ],
   "source": [
    "boost1 = RandomizedSearchCV(gbm, grid_para_tree, \n",
    "                                cv = 3, \n",
    "                                n_jobs = -1, n_iter = 25)\n",
    "\n",
    "boost1.fit(c1_train, Y_c1train)"
   ]
  },
  {
   "cell_type": "code",
   "execution_count": 19,
   "id": "6062d921",
   "metadata": {},
   "outputs": [
    {
     "name": "stderr",
     "output_type": "stream",
     "text": [
      "/opt/anaconda3/lib/python3.8/site-packages/sklearn/utils/validation.py:63: DataConversionWarning: A column-vector y was passed when a 1d array was expected. Please change the shape of y to (n_samples, ), for example using ravel().\n",
      "  return f(*args, **kwargs)\n"
     ]
    },
    {
     "data": {
      "text/plain": [
       "RandomizedSearchCV(cv=3, estimator=GradientBoostingRegressor(), n_iter=25,\n",
       "                   n_jobs=-1,\n",
       "                   param_distributions=[{'learning_rate': [0.005, 0.01, 0.015,\n",
       "                                                           0.02],\n",
       "                                         'n_estimators': [100, 250, 500, 750],\n",
       "                                         'subsample': [0.6, 0.5, 0.4]}])"
      ]
     },
     "execution_count": 19,
     "metadata": {},
     "output_type": "execute_result"
    }
   ],
   "source": [
    "boost2 = RandomizedSearchCV(gbm, grid_para_tree, \n",
    "                                cv = 3, \n",
    "                                n_jobs = -1, n_iter = 25)\n",
    "\n",
    "boost2.fit(c2_train, Y_c2train)"
   ]
  },
  {
   "cell_type": "code",
   "execution_count": 20,
   "id": "8ad81070",
   "metadata": {},
   "outputs": [
    {
     "name": "stderr",
     "output_type": "stream",
     "text": [
      "/opt/anaconda3/lib/python3.8/site-packages/sklearn/utils/validation.py:63: DataConversionWarning: A column-vector y was passed when a 1d array was expected. Please change the shape of y to (n_samples, ), for example using ravel().\n",
      "  return f(*args, **kwargs)\n"
     ]
    },
    {
     "data": {
      "text/plain": [
       "RandomizedSearchCV(cv=3, estimator=GradientBoostingRegressor(), n_iter=25,\n",
       "                   n_jobs=-1,\n",
       "                   param_distributions=[{'learning_rate': [0.005, 0.01, 0.015,\n",
       "                                                           0.02],\n",
       "                                         'n_estimators': [100, 250, 500, 750],\n",
       "                                         'subsample': [0.6, 0.5, 0.4]}])"
      ]
     },
     "execution_count": 20,
     "metadata": {},
     "output_type": "execute_result"
    }
   ],
   "source": [
    "boost3 = RandomizedSearchCV(gbm, grid_para_tree, \n",
    "                                cv = 3, \n",
    "                                n_jobs = -1, n_iter = 25)\n",
    "\n",
    "boost3.fit(c3_train, Y_c3train)"
   ]
  },
  {
   "cell_type": "markdown",
   "id": "603f0069",
   "metadata": {},
   "source": [
    "## Results of Gradient Boost Clusters:"
   ]
  },
  {
   "cell_type": "code",
   "execution_count": 24,
   "id": "4b68aed1",
   "metadata": {},
   "outputs": [
    {
     "name": "stdout",
     "output_type": "stream",
     "text": [
      "R2 of train =  0.9670084010804638\n",
      "R2 of test =  0.9837257767567202\n",
      "Train RMSE =  33.46813467716216\n",
      "Test RMSE =  86.79021158804115\n"
     ]
    }
   ],
   "source": [
    "# Results of Cluster 1:\n",
    "print(\"R2 of train = \", boost1.best_score_)\n",
    "print(\"R2 of test = \", boost1.best_estimator_.score(c1_test, Y_c1test))\n",
    "\n",
    "pred1 = boost1.predict(c1_train)\n",
    "pred_unlog1 = np.exp(pred1)\n",
    "\n",
    "pred_test1 = boost1.predict(c1_test)\n",
    "pred_test_unlog1 = np.exp(pred_test1)\n",
    "\n",
    "Y_unlog1 = np.exp(Y_c1train)\n",
    "Y_test_unlog1 = np.exp(Y_c1test)\n",
    "\n",
    "train_RMSE1 = mean_squared_error(Y_unlog1, pred_unlog1, squared = False)\n",
    "test_RMSE1 = np.sqrt(mean_squared_error(pred_test_unlog1, Y_test_unlog1))\n",
    "print(\"Train RMSE = \", train_RMSE1)\n",
    "print(\"Test RMSE = \", test_RMSE1)"
   ]
  },
  {
   "cell_type": "code",
   "execution_count": 25,
   "id": "b1da0a38",
   "metadata": {},
   "outputs": [
    {
     "name": "stdout",
     "output_type": "stream",
     "text": [
      "R2 of train =  0.9679633314166513\n",
      "R2 of test =  0.9864658144769797\n",
      "Train RMSE =  61.75462595147188\n",
      "Test RMSE =  79.55314771754395\n"
     ]
    }
   ],
   "source": [
    "# Results of Cluster 2:\n",
    "print(\"R2 of train = \", boost2.best_score_)\n",
    "print(\"R2 of test = \", boost2.best_estimator_.score(c2_test, Y_c2test))\n",
    "\n",
    "pred2 = boost2.predict(c2_train)\n",
    "pred_unlog2 = np.exp(pred2)\n",
    "\n",
    "pred_test2 = boost2.predict(c2_test)\n",
    "pred_test_unlog2 = np.exp(pred_test2)\n",
    "\n",
    "Y_unlog2 = np.exp(Y_c2train)\n",
    "Y_test_unlog2 = np.exp(Y_c2test)\n",
    "\n",
    "train_RMSE2 = mean_squared_error(Y_unlog2, pred_unlog2, squared = False)\n",
    "test_RMSE2 = np.sqrt(mean_squared_error(pred_test_unlog2, Y_test_unlog2))\n",
    "print(\"Train RMSE = \", train_RMSE2)\n",
    "print(\"Test RMSE = \", test_RMSE2)"
   ]
  },
  {
   "cell_type": "code",
   "execution_count": 26,
   "id": "1d9778ff",
   "metadata": {},
   "outputs": [
    {
     "name": "stdout",
     "output_type": "stream",
     "text": [
      "R2 of train =  0.9814184742266963\n",
      "R2 of test =  0.9854101789693442\n",
      "Train RMSE =  52.87950502566097\n",
      "Test RMSE =  73.70572337664608\n"
     ]
    }
   ],
   "source": [
    "# Results of Cluster 3:\n",
    "print(\"R2 of train = \", boost3.best_score_)\n",
    "print(\"R2 of test = \", boost3.best_estimator_.score(c3_test, Y_c3test))\n",
    "\n",
    "pred3 = boost3.predict(c3_train)\n",
    "pred_unlog3 = np.exp(pred3)\n",
    "\n",
    "pred_test3 = boost3.predict(c3_test)\n",
    "pred_test_unlog3 = np.exp(pred_test3)\n",
    "\n",
    "Y_unlog3 = np.exp(Y_c3train)\n",
    "Y_test_unlog3 = np.exp(Y_c3test)\n",
    "\n",
    "train_RMSE3 = mean_squared_error(Y_unlog3, pred_unlog3, squared = False)\n",
    "test_RMSE3 = np.sqrt(mean_squared_error(pred_test_unlog3, Y_test_unlog3))\n",
    "print(\"Train RMSE = \", train_RMSE3)\n",
    "print(\"Test RMSE = \", test_RMSE3)"
   ]
  },
  {
   "cell_type": "code",
   "execution_count": null,
   "id": "cb601a56",
   "metadata": {},
   "outputs": [],
   "source": []
  },
  {
   "cell_type": "markdown",
   "id": "3b546485",
   "metadata": {},
   "source": [
    "## XGBoost"
   ]
  },
  {
   "cell_type": "code",
   "execution_count": 16,
   "id": "494acf15",
   "metadata": {},
   "outputs": [
    {
     "data": {
      "text/plain": [
       "XGBRegressor(base_score=0.5, booster='gbtree', colsample_bylevel=1,\n",
       "             colsample_bynode=1, colsample_bytree=1, gamma=0, gpu_id=-1,\n",
       "             importance_type='gain', interaction_constraints='',\n",
       "             learning_rate=0.300000012, max_delta_step=0, max_depth=6,\n",
       "             min_child_weight=1, missing=nan, monotone_constraints='()',\n",
       "             n_estimators=100, n_jobs=4, num_parallel_tree=1, random_state=0,\n",
       "             reg_alpha=0, reg_lambda=1, scale_pos_weight=1, subsample=1,\n",
       "             tree_method='exact', validate_parameters=1, verbosity=None)"
      ]
     },
     "execution_count": 16,
     "metadata": {},
     "output_type": "execute_result"
    }
   ],
   "source": [
    "from xgboost import XGBRegressor\n",
    "\n",
    "model = XGBRegressor(random_state = 0)\n",
    "\n",
    "model.fit(X_train, Y_train)"
   ]
  },
  {
   "cell_type": "code",
   "execution_count": 17,
   "id": "00f56b00",
   "metadata": {},
   "outputs": [],
   "source": [
    "pred = model.predict(X_train)\n",
    "pred_unlog = np.exp(pred)\n",
    "\n",
    "pred_test = model.predict(X_test)\n",
    "pred_test_unlog = np.exp(pred_test)\n",
    "\n",
    "Y_unlog = np.exp(Y_train)\n",
    "Y_test_unlog = np.exp(Y_test)"
   ]
  },
  {
   "cell_type": "code",
   "execution_count": 18,
   "id": "ff7650a4",
   "metadata": {},
   "outputs": [
    {
     "name": "stdout",
     "output_type": "stream",
     "text": [
      "Train RMSE =  17.973555451043516\n",
      "Test RMSE =  79.4661503888568\n"
     ]
    }
   ],
   "source": [
    "print(\"Train RMSE = \", np.sqrt(mean_squared_error(pred_unlog, Y_unlog)))\n",
    "train_RMSE = mean_squared_error(Y_unlog, pred_unlog, squared = False)\n",
    "train_RMSE\n",
    "\n",
    "print(\"Test RMSE = \", np.sqrt(mean_squared_error(pred_test_unlog, Y_test_unlog)))\n"
   ]
  },
  {
   "cell_type": "code",
   "execution_count": 19,
   "id": "90b7d8a9",
   "metadata": {},
   "outputs": [
    {
     "name": "stdout",
     "output_type": "stream",
     "text": [
      "0.9992656430974624\n",
      "0.987873475167241\n"
     ]
    }
   ],
   "source": [
    "print(model.score(X_train, Y_train))\n",
    "print(model.score(X_test, Y_test))"
   ]
  },
  {
   "cell_type": "code",
   "execution_count": 38,
   "id": "58c98a4d",
   "metadata": {},
   "outputs": [
    {
     "data": {
      "text/plain": [
       "RandomizedSearchCV(cv=2,\n",
       "                   estimator=XGBRegressor(base_score=None, booster=None,\n",
       "                                          colsample_bylevel=None,\n",
       "                                          colsample_bynode=None,\n",
       "                                          colsample_bytree=None, gamma=None,\n",
       "                                          gpu_id=None, importance_type='gain',\n",
       "                                          interaction_constraints=None,\n",
       "                                          learning_rate=None,\n",
       "                                          max_delta_step=None, max_depth=None,\n",
       "                                          min_child_weight=None, missing=nan,\n",
       "                                          monotone_constraints=None,\n",
       "                                          n_estimators=100, n...\n",
       "                                          validate_parameters=None,\n",
       "                                          verbosity=None),\n",
       "                   n_jobs=-1,\n",
       "                   param_distributions={'colsample_bylevel': [0.75, 0.8, 0.85],\n",
       "                                        'colsample_bynode': [0.7, 0.8, 0.85],\n",
       "                                        'colsample_bytree': [0.75, 0.8, 0.85],\n",
       "                                        'gamma': [0.75, 0.8, 0.85],\n",
       "                                        'learning_rate': [0.025, 0.05, 0.1,\n",
       "                                                          0.15],\n",
       "                                        'max_depth': [5, 6, 7],\n",
       "                                        'max_leaves': [5, 6, 7],\n",
       "                                        'min_child_weight': [5, 6, 7],\n",
       "                                        'n_estimators': [150, 200, 250],\n",
       "                                        'subsample': [0.7, 0.75, 0.8]})"
      ]
     },
     "execution_count": 38,
     "metadata": {},
     "output_type": "execute_result"
    }
   ],
   "source": [
    "# {'subsample': 0.75,\n",
    "#  'n_estimators': 200,\n",
    "#  'min_child_weight': 6,\n",
    "#  'max_leaves': 6,\n",
    "#  'max_depth': 7,\n",
    "#  'learning_rate': 0.1,\n",
    "#  'gamma': 0.8,\n",
    "#  'colsample_bytree': 0.95,\n",
    "#  'colsample_bynode': 0.8,\n",
    "#  'colsample_bylevel': 0.8}\n",
    "\n",
    "\n",
    "\n",
    "hyperparameters = {\n",
    "    'colsample_bylevel': [0.75, 0.8, 0.85],\n",
    "    'colsample_bynode': [0.7, 0.8, 0.85],\n",
    "    'colsample_bytree': [0.75, 0.8, 0.85], \n",
    "    'learning_rate': [0.025, 0.05, 0.1, 0.15],\n",
    "    'max_depth': [5, 6, 7],\n",
    "    'max_leaves': [5, 6, 7],\n",
    "    'min_child_weight': [5, 6, 7],\n",
    "    'subsample': [0.7, 0.75, 0.8],\n",
    "    'gamma':[0.75, 0.8, 0.85],\n",
    "    'n_estimators': [150, 200, 250]\n",
    "}\n",
    "\n",
    "gs_boost = XGBRegressor(random_state=0, reg_lambda = 0)\n",
    "model = RandomizedSearchCV(gs_boost, hyperparameters, cv = 2, n_jobs=-1, n_iter = 10)\n",
    "\n",
    "# model.fit(X_train, Y_train, eval_set = [(X_ver,Y_ver)], early_stopping_rounds = 20)\n",
    "model.fit(X_train, Y_train) #, early_stopping_rounds = 20)\n"
   ]
  },
  {
   "cell_type": "code",
   "execution_count": 39,
   "id": "3cadd6bd",
   "metadata": {},
   "outputs": [],
   "source": [
    "pred = model.predict(X_train)\n",
    "pred_unlog = np.exp(pred)\n",
    "\n",
    "pred_test = model.predict(X_test)\n",
    "pred_test_unlog = np.exp(pred_test)\n",
    "\n",
    "Y_unlog = np.exp(Y_train)\n",
    "Y_test_unlog = np.exp(Y_test)"
   ]
  },
  {
   "cell_type": "code",
   "execution_count": 40,
   "id": "513df0b7",
   "metadata": {
    "scrolled": true
   },
   "outputs": [
    {
     "name": "stdout",
     "output_type": "stream",
     "text": [
      "Train RMSE =  101.41441914302706\n",
      "Test RMSE =  112.51784103224558\n"
     ]
    }
   ],
   "source": [
    "print(\"Train RMSE = \", np.sqrt(mean_squared_error(pred_unlog, Y_unlog)))\n",
    "train_RMSE = mean_squared_error(Y_unlog, pred_unlog, squared = False)\n",
    "train_RMSE\n",
    "\n",
    "print(\"Test RMSE = \", np.sqrt(mean_squared_error(pred_test_unlog, Y_test_unlog)))\n"
   ]
  },
  {
   "cell_type": "code",
   "execution_count": 41,
   "id": "828e6fe7",
   "metadata": {},
   "outputs": [
    {
     "name": "stdout",
     "output_type": "stream",
     "text": [
      "0.9846471630489323\n",
      "0.9825107126920777\n"
     ]
    }
   ],
   "source": [
    "print(model.score(X_train, Y_train))\n",
    "print(model.score(X_test, Y_test))"
   ]
  },
  {
   "cell_type": "code",
   "execution_count": 42,
   "id": "703b1249",
   "metadata": {},
   "outputs": [
    {
     "data": {
      "text/plain": [
       "{'subsample': 0.8,\n",
       " 'n_estimators': 250,\n",
       " 'min_child_weight': 6,\n",
       " 'max_leaves': 6,\n",
       " 'max_depth': 7,\n",
       " 'learning_rate': 0.05,\n",
       " 'gamma': 0.85,\n",
       " 'colsample_bytree': 0.85,\n",
       " 'colsample_bynode': 0.85,\n",
       " 'colsample_bylevel': 0.85}"
      ]
     },
     "execution_count": 42,
     "metadata": {},
     "output_type": "execute_result"
    }
   ],
   "source": [
    "model.best_estimator_\n",
    "model.best_params_"
   ]
  },
  {
   "cell_type": "code",
   "execution_count": null,
   "id": "dda32b26",
   "metadata": {},
   "outputs": [],
   "source": [
    "\n",
    "# model = XGBRegressor(random_state=0, subsample = 0.85, n_estimators = 500,\n",
    "\n",
    "#                     learning_rate = 0.2, colsample_bytree = 0.7,\n",
    "\n",
    "#                     colsample_bylevel = 0.75, max_depth = 4,\n",
    "\n",
    "#                     min_child_weight = 5, max_delta_step = 0,\n",
    "\n",
    "#                     max_leaves = 10, gamma=1)\n",
    "\n",
    "\n",
    "\n",
    "# print(model)\n",
    "\n",
    "# model.fit(X_train, Y_train, eval_set = [(X_test,Y_test)], early_stopping_rounds = 20)\n",
    "\n",
    "# predictions = model.predict(X_train)\n",
    "\n",
    "# predictions_test = model.predict(X_test)\n",
    "\n",
    "# print(np.sqrt(mean_squared_error(predictions, Y_train)))\n",
    "\n",
    "# print(np.sqrt(mean_squared_error(predictions_test, Y_test)))\n",
    "\n",
    "# print(model.score(X_train, Y_train))\n",
    "\n",
    "# print(model.score(X_test, Y_test))\n",
    "\n",
    "# # hyperparameters = {\n",
    "\n",
    "# #     'max_depth':[3,4,5,6,7,8,9,10],\n",
    "\n",
    "# #     'colsample_bylevel': [0.15, 0.25, 0.35, 0.45, 0.55, 0.65, 0.75, 0.85, 0.95],\n",
    "\n",
    "# #     'colsample_bynode': [0, 0.2, 0.4, 0.6, 0.8, 1],\n",
    "\n",
    "# #     'colsample_bytree': [0.2, 0.3, 0.4, 0.5, 0.6, 0.7, 0.8, 0.9], \n",
    "\n",
    "# #     'learning_rate': [0.02, 0.05, 0.1, 0.15, 0.2, 0.25, 0.3],\n",
    "\n",
    "# #     'max_depth': [0, 1, 2, 3, 4, 5, 6, 7],\n",
    "\n",
    "# #     'max_leaves': [2, 4, 6, 8, 10, 15, 20],\n",
    "\n",
    "# #     'min_child_weight': [1,2,3,4,5],\n",
    "\n",
    "# #     'subsample': [0.2, 0.4, 0.5, 0.6, 0.65, 0.7, 0.75, 0.8, 0.85, 0.9],\n",
    "\n",
    "# #     'gamma':[0,0.1, 0.2, 0.3, 0.4, 0.5, 0.6, 0.7, 0.8, 0.9],\n",
    "\n",
    "# #     'n_estimators': [5, 10, 50, 100, 200, 350, 500]\n",
    "\n",
    "# # }\n",
    "\n",
    "# ​\n",
    "\n",
    "# hyperparameters = {\n",
    "\n",
    "#     'colsample_bylevel': [0.45, 0.55, 0.65, 0.75, 0.85],\n",
    "\n",
    "#     'colsample_bynode': [ 0.2, 0.4, 0.6, 0.8, 1],\n",
    "\n",
    "#     'colsample_bytree': [0.5, 0.6, 0.7, 0.8], \n",
    "\n",
    "#     'learning_rate': [0.05, 0.1, 0.15, 0.2, 0.25],\n",
    "\n",
    "#     'max_depth': [4, 6, 8, 10],\n",
    "\n",
    "#     'max_leaves': [4, 6, 8, 10, 12],\n",
    "\n",
    "#     'min_child_weight': [4, 5, 6],\n",
    "\n",
    "#     'subsample': [0.7, 0.75, 0.8, 0.85, 0.9],\n",
    "\n",
    "#     'gamma':[0.4, 0.6, 0.8, 1],\n",
    "\n",
    "#     'n_estimators': [300, 400, 500, 600]\n",
    "\n",
    "# }\n",
    "\n",
    "# ​\n",
    "\n",
    "# # hyperparameters = {\n",
    "\n",
    "# #     'colsample_bynode': [0.1, 0.2, 0.4],\n",
    "\n",
    "# #     'max_depth': [4, 6],\n",
    "\n",
    "# #     'max_leaves': [4, 6, 8, 10, 12],\n",
    "\n",
    "# #     'min_child_weight': [4, 5, 6],\n",
    "\n",
    "# #     'gamma':[0.8, 1]\n",
    "\n",
    "# # }\n",
    "\n",
    "# gs_boost = XGBRegressor(random_state=0, reg_lambda = 0)\n",
    "\n",
    "# # model = XGBRegressor(random_state=0, subsample = 0.85, n_estimators = 500,\n",
    "\n",
    "# #                     learning_rate = 0.2, colsample_bytree = 0.7,\n",
    "\n",
    "# #                     colsample_bylevel = 0.75, max_depth = 4,\n",
    "\n",
    "# #                     min_child_weight = 5, max_delta_step = 0,\n",
    "\n",
    "# #                     max_leaves = 10, gamma=1)\n",
    "\n",
    "# ​\n",
    "\n",
    "# # 3.807204614385419\n",
    "\n",
    "# # 6.919303509257749\n",
    "\n",
    "# # 0.9366801340541325\n",
    "\n",
    "# # 0.7513589994475436\n",
    "\n",
    "# ​\n",
    "\n",
    "# # XGBRegressor(base_score=0.5, booster='gbtree', colsample_bylevel=0.45,\n",
    "\n",
    "# #              colsample_bynode=0.6, colsample_bytree=0.8, gamma=0.6, gpu_id=-1,\n",
    "\n",
    "# #              importance_type='gain', interaction_constraints='',\n",
    "\n",
    "# #              learning_rate=0.05, max_delta_step=0, max_depth=4, max_leaves=8,\n",
    "\n",
    "# #              min_child_weight=5, missing=nan, monotone_constraints='()',\n",
    "\n",
    "# #              n_estimators=600, n_jobs=4, num_parallel_tree=1, random_state=0,\n",
    "\n",
    "# #              reg_alpha=0, reg_lambda=0, scale_pos_weight=1, subsample=0.7,\n",
    "\n",
    "# #              tree_method='exact', validate_parameters=1, verbosity=None)\n",
    "\n",
    "# model = RandomizedSearchCV(gs_boost, hyperparameters, cv = 5, n_jobs=-1, n_iter = 50)\n",
    "\n",
    "# ​\n",
    "\n",
    "# model.fit(X_train, Y_train, eval_set = [(X_ver,Y_ver)], early_stopping_rounds = 20)\n",
    "\n",
    "\n",
    "# predictions = model.predict(X_train)\n",
    "\n",
    "# predictions_test = model.predict(X_ver)\n",
    "\n",
    "# print(np.sqrt(mean_squared_error(predictions, Y_train)))\n",
    "\n",
    "# print(np.sqrt(mean_squared_error(predictions_test, Y_ver)))\n",
    "\n",
    "# print(model.best_score_)\n",
    "\n",
    "# print(model.score(X_ver, Y_ver))\n",
    "\n",
    "# ​\n",
    "\n",
    "# # model.best_score_\n",
    "\n",
    "# 3.9975022688466892\n",
    "# 7.30568867372593\n",
    "# 0.727762928688851\n",
    "# 0.7536665207233895\n",
    "\n",
    "# print(model.score(X1_test, Y_test))\n",
    "\n",
    "# predictions_test = model.predict(X1_test)\n",
    "\n",
    "# print(np.sqrt(mean_squared_error(predictions_test, Y_test)))\n",
    "\n",
    "# ​\n",
    "\n",
    "# 0.7156295431127093\n",
    "# 7.646924351377425\n",
    "\n"
   ]
  }
 ],
 "metadata": {
  "kernelspec": {
   "display_name": "Python 3",
   "language": "python",
   "name": "python3"
  },
  "language_info": {
   "codemirror_mode": {
    "name": "ipython",
    "version": 3
   },
   "file_extension": ".py",
   "mimetype": "text/x-python",
   "name": "python",
   "nbconvert_exporter": "python",
   "pygments_lexer": "ipython3",
   "version": "3.8.8"
  }
 },
 "nbformat": 4,
 "nbformat_minor": 5
}
