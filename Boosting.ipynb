{
 "cells": [
  {
   "cell_type": "code",
   "execution_count": 3,
   "id": "f7c19906",
   "metadata": {},
   "outputs": [],
   "source": [
    "import numpy as np\n",
    "import pandas as pd\n",
    "import sklearn.ensemble\n",
    "%matplotlib inline\n",
    "import matplotlib.pyplot as plt\n",
    "from sklearn.metrics import mean_squared_error\n",
    "plt.style.use('ggplot')\n",
    "from sklearn.model_selection import GridSearchCV, RandomizedSearchCV\n",
    "from sklearn.ensemble import GradientBoostingClassifier, GradientBoostingRegressor"
   ]
  },
  {
   "cell_type": "code",
   "execution_count": 5,
   "id": "ae10ebc4",
   "metadata": {
    "scrolled": true
   },
   "outputs": [
    {
     "name": "stderr",
     "output_type": "stream",
     "text": [
      "/Users/Lena/opt/anaconda3/lib/python3.8/site-packages/pandas/core/indexing.py:1637: SettingWithCopyWarning: \n",
      "A value is trying to be set on a copy of a slice from a DataFrame\n",
      "\n",
      "See the caveats in the documentation: https://pandas.pydata.org/pandas-docs/stable/user_guide/indexing.html#returning-a-view-versus-a-copy\n",
      "  self._setitem_single_block(indexer, value, name)\n",
      "/Users/Lena/opt/anaconda3/lib/python3.8/site-packages/pandas/core/frame.py:4308: SettingWithCopyWarning: \n",
      "A value is trying to be set on a copy of a slice from a DataFrame\n",
      "\n",
      "See the caveats in the documentation: https://pandas.pydata.org/pandas-docs/stable/user_guide/indexing.html#returning-a-view-versus-a-copy\n",
      "  return super().drop(\n",
      "/Users/Lena/opt/anaconda3/lib/python3.8/site-packages/pandas/core/frame.py:4308: SettingWithCopyWarning: \n",
      "A value is trying to be set on a copy of a slice from a DataFrame\n",
      "\n",
      "See the caveats in the documentation: https://pandas.pydata.org/pandas-docs/stable/user_guide/indexing.html#returning-a-view-versus-a-copy\n",
      "  return super().drop(\n",
      "/Users/Lena/opt/anaconda3/lib/python3.8/site-packages/pandas/core/frame.py:4308: SettingWithCopyWarning: \n",
      "A value is trying to be set on a copy of a slice from a DataFrame\n",
      "\n",
      "See the caveats in the documentation: https://pandas.pydata.org/pandas-docs/stable/user_guide/indexing.html#returning-a-view-versus-a-copy\n",
      "  return super().drop(\n",
      "/Users/Lena/opt/anaconda3/lib/python3.8/site-packages/pandas/core/frame.py:4308: SettingWithCopyWarning: \n",
      "A value is trying to be set on a copy of a slice from a DataFrame\n",
      "\n",
      "See the caveats in the documentation: https://pandas.pydata.org/pandas-docs/stable/user_guide/indexing.html#returning-a-view-versus-a-copy\n",
      "  return super().drop(\n",
      "/Users/Lena/opt/anaconda3/lib/python3.8/site-packages/pandas/core/frame.py:4308: SettingWithCopyWarning: \n",
      "A value is trying to be set on a copy of a slice from a DataFrame\n",
      "\n",
      "See the caveats in the documentation: https://pandas.pydata.org/pandas-docs/stable/user_guide/indexing.html#returning-a-view-versus-a-copy\n",
      "  return super().drop(\n",
      "/Users/Lena/opt/anaconda3/lib/python3.8/site-packages/pandas/core/frame.py:4308: SettingWithCopyWarning: \n",
      "A value is trying to be set on a copy of a slice from a DataFrame\n",
      "\n",
      "See the caveats in the documentation: https://pandas.pydata.org/pandas-docs/stable/user_guide/indexing.html#returning-a-view-versus-a-copy\n",
      "  return super().drop(\n"
     ]
    }
   ],
   "source": [
    "from Feat_eng import Y_train, X_train, Y_test, X_test, c1_train, c2_train, c3_train, c1_test, c2_test, c3_test, Y_c1train, Y_c2train, Y_c3train, Y_c1test, Y_c2test ,Y_c3test  "
   ]
  },
  {
   "cell_type": "code",
   "execution_count": 6,
   "id": "1d6f89f9",
   "metadata": {},
   "outputs": [
    {
     "name": "stderr",
     "output_type": "stream",
     "text": [
      "/Users/Lena/opt/anaconda3/lib/python3.8/site-packages/sklearn/utils/validation.py:63: DataConversionWarning: A column-vector y was passed when a 1d array was expected. Please change the shape of y to (n_samples, ), for example using ravel().\n",
      "  return f(*args, **kwargs)\n"
     ]
    },
    {
     "data": {
      "text/plain": [
       "GradientBoostingRegressor(learning_rate=0.01, n_estimators=500, subsample=0.7)"
      ]
     },
     "execution_count": 6,
     "metadata": {},
     "output_type": "execute_result"
    }
   ],
   "source": [
    "gbm = GradientBoostingRegressor()\n",
    "gbm.set_params(learning_rate = 0.01, n_estimators = 500, subsample = 0.7)\n",
    "\n",
    "gbm.fit(X_train,Y_train)"
   ]
  },
  {
   "cell_type": "code",
   "execution_count": 7,
   "id": "77d24b1d",
   "metadata": {},
   "outputs": [
    {
     "name": "stdout",
     "output_type": "stream",
     "text": [
      "0.9906981472517199\n",
      "0.9888473164072482\n"
     ]
    }
   ],
   "source": [
    "# print(gbm.best_score_)\n",
    "print(gbm.score(X_train,Y_train))\n",
    "print(gbm.score(X_test,Y_test))"
   ]
  },
  {
   "cell_type": "code",
   "execution_count": 8,
   "id": "aca7c6a2",
   "metadata": {},
   "outputs": [
    {
     "name": "stdout",
     "output_type": "stream",
     "text": [
      "Train RMSE =  67.79061773789292\n",
      "67.79061773789292\n",
      "Test RMSE =  78.71095569100504\n"
     ]
    }
   ],
   "source": [
    "pred = gbm.predict(X_train)\n",
    "pred_unlog = np.exp(pred)\n",
    "\n",
    "pred_test = gbm.predict(X_test)\n",
    "pred_test_unlog = np.exp(pred_test)\n",
    "\n",
    "Y_unlog = np.exp(Y_train)\n",
    "Y_test_unlog = np.exp(Y_test)\n",
    "\n",
    "\n",
    "\n",
    "print(\"Train RMSE = \", np.sqrt(mean_squared_error(pred_unlog, Y_unlog)))\n",
    "train_RMSE = mean_squared_error(Y_unlog, pred_unlog, squared = False)\n",
    "print(train_RMSE)\n",
    "print(\"Test RMSE = \", np.sqrt(mean_squared_error(pred_test_unlog, Y_test_unlog)))"
   ]
  },
  {
   "cell_type": "code",
   "execution_count": 10,
   "id": "99d7fab4",
   "metadata": {},
   "outputs": [
    {
     "name": "stderr",
     "output_type": "stream",
     "text": [
      "/Users/Lena/opt/anaconda3/lib/python3.8/site-packages/sklearn/utils/validation.py:63: DataConversionWarning: A column-vector y was passed when a 1d array was expected. Please change the shape of y to (n_samples, ), for example using ravel().\n",
      "  return f(*args, **kwargs)\n"
     ]
    },
    {
     "data": {
      "text/plain": [
       "RandomizedSearchCV(cv=2,\n",
       "                   estimator=GradientBoostingRegressor(learning_rate=0.01,\n",
       "                                                       n_estimators=500,\n",
       "                                                       subsample=0.7),\n",
       "                   n_jobs=-1,\n",
       "                   param_distributions=[{'learning_rate': [0.005, 0.01, 0.015,\n",
       "                                                           0.02],\n",
       "                                         'n_estimators': [500, 1000, 1500],\n",
       "                                         'subsample': [0.6, 0.5, 0.4, 0.2]}])"
      ]
     },
     "execution_count": 10,
     "metadata": {},
     "output_type": "execute_result"
    }
   ],
   "source": [
    "# GradientBoostingRegressor(learning_rate=0.01, n_estimators=1000, subsample=0.5)\n",
    "\n",
    "# grid_para_tree = [{'learning_rate': [0.01,0.02,0.03,0.04],\n",
    "#                   'subsample'    : [0.9, 0.5, 0.2, 0.1],\n",
    "#                   'n_estimators' : [50,100,250,500,1000]\n",
    "# #                   'max_depth'    : [4,6,8,10]\n",
    "\n",
    "                   \n",
    "grid_para_tree = [{'learning_rate': [0.005, 0.01, 0.015, 0.02],\n",
    "                  'subsample'    : [0.6, 0.5, 0.4, 0.2],\n",
    "                  'n_estimators' : [500, 1000,1500],\n",
    "#                  'max_depth'    : [2,5,10]\n",
    "                 }]\n",
    "\n",
    "boost = RandomizedSearchCV(gbm, grid_para_tree, \n",
    "                                cv = 2, \n",
    "                                n_jobs = -1, n_iter = 10)\n",
    "\n",
    "boost.fit(X_train, Y_train)"
   ]
  },
  {
   "cell_type": "code",
   "execution_count": 11,
   "id": "ea9c8d94",
   "metadata": {},
   "outputs": [
    {
     "data": {
      "text/plain": [
       "GradientBoostingRegressor(learning_rate=0.015, n_estimators=500, subsample=0.4)"
      ]
     },
     "execution_count": 11,
     "metadata": {},
     "output_type": "execute_result"
    }
   ],
   "source": [
    "boost.best_estimator_"
   ]
  },
  {
   "cell_type": "code",
   "execution_count": 12,
   "id": "f466e473",
   "metadata": {},
   "outputs": [
    {
     "name": "stdout",
     "output_type": "stream",
     "text": [
      "0.984497830672266\n",
      "0.9892350005166933\n"
     ]
    }
   ],
   "source": [
    "print(boost.best_score_)\n",
    "print(boost.score(X_test,Y_test))"
   ]
  },
  {
   "cell_type": "code",
   "execution_count": 13,
   "id": "8175c600",
   "metadata": {},
   "outputs": [
    {
     "name": "stdout",
     "output_type": "stream",
     "text": [
      "62.49830445640758\n",
      "Test RMSE =  77.06691667768942\n"
     ]
    }
   ],
   "source": [
    "pred = boost.predict(X_train)\n",
    "pred_unlog = np.exp(pred)\n",
    "\n",
    "pred_test = boost.predict(X_test)\n",
    "pred_test_unlog = np.exp(pred_test)\n",
    "\n",
    "Y_unlog = np.exp(Y_train)\n",
    "Y_test_unlog = np.exp(Y_test)\n",
    "\n",
    "\n",
    "\n",
    "train_RMSE = mean_squared_error(Y_unlog, pred_unlog, squared = False)\n",
    "print(train_RMSE)\n",
    "print(\"Test RMSE = \", np.sqrt(mean_squared_error(pred_test_unlog, Y_test_unlog)))"
   ]
  },
  {
   "cell_type": "markdown",
   "id": "3aa20be9",
   "metadata": {},
   "source": [
    "## Same for all Clusters"
   ]
  },
  {
   "cell_type": "code",
   "execution_count": 14,
   "id": "eac60178",
   "metadata": {},
   "outputs": [],
   "source": [
    "grid_para_tree = [{'learning_rate': [0.005, 0.01, 0.015, 0.02],\n",
    "                  'subsample'    : [0.6, 0.5, 0.4, 0.2],\n",
    "                  'n_estimators' : [500,1000, 1500]\n",
    "#                   'max_depth'    : [4,6,8,10]\n",
    "                 }]\n",
    "\n"
   ]
  },
  {
   "cell_type": "code",
   "execution_count": 15,
   "id": "f9d04965",
   "metadata": {},
   "outputs": [
    {
     "name": "stderr",
     "output_type": "stream",
     "text": [
      "/Users/Lena/opt/anaconda3/lib/python3.8/site-packages/sklearn/utils/validation.py:63: DataConversionWarning: A column-vector y was passed when a 1d array was expected. Please change the shape of y to (n_samples, ), for example using ravel().\n",
      "  return f(*args, **kwargs)\n"
     ]
    },
    {
     "ename": "KeyboardInterrupt",
     "evalue": "",
     "output_type": "error",
     "traceback": [
      "\u001b[0;31m---------------------------------------------------------------------------\u001b[0m",
      "\u001b[0;31mKeyboardInterrupt\u001b[0m                         Traceback (most recent call last)",
      "\u001b[0;32m<ipython-input-15-a0fedc9d2b75>\u001b[0m in \u001b[0;36m<module>\u001b[0;34m\u001b[0m\n\u001b[1;32m      3\u001b[0m                                 n_jobs = -1, n_iter = 20)\n\u001b[1;32m      4\u001b[0m \u001b[0;34m\u001b[0m\u001b[0m\n\u001b[0;32m----> 5\u001b[0;31m \u001b[0mboost1\u001b[0m\u001b[0;34m.\u001b[0m\u001b[0mfit\u001b[0m\u001b[0;34m(\u001b[0m\u001b[0mc1_train\u001b[0m\u001b[0;34m,\u001b[0m \u001b[0mY_c1train\u001b[0m\u001b[0;34m)\u001b[0m\u001b[0;34m\u001b[0m\u001b[0;34m\u001b[0m\u001b[0m\n\u001b[0m",
      "\u001b[0;32m~/opt/anaconda3/lib/python3.8/site-packages/sklearn/utils/validation.py\u001b[0m in \u001b[0;36minner_f\u001b[0;34m(*args, **kwargs)\u001b[0m\n\u001b[1;32m     61\u001b[0m             \u001b[0mextra_args\u001b[0m \u001b[0;34m=\u001b[0m \u001b[0mlen\u001b[0m\u001b[0;34m(\u001b[0m\u001b[0margs\u001b[0m\u001b[0;34m)\u001b[0m \u001b[0;34m-\u001b[0m \u001b[0mlen\u001b[0m\u001b[0;34m(\u001b[0m\u001b[0mall_args\u001b[0m\u001b[0;34m)\u001b[0m\u001b[0;34m\u001b[0m\u001b[0;34m\u001b[0m\u001b[0m\n\u001b[1;32m     62\u001b[0m             \u001b[0;32mif\u001b[0m \u001b[0mextra_args\u001b[0m \u001b[0;34m<=\u001b[0m \u001b[0;36m0\u001b[0m\u001b[0;34m:\u001b[0m\u001b[0;34m\u001b[0m\u001b[0;34m\u001b[0m\u001b[0m\n\u001b[0;32m---> 63\u001b[0;31m                 \u001b[0;32mreturn\u001b[0m \u001b[0mf\u001b[0m\u001b[0;34m(\u001b[0m\u001b[0;34m*\u001b[0m\u001b[0margs\u001b[0m\u001b[0;34m,\u001b[0m \u001b[0;34m**\u001b[0m\u001b[0mkwargs\u001b[0m\u001b[0;34m)\u001b[0m\u001b[0;34m\u001b[0m\u001b[0;34m\u001b[0m\u001b[0m\n\u001b[0m\u001b[1;32m     64\u001b[0m \u001b[0;34m\u001b[0m\u001b[0m\n\u001b[1;32m     65\u001b[0m             \u001b[0;31m# extra_args > 0\u001b[0m\u001b[0;34m\u001b[0m\u001b[0;34m\u001b[0m\u001b[0;34m\u001b[0m\u001b[0m\n",
      "\u001b[0;32m~/opt/anaconda3/lib/python3.8/site-packages/sklearn/model_selection/_search.py\u001b[0m in \u001b[0;36mfit\u001b[0;34m(self, X, y, groups, **fit_params)\u001b[0m\n\u001b[1;32m    878\u001b[0m             \u001b[0mrefit_start_time\u001b[0m \u001b[0;34m=\u001b[0m \u001b[0mtime\u001b[0m\u001b[0;34m.\u001b[0m\u001b[0mtime\u001b[0m\u001b[0;34m(\u001b[0m\u001b[0;34m)\u001b[0m\u001b[0;34m\u001b[0m\u001b[0;34m\u001b[0m\u001b[0m\n\u001b[1;32m    879\u001b[0m             \u001b[0;32mif\u001b[0m \u001b[0my\u001b[0m \u001b[0;32mis\u001b[0m \u001b[0;32mnot\u001b[0m \u001b[0;32mNone\u001b[0m\u001b[0;34m:\u001b[0m\u001b[0;34m\u001b[0m\u001b[0;34m\u001b[0m\u001b[0m\n\u001b[0;32m--> 880\u001b[0;31m                 \u001b[0mself\u001b[0m\u001b[0;34m.\u001b[0m\u001b[0mbest_estimator_\u001b[0m\u001b[0;34m.\u001b[0m\u001b[0mfit\u001b[0m\u001b[0;34m(\u001b[0m\u001b[0mX\u001b[0m\u001b[0;34m,\u001b[0m \u001b[0my\u001b[0m\u001b[0;34m,\u001b[0m \u001b[0;34m**\u001b[0m\u001b[0mfit_params\u001b[0m\u001b[0;34m)\u001b[0m\u001b[0;34m\u001b[0m\u001b[0;34m\u001b[0m\u001b[0m\n\u001b[0m\u001b[1;32m    881\u001b[0m             \u001b[0;32melse\u001b[0m\u001b[0;34m:\u001b[0m\u001b[0;34m\u001b[0m\u001b[0;34m\u001b[0m\u001b[0m\n\u001b[1;32m    882\u001b[0m                 \u001b[0mself\u001b[0m\u001b[0;34m.\u001b[0m\u001b[0mbest_estimator_\u001b[0m\u001b[0;34m.\u001b[0m\u001b[0mfit\u001b[0m\u001b[0;34m(\u001b[0m\u001b[0mX\u001b[0m\u001b[0;34m,\u001b[0m \u001b[0;34m**\u001b[0m\u001b[0mfit_params\u001b[0m\u001b[0;34m)\u001b[0m\u001b[0;34m\u001b[0m\u001b[0;34m\u001b[0m\u001b[0m\n",
      "\u001b[0;32m~/opt/anaconda3/lib/python3.8/site-packages/sklearn/ensemble/_gb.py\u001b[0m in \u001b[0;36mfit\u001b[0;34m(self, X, y, sample_weight, monitor)\u001b[0m\n\u001b[1;32m    502\u001b[0m \u001b[0;34m\u001b[0m\u001b[0m\n\u001b[1;32m    503\u001b[0m         \u001b[0;31m# fit the boosting stages\u001b[0m\u001b[0;34m\u001b[0m\u001b[0;34m\u001b[0m\u001b[0;34m\u001b[0m\u001b[0m\n\u001b[0;32m--> 504\u001b[0;31m         n_stages = self._fit_stages(\n\u001b[0m\u001b[1;32m    505\u001b[0m             \u001b[0mX\u001b[0m\u001b[0;34m,\u001b[0m \u001b[0my\u001b[0m\u001b[0;34m,\u001b[0m \u001b[0mraw_predictions\u001b[0m\u001b[0;34m,\u001b[0m \u001b[0msample_weight\u001b[0m\u001b[0;34m,\u001b[0m \u001b[0mself\u001b[0m\u001b[0;34m.\u001b[0m\u001b[0m_rng\u001b[0m\u001b[0;34m,\u001b[0m \u001b[0mX_val\u001b[0m\u001b[0;34m,\u001b[0m \u001b[0my_val\u001b[0m\u001b[0;34m,\u001b[0m\u001b[0;34m\u001b[0m\u001b[0;34m\u001b[0m\u001b[0m\n\u001b[1;32m    506\u001b[0m             sample_weight_val, begin_at_stage, monitor)\n",
      "\u001b[0;32m~/opt/anaconda3/lib/python3.8/site-packages/sklearn/ensemble/_gb.py\u001b[0m in \u001b[0;36m_fit_stages\u001b[0;34m(self, X, y, raw_predictions, sample_weight, random_state, X_val, y_val, sample_weight_val, begin_at_stage, monitor)\u001b[0m\n\u001b[1;32m    559\u001b[0m \u001b[0;34m\u001b[0m\u001b[0m\n\u001b[1;32m    560\u001b[0m             \u001b[0;31m# fit next stage of trees\u001b[0m\u001b[0;34m\u001b[0m\u001b[0;34m\u001b[0m\u001b[0;34m\u001b[0m\u001b[0m\n\u001b[0;32m--> 561\u001b[0;31m             raw_predictions = self._fit_stage(\n\u001b[0m\u001b[1;32m    562\u001b[0m                 \u001b[0mi\u001b[0m\u001b[0;34m,\u001b[0m \u001b[0mX\u001b[0m\u001b[0;34m,\u001b[0m \u001b[0my\u001b[0m\u001b[0;34m,\u001b[0m \u001b[0mraw_predictions\u001b[0m\u001b[0;34m,\u001b[0m \u001b[0msample_weight\u001b[0m\u001b[0;34m,\u001b[0m \u001b[0msample_mask\u001b[0m\u001b[0;34m,\u001b[0m\u001b[0;34m\u001b[0m\u001b[0;34m\u001b[0m\u001b[0m\n\u001b[1;32m    563\u001b[0m                 random_state, X_csc, X_csr)\n",
      "\u001b[0;32m~/opt/anaconda3/lib/python3.8/site-packages/sklearn/ensemble/_gb.py\u001b[0m in \u001b[0;36m_fit_stage\u001b[0;34m(self, i, X, y, raw_predictions, sample_weight, sample_mask, random_state, X_csc, X_csr)\u001b[0m\n\u001b[1;32m    212\u001b[0m \u001b[0;34m\u001b[0m\u001b[0m\n\u001b[1;32m    213\u001b[0m             \u001b[0mX\u001b[0m \u001b[0;34m=\u001b[0m \u001b[0mX_csr\u001b[0m \u001b[0;32mif\u001b[0m \u001b[0mX_csr\u001b[0m \u001b[0;32mis\u001b[0m \u001b[0;32mnot\u001b[0m \u001b[0;32mNone\u001b[0m \u001b[0;32melse\u001b[0m \u001b[0mX\u001b[0m\u001b[0;34m\u001b[0m\u001b[0;34m\u001b[0m\u001b[0m\n\u001b[0;32m--> 214\u001b[0;31m             tree.fit(X, residual, sample_weight=sample_weight,\n\u001b[0m\u001b[1;32m    215\u001b[0m                      check_input=False)\n\u001b[1;32m    216\u001b[0m \u001b[0;34m\u001b[0m\u001b[0m\n",
      "\u001b[0;32m~/opt/anaconda3/lib/python3.8/site-packages/sklearn/tree/_classes.py\u001b[0m in \u001b[0;36mfit\u001b[0;34m(self, X, y, sample_weight, check_input, X_idx_sorted)\u001b[0m\n\u001b[1;32m   1245\u001b[0m         \"\"\"\n\u001b[1;32m   1246\u001b[0m \u001b[0;34m\u001b[0m\u001b[0m\n\u001b[0;32m-> 1247\u001b[0;31m         super().fit(\n\u001b[0m\u001b[1;32m   1248\u001b[0m             \u001b[0mX\u001b[0m\u001b[0;34m,\u001b[0m \u001b[0my\u001b[0m\u001b[0;34m,\u001b[0m\u001b[0;34m\u001b[0m\u001b[0;34m\u001b[0m\u001b[0m\n\u001b[1;32m   1249\u001b[0m             \u001b[0msample_weight\u001b[0m\u001b[0;34m=\u001b[0m\u001b[0msample_weight\u001b[0m\u001b[0;34m,\u001b[0m\u001b[0;34m\u001b[0m\u001b[0;34m\u001b[0m\u001b[0m\n",
      "\u001b[0;32m~/opt/anaconda3/lib/python3.8/site-packages/sklearn/tree/_classes.py\u001b[0m in \u001b[0;36mfit\u001b[0;34m(self, X, y, sample_weight, check_input, X_idx_sorted)\u001b[0m\n\u001b[1;32m    387\u001b[0m                                            min_impurity_split)\n\u001b[1;32m    388\u001b[0m \u001b[0;34m\u001b[0m\u001b[0m\n\u001b[0;32m--> 389\u001b[0;31m         \u001b[0mbuilder\u001b[0m\u001b[0;34m.\u001b[0m\u001b[0mbuild\u001b[0m\u001b[0;34m(\u001b[0m\u001b[0mself\u001b[0m\u001b[0;34m.\u001b[0m\u001b[0mtree_\u001b[0m\u001b[0;34m,\u001b[0m \u001b[0mX\u001b[0m\u001b[0;34m,\u001b[0m \u001b[0my\u001b[0m\u001b[0;34m,\u001b[0m \u001b[0msample_weight\u001b[0m\u001b[0;34m)\u001b[0m\u001b[0;34m\u001b[0m\u001b[0;34m\u001b[0m\u001b[0m\n\u001b[0m\u001b[1;32m    390\u001b[0m \u001b[0;34m\u001b[0m\u001b[0m\n\u001b[1;32m    391\u001b[0m         \u001b[0;32mif\u001b[0m \u001b[0mself\u001b[0m\u001b[0;34m.\u001b[0m\u001b[0mn_outputs_\u001b[0m \u001b[0;34m==\u001b[0m \u001b[0;36m1\u001b[0m \u001b[0;32mand\u001b[0m \u001b[0mis_classifier\u001b[0m\u001b[0;34m(\u001b[0m\u001b[0mself\u001b[0m\u001b[0;34m)\u001b[0m\u001b[0;34m:\u001b[0m\u001b[0;34m\u001b[0m\u001b[0;34m\u001b[0m\u001b[0m\n",
      "\u001b[0;31mKeyboardInterrupt\u001b[0m: "
     ]
    }
   ],
   "source": [
    "boost1 = RandomizedSearchCV(gbm, grid_para_tree, \n",
    "                                cv = 2, \n",
    "                                n_jobs = -1, n_iter = 20)\n",
    "\n",
    "boost1.fit(c1_train, Y_c1train)"
   ]
  },
  {
   "cell_type": "code",
   "execution_count": null,
   "id": "6062d921",
   "metadata": {},
   "outputs": [],
   "source": [
    "boost2 = RandomizedSearchCV(gbm, grid_para_tree, \n",
    "                                cv = 2, \n",
    "                                n_jobs = -1, n_iter = 20)\n",
    "\n",
    "boost2.fit(c2_train, Y_c2train)"
   ]
  },
  {
   "cell_type": "code",
   "execution_count": null,
   "id": "8ad81070",
   "metadata": {},
   "outputs": [],
   "source": [
    "boost3 = RandomizedSearchCV(gbm, grid_para_tree, \n",
    "                                cv = 2, \n",
    "                                n_jobs = -1, n_iter = 20)\n",
    "\n",
    "boost3.fit(c3_train, Y_c3train)"
   ]
  },
  {
   "cell_type": "markdown",
   "id": "3b546485",
   "metadata": {},
   "source": [
    "## XGBoost"
   ]
  },
  {
   "cell_type": "code",
   "execution_count": 16,
   "id": "494acf15",
   "metadata": {},
   "outputs": [
    {
     "data": {
      "text/plain": [
       "XGBRegressor(base_score=0.5, booster='gbtree', colsample_bylevel=1,\n",
       "             colsample_bynode=1, colsample_bytree=1, gamma=0, gpu_id=-1,\n",
       "             importance_type='gain', interaction_constraints='',\n",
       "             learning_rate=0.300000012, max_delta_step=0, max_depth=6,\n",
       "             min_child_weight=1, missing=nan, monotone_constraints='()',\n",
       "             n_estimators=100, n_jobs=4, num_parallel_tree=1, random_state=0,\n",
       "             reg_alpha=0, reg_lambda=1, scale_pos_weight=1, subsample=1,\n",
       "             tree_method='exact', validate_parameters=1, verbosity=None)"
      ]
     },
     "execution_count": 16,
     "metadata": {},
     "output_type": "execute_result"
    }
   ],
   "source": [
    "from xgboost import XGBRegressor\n",
    "\n",
    "model = XGBRegressor(random_state = 0)\n",
    "\n",
    "model.fit(X_train, Y_train)"
   ]
  },
  {
   "cell_type": "code",
   "execution_count": 17,
   "id": "00f56b00",
   "metadata": {},
   "outputs": [],
   "source": [
    "pred = model.predict(X_train)\n",
    "pred_unlog = np.exp(pred)\n",
    "\n",
    "pred_test = model.predict(X_test)\n",
    "pred_test_unlog = np.exp(pred_test)\n",
    "\n",
    "Y_unlog = np.exp(Y_train)\n",
    "Y_test_unlog = np.exp(Y_test)"
   ]
  },
  {
   "cell_type": "code",
   "execution_count": 18,
   "id": "ff7650a4",
   "metadata": {},
   "outputs": [
    {
     "name": "stdout",
     "output_type": "stream",
     "text": [
      "Train RMSE =  17.973555451043516\n",
      "Test RMSE =  79.4661503888568\n"
     ]
    }
   ],
   "source": [
    "print(\"Train RMSE = \", np.sqrt(mean_squared_error(pred_unlog, Y_unlog)))\n",
    "train_RMSE = mean_squared_error(Y_unlog, pred_unlog, squared = False)\n",
    "train_RMSE\n",
    "\n",
    "print(\"Test RMSE = \", np.sqrt(mean_squared_error(pred_test_unlog, Y_test_unlog)))\n"
   ]
  },
  {
   "cell_type": "code",
   "execution_count": 19,
   "id": "90b7d8a9",
   "metadata": {},
   "outputs": [
    {
     "name": "stdout",
     "output_type": "stream",
     "text": [
      "0.9992656430974624\n",
      "0.987873475167241\n"
     ]
    }
   ],
   "source": [
    "print(model.score(X_train, Y_train))\n",
    "print(model.score(X_test, Y_test))"
   ]
  },
  {
   "cell_type": "code",
   "execution_count": 38,
   "id": "58c98a4d",
   "metadata": {},
   "outputs": [
    {
     "data": {
      "text/plain": [
       "RandomizedSearchCV(cv=2,\n",
       "                   estimator=XGBRegressor(base_score=None, booster=None,\n",
       "                                          colsample_bylevel=None,\n",
       "                                          colsample_bynode=None,\n",
       "                                          colsample_bytree=None, gamma=None,\n",
       "                                          gpu_id=None, importance_type='gain',\n",
       "                                          interaction_constraints=None,\n",
       "                                          learning_rate=None,\n",
       "                                          max_delta_step=None, max_depth=None,\n",
       "                                          min_child_weight=None, missing=nan,\n",
       "                                          monotone_constraints=None,\n",
       "                                          n_estimators=100, n...\n",
       "                                          validate_parameters=None,\n",
       "                                          verbosity=None),\n",
       "                   n_jobs=-1,\n",
       "                   param_distributions={'colsample_bylevel': [0.75, 0.8, 0.85],\n",
       "                                        'colsample_bynode': [0.7, 0.8, 0.85],\n",
       "                                        'colsample_bytree': [0.75, 0.8, 0.85],\n",
       "                                        'gamma': [0.75, 0.8, 0.85],\n",
       "                                        'learning_rate': [0.025, 0.05, 0.1,\n",
       "                                                          0.15],\n",
       "                                        'max_depth': [5, 6, 7],\n",
       "                                        'max_leaves': [5, 6, 7],\n",
       "                                        'min_child_weight': [5, 6, 7],\n",
       "                                        'n_estimators': [150, 200, 250],\n",
       "                                        'subsample': [0.7, 0.75, 0.8]})"
      ]
     },
     "execution_count": 38,
     "metadata": {},
     "output_type": "execute_result"
    }
   ],
   "source": [
    "# {'subsample': 0.75,\n",
    "#  'n_estimators': 200,\n",
    "#  'min_child_weight': 6,\n",
    "#  'max_leaves': 6,\n",
    "#  'max_depth': 7,\n",
    "#  'learning_rate': 0.1,\n",
    "#  'gamma': 0.8,\n",
    "#  'colsample_bytree': 0.95,\n",
    "#  'colsample_bynode': 0.8,\n",
    "#  'colsample_bylevel': 0.8}\n",
    "\n",
    "\n",
    "\n",
    "hyperparameters = {\n",
    "    'colsample_bylevel': [0.75, 0.8, 0.85],\n",
    "    'colsample_bynode': [0.7, 0.8, 0.85],\n",
    "    'colsample_bytree': [0.75, 0.8, 0.85], \n",
    "    'learning_rate': [0.025, 0.05, 0.1, 0.15],\n",
    "    'max_depth': [5, 6, 7],\n",
    "    'max_leaves': [5, 6, 7],\n",
    "    'min_child_weight': [5, 6, 7],\n",
    "    'subsample': [0.7, 0.75, 0.8],\n",
    "    'gamma':[0.75, 0.8, 0.85],\n",
    "    'n_estimators': [150, 200, 250]\n",
    "}\n",
    "\n",
    "gs_boost = XGBRegressor(random_state=0, reg_lambda = 0)\n",
    "model = RandomizedSearchCV(gs_boost, hyperparameters, cv = 2, n_jobs=-1, n_iter = 10)\n",
    "\n",
    "# model.fit(X_train, Y_train, eval_set = [(X_ver,Y_ver)], early_stopping_rounds = 20)\n",
    "model.fit(X_train, Y_train) #, early_stopping_rounds = 20)\n"
   ]
  },
  {
   "cell_type": "code",
   "execution_count": 39,
   "id": "3cadd6bd",
   "metadata": {},
   "outputs": [],
   "source": [
    "pred = model.predict(X_train)\n",
    "pred_unlog = np.exp(pred)\n",
    "\n",
    "pred_test = model.predict(X_test)\n",
    "pred_test_unlog = np.exp(pred_test)\n",
    "\n",
    "Y_unlog = np.exp(Y_train)\n",
    "Y_test_unlog = np.exp(Y_test)"
   ]
  },
  {
   "cell_type": "code",
   "execution_count": 40,
   "id": "513df0b7",
   "metadata": {
    "scrolled": true
   },
   "outputs": [
    {
     "name": "stdout",
     "output_type": "stream",
     "text": [
      "Train RMSE =  101.41441914302706\n",
      "Test RMSE =  112.51784103224558\n"
     ]
    }
   ],
   "source": [
    "print(\"Train RMSE = \", np.sqrt(mean_squared_error(pred_unlog, Y_unlog)))\n",
    "train_RMSE = mean_squared_error(Y_unlog, pred_unlog, squared = False)\n",
    "train_RMSE\n",
    "\n",
    "print(\"Test RMSE = \", np.sqrt(mean_squared_error(pred_test_unlog, Y_test_unlog)))\n"
   ]
  },
  {
   "cell_type": "code",
   "execution_count": 41,
   "id": "828e6fe7",
   "metadata": {},
   "outputs": [
    {
     "name": "stdout",
     "output_type": "stream",
     "text": [
      "0.9846471630489323\n",
      "0.9825107126920777\n"
     ]
    }
   ],
   "source": [
    "print(model.score(X_train, Y_train))\n",
    "print(model.score(X_test, Y_test))"
   ]
  },
  {
   "cell_type": "code",
   "execution_count": 42,
   "id": "703b1249",
   "metadata": {},
   "outputs": [
    {
     "data": {
      "text/plain": [
       "{'subsample': 0.8,\n",
       " 'n_estimators': 250,\n",
       " 'min_child_weight': 6,\n",
       " 'max_leaves': 6,\n",
       " 'max_depth': 7,\n",
       " 'learning_rate': 0.05,\n",
       " 'gamma': 0.85,\n",
       " 'colsample_bytree': 0.85,\n",
       " 'colsample_bynode': 0.85,\n",
       " 'colsample_bylevel': 0.85}"
      ]
     },
     "execution_count": 42,
     "metadata": {},
     "output_type": "execute_result"
    }
   ],
   "source": [
    "model.best_estimator_\n",
    "model.best_params_"
   ]
  },
  {
   "cell_type": "code",
   "execution_count": null,
   "id": "dda32b26",
   "metadata": {},
   "outputs": [],
   "source": [
    "\n",
    "# model = XGBRegressor(random_state=0, subsample = 0.85, n_estimators = 500,\n",
    "\n",
    "#                     learning_rate = 0.2, colsample_bytree = 0.7,\n",
    "\n",
    "#                     colsample_bylevel = 0.75, max_depth = 4,\n",
    "\n",
    "#                     min_child_weight = 5, max_delta_step = 0,\n",
    "\n",
    "#                     max_leaves = 10, gamma=1)\n",
    "\n",
    "\n",
    "\n",
    "# print(model)\n",
    "\n",
    "# model.fit(X_train, Y_train, eval_set = [(X_test,Y_test)], early_stopping_rounds = 20)\n",
    "\n",
    "# predictions = model.predict(X_train)\n",
    "\n",
    "# predictions_test = model.predict(X_test)\n",
    "\n",
    "# print(np.sqrt(mean_squared_error(predictions, Y_train)))\n",
    "\n",
    "# print(np.sqrt(mean_squared_error(predictions_test, Y_test)))\n",
    "\n",
    "# print(model.score(X_train, Y_train))\n",
    "\n",
    "# print(model.score(X_test, Y_test))\n",
    "\n",
    "# # hyperparameters = {\n",
    "\n",
    "# #     'max_depth':[3,4,5,6,7,8,9,10],\n",
    "\n",
    "# #     'colsample_bylevel': [0.15, 0.25, 0.35, 0.45, 0.55, 0.65, 0.75, 0.85, 0.95],\n",
    "\n",
    "# #     'colsample_bynode': [0, 0.2, 0.4, 0.6, 0.8, 1],\n",
    "\n",
    "# #     'colsample_bytree': [0.2, 0.3, 0.4, 0.5, 0.6, 0.7, 0.8, 0.9], \n",
    "\n",
    "# #     'learning_rate': [0.02, 0.05, 0.1, 0.15, 0.2, 0.25, 0.3],\n",
    "\n",
    "# #     'max_depth': [0, 1, 2, 3, 4, 5, 6, 7],\n",
    "\n",
    "# #     'max_leaves': [2, 4, 6, 8, 10, 15, 20],\n",
    "\n",
    "# #     'min_child_weight': [1,2,3,4,5],\n",
    "\n",
    "# #     'subsample': [0.2, 0.4, 0.5, 0.6, 0.65, 0.7, 0.75, 0.8, 0.85, 0.9],\n",
    "\n",
    "# #     'gamma':[0,0.1, 0.2, 0.3, 0.4, 0.5, 0.6, 0.7, 0.8, 0.9],\n",
    "\n",
    "# #     'n_estimators': [5, 10, 50, 100, 200, 350, 500]\n",
    "\n",
    "# # }\n",
    "\n",
    "# ​\n",
    "\n",
    "# hyperparameters = {\n",
    "\n",
    "#     'colsample_bylevel': [0.45, 0.55, 0.65, 0.75, 0.85],\n",
    "\n",
    "#     'colsample_bynode': [ 0.2, 0.4, 0.6, 0.8, 1],\n",
    "\n",
    "#     'colsample_bytree': [0.5, 0.6, 0.7, 0.8], \n",
    "\n",
    "#     'learning_rate': [0.05, 0.1, 0.15, 0.2, 0.25],\n",
    "\n",
    "#     'max_depth': [4, 6, 8, 10],\n",
    "\n",
    "#     'max_leaves': [4, 6, 8, 10, 12],\n",
    "\n",
    "#     'min_child_weight': [4, 5, 6],\n",
    "\n",
    "#     'subsample': [0.7, 0.75, 0.8, 0.85, 0.9],\n",
    "\n",
    "#     'gamma':[0.4, 0.6, 0.8, 1],\n",
    "\n",
    "#     'n_estimators': [300, 400, 500, 600]\n",
    "\n",
    "# }\n",
    "\n",
    "# ​\n",
    "\n",
    "# # hyperparameters = {\n",
    "\n",
    "# #     'colsample_bynode': [0.1, 0.2, 0.4],\n",
    "\n",
    "# #     'max_depth': [4, 6],\n",
    "\n",
    "# #     'max_leaves': [4, 6, 8, 10, 12],\n",
    "\n",
    "# #     'min_child_weight': [4, 5, 6],\n",
    "\n",
    "# #     'gamma':[0.8, 1]\n",
    "\n",
    "# # }\n",
    "\n",
    "# gs_boost = XGBRegressor(random_state=0, reg_lambda = 0)\n",
    "\n",
    "# # model = XGBRegressor(random_state=0, subsample = 0.85, n_estimators = 500,\n",
    "\n",
    "# #                     learning_rate = 0.2, colsample_bytree = 0.7,\n",
    "\n",
    "# #                     colsample_bylevel = 0.75, max_depth = 4,\n",
    "\n",
    "# #                     min_child_weight = 5, max_delta_step = 0,\n",
    "\n",
    "# #                     max_leaves = 10, gamma=1)\n",
    "\n",
    "# ​\n",
    "\n",
    "# # 3.807204614385419\n",
    "\n",
    "# # 6.919303509257749\n",
    "\n",
    "# # 0.9366801340541325\n",
    "\n",
    "# # 0.7513589994475436\n",
    "\n",
    "# ​\n",
    "\n",
    "# # XGBRegressor(base_score=0.5, booster='gbtree', colsample_bylevel=0.45,\n",
    "\n",
    "# #              colsample_bynode=0.6, colsample_bytree=0.8, gamma=0.6, gpu_id=-1,\n",
    "\n",
    "# #              importance_type='gain', interaction_constraints='',\n",
    "\n",
    "# #              learning_rate=0.05, max_delta_step=0, max_depth=4, max_leaves=8,\n",
    "\n",
    "# #              min_child_weight=5, missing=nan, monotone_constraints='()',\n",
    "\n",
    "# #              n_estimators=600, n_jobs=4, num_parallel_tree=1, random_state=0,\n",
    "\n",
    "# #              reg_alpha=0, reg_lambda=0, scale_pos_weight=1, subsample=0.7,\n",
    "\n",
    "# #              tree_method='exact', validate_parameters=1, verbosity=None)\n",
    "\n",
    "# model = RandomizedSearchCV(gs_boost, hyperparameters, cv = 5, n_jobs=-1, n_iter = 50)\n",
    "\n",
    "# ​\n",
    "\n",
    "# model.fit(X_train, Y_train, eval_set = [(X_ver,Y_ver)], early_stopping_rounds = 20)\n",
    "\n",
    "\n",
    "# predictions = model.predict(X_train)\n",
    "\n",
    "# predictions_test = model.predict(X_ver)\n",
    "\n",
    "# print(np.sqrt(mean_squared_error(predictions, Y_train)))\n",
    "\n",
    "# print(np.sqrt(mean_squared_error(predictions_test, Y_ver)))\n",
    "\n",
    "# print(model.best_score_)\n",
    "\n",
    "# print(model.score(X_ver, Y_ver))\n",
    "\n",
    "# ​\n",
    "\n",
    "# # model.best_score_\n",
    "\n",
    "# 3.9975022688466892\n",
    "# 7.30568867372593\n",
    "# 0.727762928688851\n",
    "# 0.7536665207233895\n",
    "\n",
    "# print(model.score(X1_test, Y_test))\n",
    "\n",
    "# predictions_test = model.predict(X1_test)\n",
    "\n",
    "# print(np.sqrt(mean_squared_error(predictions_test, Y_test)))\n",
    "\n",
    "# ​\n",
    "\n",
    "# 0.7156295431127093\n",
    "# 7.646924351377425\n",
    "\n"
   ]
  }
 ],
 "metadata": {
  "kernelspec": {
   "display_name": "Python 3",
   "language": "python",
   "name": "python3"
  },
  "language_info": {
   "codemirror_mode": {
    "name": "ipython",
    "version": 3
   },
   "file_extension": ".py",
   "mimetype": "text/x-python",
   "name": "python",
   "nbconvert_exporter": "python",
   "pygments_lexer": "ipython3",
   "version": "3.8.8"
  }
 },
 "nbformat": 4,
 "nbformat_minor": 5
}
