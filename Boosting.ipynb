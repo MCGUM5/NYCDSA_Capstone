{
 "cells": [
  {
   "cell_type": "code",
   "execution_count": 40,
   "id": "f7c19906",
   "metadata": {},
   "outputs": [],
   "source": [
    "import numpy as np\n",
    "import pandas as pd\n",
    "import sklearn.ensemble\n",
    "%matplotlib inline\n",
    "import matplotlib.pyplot as plt\n",
    "from sklearn.metrics import mean_squared_error\n",
    "plt.style.use('ggplot')\n",
    "from sklearn.model_selection import GridSearchCV, RandomizedSearchCV\n",
    "from sklearn.ensemble import GradientBoostingClassifier, GradientBoostingRegressor\n",
    "from sklearn.decomposition import PCA\n",
    "from sklearn.preprocessing import StandardScaler"
   ]
  },
  {
   "cell_type": "code",
   "execution_count": 2,
   "id": "ae10ebc4",
   "metadata": {},
   "outputs": [
    {
     "name": "stderr",
     "output_type": "stream",
     "text": [
      "/opt/anaconda3/lib/python3.8/site-packages/pandas/core/indexing.py:1637: SettingWithCopyWarning: \n",
      "A value is trying to be set on a copy of a slice from a DataFrame\n",
      "\n",
      "See the caveats in the documentation: https://pandas.pydata.org/pandas-docs/stable/user_guide/indexing.html#returning-a-view-versus-a-copy\n",
      "  self._setitem_single_block(indexer, value, name)\n",
      "/opt/anaconda3/lib/python3.8/site-packages/pandas/core/frame.py:4308: SettingWithCopyWarning: \n",
      "A value is trying to be set on a copy of a slice from a DataFrame\n",
      "\n",
      "See the caveats in the documentation: https://pandas.pydata.org/pandas-docs/stable/user_guide/indexing.html#returning-a-view-versus-a-copy\n",
      "  return super().drop(\n",
      "/opt/anaconda3/lib/python3.8/site-packages/pandas/core/frame.py:4308: SettingWithCopyWarning: \n",
      "A value is trying to be set on a copy of a slice from a DataFrame\n",
      "\n",
      "See the caveats in the documentation: https://pandas.pydata.org/pandas-docs/stable/user_guide/indexing.html#returning-a-view-versus-a-copy\n",
      "  return super().drop(\n",
      "/opt/anaconda3/lib/python3.8/site-packages/pandas/core/frame.py:4308: SettingWithCopyWarning: \n",
      "A value is trying to be set on a copy of a slice from a DataFrame\n",
      "\n",
      "See the caveats in the documentation: https://pandas.pydata.org/pandas-docs/stable/user_guide/indexing.html#returning-a-view-versus-a-copy\n",
      "  return super().drop(\n",
      "/opt/anaconda3/lib/python3.8/site-packages/pandas/core/frame.py:4308: SettingWithCopyWarning: \n",
      "A value is trying to be set on a copy of a slice from a DataFrame\n",
      "\n",
      "See the caveats in the documentation: https://pandas.pydata.org/pandas-docs/stable/user_guide/indexing.html#returning-a-view-versus-a-copy\n",
      "  return super().drop(\n",
      "/opt/anaconda3/lib/python3.8/site-packages/pandas/core/frame.py:4308: SettingWithCopyWarning: \n",
      "A value is trying to be set on a copy of a slice from a DataFrame\n",
      "\n",
      "See the caveats in the documentation: https://pandas.pydata.org/pandas-docs/stable/user_guide/indexing.html#returning-a-view-versus-a-copy\n",
      "  return super().drop(\n",
      "/opt/anaconda3/lib/python3.8/site-packages/pandas/core/frame.py:4308: SettingWithCopyWarning: \n",
      "A value is trying to be set on a copy of a slice from a DataFrame\n",
      "\n",
      "See the caveats in the documentation: https://pandas.pydata.org/pandas-docs/stable/user_guide/indexing.html#returning-a-view-versus-a-copy\n",
      "  return super().drop(\n"
     ]
    }
   ],
   "source": [
    "from Feat_eng import Y_train, X_train, Y_test, X_test, c1_train, c2_train, c3_train, c1_test, c2_test, c3_test, Y_c1train, Y_c2train, Y_c3train, Y_c1test, Y_c2test ,Y_c3test  "
   ]
  },
  {
   "cell_type": "code",
   "execution_count": 3,
   "id": "1d6f89f9",
   "metadata": {},
   "outputs": [
    {
     "name": "stderr",
     "output_type": "stream",
     "text": [
      "/opt/anaconda3/lib/python3.8/site-packages/sklearn/utils/validation.py:63: DataConversionWarning: A column-vector y was passed when a 1d array was expected. Please change the shape of y to (n_samples, ), for example using ravel().\n",
      "  return f(*args, **kwargs)\n"
     ]
    },
    {
     "data": {
      "text/plain": [
       "GradientBoostingRegressor(learning_rate=0.01, n_estimators=500, subsample=0.7)"
      ]
     },
     "execution_count": 3,
     "metadata": {},
     "output_type": "execute_result"
    }
   ],
   "source": [
    "gbm = GradientBoostingRegressor()\n",
    "gbm.set_params(learning_rate = 0.01, n_estimators = 500, subsample = 0.7)\n",
    "\n",
    "gbm.fit(X_train,Y_train)"
   ]
  },
  {
   "cell_type": "code",
   "execution_count": 4,
   "id": "77d24b1d",
   "metadata": {},
   "outputs": [
    {
     "name": "stdout",
     "output_type": "stream",
     "text": [
      "0.990701403636799\n",
      "0.9887893753897119\n"
     ]
    }
   ],
   "source": [
    "# print(gbm.best_score_)\n",
    "print(gbm.score(X_train,Y_train))\n",
    "print(gbm.score(X_test,Y_test))"
   ]
  },
  {
   "cell_type": "code",
   "execution_count": 5,
   "id": "aca7c6a2",
   "metadata": {},
   "outputs": [
    {
     "name": "stdout",
     "output_type": "stream",
     "text": [
      "Train RMSE =  67.93430949980913\n",
      "67.93430949980913\n",
      "Test RMSE =  78.90775111339609\n"
     ]
    }
   ],
   "source": [
    "pred = gbm.predict(X_train)\n",
    "pred_unlog = np.exp(pred)\n",
    "\n",
    "pred_test = gbm.predict(X_test)\n",
    "pred_test_unlog = np.exp(pred_test)\n",
    "\n",
    "Y_unlog = np.exp(Y_train)\n",
    "Y_test_unlog = np.exp(Y_test)\n",
    "\n",
    "\n",
    "\n",
    "print(\"Train RMSE = \", np.sqrt(mean_squared_error(pred_unlog, Y_unlog)))\n",
    "train_RMSE = mean_squared_error(Y_unlog, pred_unlog, squared = False)\n",
    "print(train_RMSE)\n",
    "print(\"Test RMSE = \", np.sqrt(mean_squared_error(pred_test_unlog, Y_test_unlog)))"
   ]
  },
  {
   "cell_type": "code",
   "execution_count": 6,
   "id": "99d7fab4",
   "metadata": {},
   "outputs": [
    {
     "name": "stderr",
     "output_type": "stream",
     "text": [
      "/opt/anaconda3/lib/python3.8/site-packages/sklearn/utils/validation.py:63: DataConversionWarning: A column-vector y was passed when a 1d array was expected. Please change the shape of y to (n_samples, ), for example using ravel().\n",
      "  return f(*args, **kwargs)\n"
     ]
    },
    {
     "data": {
      "text/plain": [
       "RandomizedSearchCV(cv=3,\n",
       "                   estimator=GradientBoostingRegressor(learning_rate=0.01,\n",
       "                                                       n_estimators=500,\n",
       "                                                       subsample=0.7),\n",
       "                   n_iter=25, n_jobs=-1,\n",
       "                   param_distributions=[{'learning_rate': [0.005, 0.01, 0.015,\n",
       "                                                           0.02],\n",
       "                                         'n_estimators': [100, 500, 1000],\n",
       "                                         'subsample': [0.6, 0.5, 0.4, 0.2]}])"
      ]
     },
     "execution_count": 6,
     "metadata": {},
     "output_type": "execute_result"
    }
   ],
   "source": [
    "# GradientBoostingRegressor(learning_rate=0.01, n_estimators=1000, subsample=0.5)\n",
    "\n",
    "# grid_para_tree = [{'learning_rate': [0.01,0.02,0.03,0.04],\n",
    "#                   'subsample'    : [0.9, 0.5, 0.2, 0.1],\n",
    "#                   'n_estimators' : [50,100,250,500,1000]\n",
    "# #                   'max_depth'    : [4,6,8,10]\n",
    "\n",
    "                   \n",
    "grid_para_tree = [{'learning_rate': [0.005, 0.01, 0.015, 0.02],\n",
    "                  'subsample'    : [0.6, 0.5, 0.4, 0.2],\n",
    "                  'n_estimators' : [100, 500, 1000]\n",
    "#                  'max_depth'    : [2,5,10]\n",
    "                 }]\n",
    "\n",
    "boost = RandomizedSearchCV(gbm, grid_para_tree, \n",
    "                                cv = 3, \n",
    "                                n_jobs = -1, n_iter = 25)\n",
    "\n",
    "boost.fit(X_train, Y_train)"
   ]
  },
  {
   "cell_type": "code",
   "execution_count": 7,
   "id": "ea9c8d94",
   "metadata": {},
   "outputs": [
    {
     "data": {
      "text/plain": [
       "GradientBoostingRegressor(learning_rate=0.015, n_estimators=500, subsample=0.4)"
      ]
     },
     "execution_count": 7,
     "metadata": {},
     "output_type": "execute_result"
    }
   ],
   "source": [
    "boost.best_estimator_"
   ]
  },
  {
   "cell_type": "code",
   "execution_count": 8,
   "id": "f466e473",
   "metadata": {},
   "outputs": [
    {
     "name": "stdout",
     "output_type": "stream",
     "text": [
      "0.9840161286190025\n",
      "0.9892429191539951\n"
     ]
    }
   ],
   "source": [
    "print(boost.best_score_)\n",
    "print(boost.score(X_test,Y_test))"
   ]
  },
  {
   "cell_type": "code",
   "execution_count": 29,
   "id": "8175c600",
   "metadata": {},
   "outputs": [
    {
     "name": "stdout",
     "output_type": "stream",
     "text": [
      "Train RMSE =  62.66889254523786\n",
      "Test RMSE =  76.32162797878041\n"
     ]
    }
   ],
   "source": [
    "pred = boost.predict(X_train)\n",
    "pred_unlog = np.exp(pred)\n",
    "\n",
    "pred_test = boost.predict(X_test)\n",
    "pred_test_unlog = np.exp(pred_test)\n",
    "\n",
    "Y_unlog = np.exp(Y_train)\n",
    "Y_test_unlog = np.exp(Y_test)\n",
    "\n",
    "train_RMSE = mean_squared_error(Y_unlog, pred_unlog, squared = False)\n",
    "print(\"Train RMSE = \", train_RMSE)\n",
    "test_RMSE = np.sqrt(mean_squared_error(pred_test_unlog, Y_test_unlog))\n",
    "print(\"Test RMSE = \", test_RMSE)"
   ]
  },
  {
   "cell_type": "code",
   "execution_count": 30,
   "id": "d8d4bfdf",
   "metadata": {},
   "outputs": [
    {
     "data": {
      "text/html": [
       "<div>\n",
       "<style scoped>\n",
       "    .dataframe tbody tr th:only-of-type {\n",
       "        vertical-align: middle;\n",
       "    }\n",
       "\n",
       "    .dataframe tbody tr th {\n",
       "        vertical-align: top;\n",
       "    }\n",
       "\n",
       "    .dataframe thead th {\n",
       "        text-align: right;\n",
       "    }\n",
       "</style>\n",
       "<table border=\"1\" class=\"dataframe\">\n",
       "  <thead>\n",
       "    <tr style=\"text-align: right;\">\n",
       "      <th></th>\n",
       "      <th>All</th>\n",
       "    </tr>\n",
       "  </thead>\n",
       "  <tbody>\n",
       "    <tr>\n",
       "      <th>RMSE_train</th>\n",
       "      <td>62.668893</td>\n",
       "    </tr>\n",
       "    <tr>\n",
       "      <th>RMSE_test</th>\n",
       "      <td>76.321628</td>\n",
       "    </tr>\n",
       "    <tr>\n",
       "      <th>R2_train</th>\n",
       "      <td>0.984016</td>\n",
       "    </tr>\n",
       "    <tr>\n",
       "      <th>R2_test</th>\n",
       "      <td>0.989243</td>\n",
       "    </tr>\n",
       "  </tbody>\n",
       "</table>\n",
       "</div>"
      ],
      "text/plain": [
       "                  All\n",
       "RMSE_train  62.668893\n",
       "RMSE_test   76.321628\n",
       "R2_train     0.984016\n",
       "R2_test      0.989243"
      ]
     },
     "execution_count": 30,
     "metadata": {},
     "output_type": "execute_result"
    }
   ],
   "source": [
    "# Create a dictionary of the results\n",
    "r2_train = boost.best_score_\n",
    "r2_test = boost.best_estimator_.score(X_test, Y_test)\n",
    "rf_output = pd.DataFrame()\n",
    "rf_output['All'] = [train_RMSE, test_RMSE, r2_train, r2_test]\n",
    "rf_output.index = ['RMSE_train', 'RMSE_test', 'R2_train', 'R2_test']\n",
    "rf_output"
   ]
  },
  {
   "cell_type": "markdown",
   "id": "3aa20be9",
   "metadata": {},
   "source": [
    "## Same for all Clusters"
   ]
  },
  {
   "cell_type": "code",
   "execution_count": 10,
   "id": "eac60178",
   "metadata": {},
   "outputs": [],
   "source": [
    "grid_para_tree = [{'learning_rate': [0.005, 0.01, 0.015, 0.02],\n",
    "                  'subsample'    : [0.6, 0.5, 0.4],\n",
    "                  'n_estimators' : [100, 250, 500, 750]\n",
    "#                   'max_depth'    : [4,6,8,10]\n",
    "                 }]\n"
   ]
  },
  {
   "cell_type": "code",
   "execution_count": 11,
   "id": "f9d04965",
   "metadata": {},
   "outputs": [
    {
     "name": "stderr",
     "output_type": "stream",
     "text": [
      "/opt/anaconda3/lib/python3.8/site-packages/sklearn/utils/validation.py:63: DataConversionWarning: A column-vector y was passed when a 1d array was expected. Please change the shape of y to (n_samples, ), for example using ravel().\n",
      "  return f(*args, **kwargs)\n"
     ]
    },
    {
     "data": {
      "text/plain": [
       "RandomizedSearchCV(cv=3,\n",
       "                   estimator=GradientBoostingRegressor(learning_rate=0.01,\n",
       "                                                       n_estimators=500,\n",
       "                                                       subsample=0.7),\n",
       "                   n_iter=25, n_jobs=-1,\n",
       "                   param_distributions=[{'learning_rate': [0.005, 0.01, 0.015,\n",
       "                                                           0.02],\n",
       "                                         'n_estimators': [100, 250, 500, 750],\n",
       "                                         'subsample': [0.6, 0.5, 0.4]}])"
      ]
     },
     "execution_count": 11,
     "metadata": {},
     "output_type": "execute_result"
    }
   ],
   "source": [
    "boost1 = RandomizedSearchCV(gbm, grid_para_tree, \n",
    "                                cv = 3, \n",
    "                                n_jobs = -1, n_iter = 25)\n",
    "\n",
    "boost1.fit(c1_train, Y_c1train)"
   ]
  },
  {
   "cell_type": "code",
   "execution_count": 12,
   "id": "6062d921",
   "metadata": {},
   "outputs": [
    {
     "name": "stderr",
     "output_type": "stream",
     "text": [
      "/opt/anaconda3/lib/python3.8/site-packages/sklearn/utils/validation.py:63: DataConversionWarning: A column-vector y was passed when a 1d array was expected. Please change the shape of y to (n_samples, ), for example using ravel().\n",
      "  return f(*args, **kwargs)\n"
     ]
    },
    {
     "data": {
      "text/plain": [
       "RandomizedSearchCV(cv=3,\n",
       "                   estimator=GradientBoostingRegressor(learning_rate=0.01,\n",
       "                                                       n_estimators=500,\n",
       "                                                       subsample=0.7),\n",
       "                   n_iter=25, n_jobs=-1,\n",
       "                   param_distributions=[{'learning_rate': [0.005, 0.01, 0.015,\n",
       "                                                           0.02],\n",
       "                                         'n_estimators': [100, 250, 500, 750],\n",
       "                                         'subsample': [0.6, 0.5, 0.4]}])"
      ]
     },
     "execution_count": 12,
     "metadata": {},
     "output_type": "execute_result"
    }
   ],
   "source": [
    "boost2 = RandomizedSearchCV(gbm, grid_para_tree, \n",
    "                                cv = 3, \n",
    "                                n_jobs = -1, n_iter = 25)\n",
    "\n",
    "boost2.fit(c2_train, Y_c2train)"
   ]
  },
  {
   "cell_type": "code",
   "execution_count": 13,
   "id": "8ad81070",
   "metadata": {},
   "outputs": [
    {
     "name": "stderr",
     "output_type": "stream",
     "text": [
      "/opt/anaconda3/lib/python3.8/site-packages/sklearn/utils/validation.py:63: DataConversionWarning: A column-vector y was passed when a 1d array was expected. Please change the shape of y to (n_samples, ), for example using ravel().\n",
      "  return f(*args, **kwargs)\n"
     ]
    },
    {
     "data": {
      "text/plain": [
       "RandomizedSearchCV(cv=3,\n",
       "                   estimator=GradientBoostingRegressor(learning_rate=0.01,\n",
       "                                                       n_estimators=500,\n",
       "                                                       subsample=0.7),\n",
       "                   n_iter=25, n_jobs=-1,\n",
       "                   param_distributions=[{'learning_rate': [0.005, 0.01, 0.015,\n",
       "                                                           0.02],\n",
       "                                         'n_estimators': [100, 250, 500, 750],\n",
       "                                         'subsample': [0.6, 0.5, 0.4]}])"
      ]
     },
     "execution_count": 13,
     "metadata": {},
     "output_type": "execute_result"
    }
   ],
   "source": [
    "boost3 = RandomizedSearchCV(gbm, grid_para_tree, \n",
    "                                cv = 3, \n",
    "                                n_jobs = -1, n_iter = 25)\n",
    "\n",
    "boost3.fit(c3_train, Y_c3train)"
   ]
  },
  {
   "cell_type": "markdown",
   "id": "603f0069",
   "metadata": {},
   "source": [
    "## Results of Gradient Boost Clusters:"
   ]
  },
  {
   "cell_type": "code",
   "execution_count": 31,
   "id": "4b68aed1",
   "metadata": {},
   "outputs": [
    {
     "name": "stdout",
     "output_type": "stream",
     "text": [
      "R2 of train =  0.96798707864737\n",
      "R2 of test =  0.9864775761244502\n",
      "Train RMSE =  50.65400089637982\n",
      "Test RMSE =  79.88759423380877\n"
     ]
    }
   ],
   "source": [
    "# Results of Cluster 1:\n",
    "print(\"R2 of train = \", boost1.best_score_)\n",
    "print(\"R2 of test = \", boost1.best_estimator_.score(c1_test, Y_c1test))\n",
    "\n",
    "pred1 = boost1.predict(c1_train)\n",
    "pred_unlog1 = np.exp(pred1)\n",
    "\n",
    "pred_test1 = boost1.predict(c1_test)\n",
    "pred_test_unlog1 = np.exp(pred_test1)\n",
    "\n",
    "Y_unlog1 = np.exp(Y_c1train)\n",
    "Y_test_unlog1 = np.exp(Y_c1test)\n",
    "\n",
    "train_RMSE1 = mean_squared_error(Y_unlog1, pred_unlog1, squared = False)\n",
    "test_RMSE1 = np.sqrt(mean_squared_error(pred_test_unlog1, Y_test_unlog1))\n",
    "print(\"Train RMSE = \", train_RMSE1)\n",
    "print(\"Test RMSE = \", test_RMSE1)"
   ]
  },
  {
   "cell_type": "code",
   "execution_count": 33,
   "id": "687e5b0a",
   "metadata": {},
   "outputs": [
    {
     "data": {
      "text/html": [
       "<div>\n",
       "<style scoped>\n",
       "    .dataframe tbody tr th:only-of-type {\n",
       "        vertical-align: middle;\n",
       "    }\n",
       "\n",
       "    .dataframe tbody tr th {\n",
       "        vertical-align: top;\n",
       "    }\n",
       "\n",
       "    .dataframe thead th {\n",
       "        text-align: right;\n",
       "    }\n",
       "</style>\n",
       "<table border=\"1\" class=\"dataframe\">\n",
       "  <thead>\n",
       "    <tr style=\"text-align: right;\">\n",
       "      <th></th>\n",
       "      <th>All</th>\n",
       "      <th>Cluster_1</th>\n",
       "    </tr>\n",
       "  </thead>\n",
       "  <tbody>\n",
       "    <tr>\n",
       "      <th>RMSE_train</th>\n",
       "      <td>62.668893</td>\n",
       "      <td>50.654001</td>\n",
       "    </tr>\n",
       "    <tr>\n",
       "      <th>RMSE_test</th>\n",
       "      <td>76.321628</td>\n",
       "      <td>79.887594</td>\n",
       "    </tr>\n",
       "    <tr>\n",
       "      <th>R2_train</th>\n",
       "      <td>0.984016</td>\n",
       "      <td>0.967987</td>\n",
       "    </tr>\n",
       "    <tr>\n",
       "      <th>R2_test</th>\n",
       "      <td>0.989243</td>\n",
       "      <td>0.986478</td>\n",
       "    </tr>\n",
       "  </tbody>\n",
       "</table>\n",
       "</div>"
      ],
      "text/plain": [
       "                  All  Cluster_1\n",
       "RMSE_train  62.668893  50.654001\n",
       "RMSE_test   76.321628  79.887594\n",
       "R2_train     0.984016   0.967987\n",
       "R2_test      0.989243   0.986478"
      ]
     },
     "execution_count": 33,
     "metadata": {},
     "output_type": "execute_result"
    }
   ],
   "source": [
    "r2_train = boost1.best_score_\n",
    "r2_test = boost1.best_estimator_.score(c1_test, Y_c1test)\n",
    "rf_output['Cluster_1'] = [train_RMSE1, test_RMSE1, r2_train, r2_test]\n",
    "rf_output.index = ['RMSE_train', 'RMSE_test', 'R2_train', 'R2_test']\n",
    "rf_output"
   ]
  },
  {
   "cell_type": "code",
   "execution_count": 34,
   "id": "b1da0a38",
   "metadata": {},
   "outputs": [
    {
     "name": "stdout",
     "output_type": "stream",
     "text": [
      "R2 of train =  0.9813816529341172\n",
      "R2 of test =  0.9858426291836991\n",
      "Train RMSE =  52.465480690459735\n",
      "Test RMSE =  72.38318204449698\n"
     ]
    }
   ],
   "source": [
    "# Results of Cluster 2:\n",
    "print(\"R2 of train = \", boost2.best_score_)\n",
    "print(\"R2 of test = \", boost2.best_estimator_.score(c2_test, Y_c2test))\n",
    "\n",
    "pred2 = boost2.predict(c2_train)\n",
    "pred_unlog2 = np.exp(pred2)\n",
    "\n",
    "pred_test2 = boost2.predict(c2_test)\n",
    "pred_test_unlog2 = np.exp(pred_test2)\n",
    "\n",
    "Y_unlog2 = np.exp(Y_c2train)\n",
    "Y_test_unlog2 = np.exp(Y_c2test)\n",
    "\n",
    "train_RMSE2 = mean_squared_error(Y_unlog2, pred_unlog2, squared = False)\n",
    "test_RMSE2 = np.sqrt(mean_squared_error(pred_test_unlog2, Y_test_unlog2))\n",
    "print(\"Train RMSE = \", train_RMSE2)\n",
    "print(\"Test RMSE = \", test_RMSE2)"
   ]
  },
  {
   "cell_type": "code",
   "execution_count": 35,
   "id": "e9ea6286",
   "metadata": {},
   "outputs": [
    {
     "data": {
      "text/html": [
       "<div>\n",
       "<style scoped>\n",
       "    .dataframe tbody tr th:only-of-type {\n",
       "        vertical-align: middle;\n",
       "    }\n",
       "\n",
       "    .dataframe tbody tr th {\n",
       "        vertical-align: top;\n",
       "    }\n",
       "\n",
       "    .dataframe thead th {\n",
       "        text-align: right;\n",
       "    }\n",
       "</style>\n",
       "<table border=\"1\" class=\"dataframe\">\n",
       "  <thead>\n",
       "    <tr style=\"text-align: right;\">\n",
       "      <th></th>\n",
       "      <th>All</th>\n",
       "      <th>Cluster_1</th>\n",
       "      <th>Cluster_2</th>\n",
       "    </tr>\n",
       "  </thead>\n",
       "  <tbody>\n",
       "    <tr>\n",
       "      <th>RMSE_train</th>\n",
       "      <td>62.668893</td>\n",
       "      <td>50.654001</td>\n",
       "      <td>52.465481</td>\n",
       "    </tr>\n",
       "    <tr>\n",
       "      <th>RMSE_test</th>\n",
       "      <td>76.321628</td>\n",
       "      <td>79.887594</td>\n",
       "      <td>72.383182</td>\n",
       "    </tr>\n",
       "    <tr>\n",
       "      <th>R2_train</th>\n",
       "      <td>0.984016</td>\n",
       "      <td>0.967987</td>\n",
       "      <td>0.981382</td>\n",
       "    </tr>\n",
       "    <tr>\n",
       "      <th>R2_test</th>\n",
       "      <td>0.989243</td>\n",
       "      <td>0.986478</td>\n",
       "      <td>0.985843</td>\n",
       "    </tr>\n",
       "  </tbody>\n",
       "</table>\n",
       "</div>"
      ],
      "text/plain": [
       "                  All  Cluster_1  Cluster_2\n",
       "RMSE_train  62.668893  50.654001  52.465481\n",
       "RMSE_test   76.321628  79.887594  72.383182\n",
       "R2_train     0.984016   0.967987   0.981382\n",
       "R2_test      0.989243   0.986478   0.985843"
      ]
     },
     "execution_count": 35,
     "metadata": {},
     "output_type": "execute_result"
    }
   ],
   "source": [
    "r2_train = boost2.best_score_\n",
    "r2_test = boost2.best_estimator_.score(c2_test, Y_c2test)\n",
    "rf_output['Cluster_2'] = [train_RMSE2, test_RMSE2, r2_train, r2_test]\n",
    "rf_output.index = ['RMSE_train', 'RMSE_test', 'R2_train', 'R2_test']\n",
    "rf_output"
   ]
  },
  {
   "cell_type": "code",
   "execution_count": 16,
   "id": "1d9778ff",
   "metadata": {},
   "outputs": [
    {
     "name": "stdout",
     "output_type": "stream",
     "text": [
      "R2 of train =  0.9670208465728874\n",
      "R2 of test =  0.9840483138186662\n",
      "Train RMSE =  50.078748214801706\n",
      "Test RMSE =  85.51817752798759\n"
     ]
    }
   ],
   "source": [
    "# Results of Cluster 3:\n",
    "print(\"R2 of train = \", boost3.best_score_)\n",
    "print(\"R2 of test = \", boost3.best_estimator_.score(c3_test, Y_c3test))\n",
    "\n",
    "pred3 = boost3.predict(c3_train)\n",
    "pred_unlog3 = np.exp(pred3)\n",
    "\n",
    "pred_test3 = boost3.predict(c3_test)\n",
    "pred_test_unlog3 = np.exp(pred_test3)\n",
    "\n",
    "Y_unlog3 = np.exp(Y_c3train)\n",
    "Y_test_unlog3 = np.exp(Y_c3test)\n",
    "\n",
    "train_RMSE3 = mean_squared_error(Y_unlog3, pred_unlog3, squared = False)\n",
    "test_RMSE3 = np.sqrt(mean_squared_error(pred_test_unlog3, Y_test_unlog3))\n",
    "print(\"Train RMSE = \", train_RMSE3)\n",
    "print(\"Test RMSE = \", test_RMSE3)"
   ]
  },
  {
   "cell_type": "code",
   "execution_count": 36,
   "id": "dd8974f2",
   "metadata": {},
   "outputs": [
    {
     "data": {
      "text/html": [
       "<div>\n",
       "<style scoped>\n",
       "    .dataframe tbody tr th:only-of-type {\n",
       "        vertical-align: middle;\n",
       "    }\n",
       "\n",
       "    .dataframe tbody tr th {\n",
       "        vertical-align: top;\n",
       "    }\n",
       "\n",
       "    .dataframe thead th {\n",
       "        text-align: right;\n",
       "    }\n",
       "</style>\n",
       "<table border=\"1\" class=\"dataframe\">\n",
       "  <thead>\n",
       "    <tr style=\"text-align: right;\">\n",
       "      <th></th>\n",
       "      <th>All</th>\n",
       "      <th>Cluster_1</th>\n",
       "      <th>Cluster_2</th>\n",
       "      <th>Cluster_3</th>\n",
       "    </tr>\n",
       "  </thead>\n",
       "  <tbody>\n",
       "    <tr>\n",
       "      <th>RMSE_train</th>\n",
       "      <td>62.668893</td>\n",
       "      <td>50.654001</td>\n",
       "      <td>52.465481</td>\n",
       "      <td>50.078748</td>\n",
       "    </tr>\n",
       "    <tr>\n",
       "      <th>RMSE_test</th>\n",
       "      <td>76.321628</td>\n",
       "      <td>79.887594</td>\n",
       "      <td>72.383182</td>\n",
       "      <td>85.518178</td>\n",
       "    </tr>\n",
       "    <tr>\n",
       "      <th>R2_train</th>\n",
       "      <td>0.984016</td>\n",
       "      <td>0.967987</td>\n",
       "      <td>0.981382</td>\n",
       "      <td>0.967021</td>\n",
       "    </tr>\n",
       "    <tr>\n",
       "      <th>R2_test</th>\n",
       "      <td>0.989243</td>\n",
       "      <td>0.986478</td>\n",
       "      <td>0.985843</td>\n",
       "      <td>0.984048</td>\n",
       "    </tr>\n",
       "  </tbody>\n",
       "</table>\n",
       "</div>"
      ],
      "text/plain": [
       "                  All  Cluster_1  Cluster_2  Cluster_3\n",
       "RMSE_train  62.668893  50.654001  52.465481  50.078748\n",
       "RMSE_test   76.321628  79.887594  72.383182  85.518178\n",
       "R2_train     0.984016   0.967987   0.981382   0.967021\n",
       "R2_test      0.989243   0.986478   0.985843   0.984048"
      ]
     },
     "execution_count": 36,
     "metadata": {},
     "output_type": "execute_result"
    }
   ],
   "source": [
    "r2_train = boost3.best_score_\n",
    "r2_test = boost3.best_estimator_.score(c3_test, Y_c3test)\n",
    "rf_output['Cluster_3'] = [train_RMSE3, test_RMSE3, r2_train, r2_test]\n",
    "rf_output.index = ['RMSE_train', 'RMSE_test', 'R2_train', 'R2_test']\n",
    "rf_output"
   ]
  },
  {
   "cell_type": "markdown",
   "id": "c664e64b",
   "metadata": {},
   "source": [
    "## Create Pickle Files for boosting models"
   ]
  },
  {
   "cell_type": "code",
   "execution_count": 38,
   "id": "16aac2c8",
   "metadata": {},
   "outputs": [],
   "source": [
    "# Create pickle files for all clusters:\n",
    "import pickle\n",
    "pickle.dump(boost, open('boost_all.pkl','wb'))\n",
    "pickle.dump(boost1, open('boost_C1.pkl','wb'))\n",
    "pickle.dump(boost2, open('boost_C2.pkl','wb'))\n",
    "pickle.dump(boost3, open('boost_C3.pkl','wb'))"
   ]
  },
  {
   "cell_type": "markdown",
   "id": "281e920a",
   "metadata": {},
   "source": [
    "# Gradient Boosting with PCA"
   ]
  },
  {
   "cell_type": "markdown",
   "id": "803e9d36",
   "metadata": {},
   "source": [
    "## Run PCA"
   ]
  },
  {
   "cell_type": "code",
   "execution_count": 41,
   "id": "2a8abfcf",
   "metadata": {},
   "outputs": [],
   "source": [
    "# Run a PCA on all data:\n",
    "scaler_pca = StandardScaler().fit(X_train)\n",
    "features = scaler_pca.transform(X_train)\n",
    "df1_scal = pd.DataFrame(features, columns = X_train.columns)\n",
    "\n",
    "pca = PCA(n_components = 0.95)\n",
    "df_reduced = pca.fit_transform(df1_scal)\n",
    "\n",
    "df_reduced = pd.DataFrame(pca.components_, columns = X_train.columns, index = list(range(1,df_reduced.shape[1]+1)))\n",
    "df_reduced = df_reduced.apply(lambda x: abs(x))\n",
    "\n",
    "feat = []\n",
    "for i in range(0,df_reduced.shape[0]):\n",
    "    ff = df_reduced.iloc[i].idxmax()\n",
    "    df_reduced.drop(ff, inplace = True, axis = 1)\n",
    "    feat.append(ff)\n",
    "\n",
    "feat.append('log_value')\n",
    "X_PCA_train = X_train[feat]\n",
    "X_PCA_test = X_test[feat]"
   ]
  },
  {
   "cell_type": "markdown",
   "id": "f465fa54",
   "metadata": {},
   "source": [
    "## All Data with PCA"
   ]
  },
  {
   "cell_type": "code",
   "execution_count": 42,
   "id": "d6e93f1c",
   "metadata": {},
   "outputs": [
    {
     "name": "stderr",
     "output_type": "stream",
     "text": [
      "/opt/anaconda3/lib/python3.8/site-packages/sklearn/model_selection/_search.py:285: UserWarning: The total space of parameters 48 is smaller than n_iter=50. Running 48 iterations. For exhaustive searches, use GridSearchCV.\n",
      "  warnings.warn(\n",
      "/opt/anaconda3/lib/python3.8/site-packages/sklearn/utils/validation.py:63: DataConversionWarning: A column-vector y was passed when a 1d array was expected. Please change the shape of y to (n_samples, ), for example using ravel().\n",
      "  return f(*args, **kwargs)\n"
     ]
    },
    {
     "data": {
      "text/plain": [
       "RandomizedSearchCV(cv=3,\n",
       "                   estimator=GradientBoostingRegressor(learning_rate=0.01,\n",
       "                                                       n_estimators=500,\n",
       "                                                       subsample=0.7),\n",
       "                   n_iter=50, n_jobs=-1,\n",
       "                   param_distributions=[{'learning_rate': [0.005, 0.01, 0.015,\n",
       "                                                           0.02],\n",
       "                                         'n_estimators': [100, 500, 1000],\n",
       "                                         'subsample': [0.6, 0.5, 0.4, 0.2]}])"
      ]
     },
     "execution_count": 42,
     "metadata": {},
     "output_type": "execute_result"
    }
   ],
   "source": [
    "grid_para_tree = [{'learning_rate': [0.005, 0.01, 0.015, 0.02],\n",
    "                  'subsample'    : [0.6, 0.5, 0.4, 0.2],\n",
    "                  'n_estimators' : [100, 500, 1000]\n",
    "#                  'max_depth'    : [2,5,10]\n",
    "                 }]\n",
    "\n",
    "boost_pca = RandomizedSearchCV(gbm, grid_para_tree, \n",
    "                                cv = 3, \n",
    "                                n_jobs = -1, n_iter = 50)\n",
    "\n",
    "boost_pca.fit(X_PCA_train, Y_train)"
   ]
  },
  {
   "cell_type": "code",
   "execution_count": 43,
   "id": "12265f85",
   "metadata": {},
   "outputs": [
    {
     "name": "stdout",
     "output_type": "stream",
     "text": [
      "Train RMSE =  63.59608613572196\n",
      "Test RMSE =  75.95599285849039\n"
     ]
    }
   ],
   "source": [
    "pred = boost_pca.predict(X_PCA_train)\n",
    "pred_unlog = np.exp(pred)\n",
    "\n",
    "pred_test = boost_pca.predict(X_PCA_test)\n",
    "pred_test_unlog = np.exp(pred_test)\n",
    "\n",
    "Y_unlog = np.exp(Y_train)\n",
    "Y_test_unlog = np.exp(Y_test)\n",
    "\n",
    "train_RMSE = mean_squared_error(Y_unlog, pred_unlog, squared = False)\n",
    "print(\"Train RMSE = \", train_RMSE)\n",
    "test_RMSE = np.sqrt(mean_squared_error(pred_test_unlog, Y_test_unlog))\n",
    "print(\"Test RMSE = \", test_RMSE)"
   ]
  },
  {
   "cell_type": "code",
   "execution_count": 44,
   "id": "68456c1f",
   "metadata": {},
   "outputs": [
    {
     "data": {
      "text/html": [
       "<div>\n",
       "<style scoped>\n",
       "    .dataframe tbody tr th:only-of-type {\n",
       "        vertical-align: middle;\n",
       "    }\n",
       "\n",
       "    .dataframe tbody tr th {\n",
       "        vertical-align: top;\n",
       "    }\n",
       "\n",
       "    .dataframe thead th {\n",
       "        text-align: right;\n",
       "    }\n",
       "</style>\n",
       "<table border=\"1\" class=\"dataframe\">\n",
       "  <thead>\n",
       "    <tr style=\"text-align: right;\">\n",
       "      <th></th>\n",
       "      <th>All</th>\n",
       "      <th>Cluster_1</th>\n",
       "      <th>Cluster_2</th>\n",
       "      <th>Cluster_3</th>\n",
       "      <th>PCA_All</th>\n",
       "    </tr>\n",
       "  </thead>\n",
       "  <tbody>\n",
       "    <tr>\n",
       "      <th>RMSE_train</th>\n",
       "      <td>62.668893</td>\n",
       "      <td>50.654001</td>\n",
       "      <td>52.465481</td>\n",
       "      <td>50.078748</td>\n",
       "      <td>63.596086</td>\n",
       "    </tr>\n",
       "    <tr>\n",
       "      <th>RMSE_test</th>\n",
       "      <td>76.321628</td>\n",
       "      <td>79.887594</td>\n",
       "      <td>72.383182</td>\n",
       "      <td>85.518178</td>\n",
       "      <td>75.955993</td>\n",
       "    </tr>\n",
       "    <tr>\n",
       "      <th>R2_train</th>\n",
       "      <td>0.984016</td>\n",
       "      <td>0.967987</td>\n",
       "      <td>0.981382</td>\n",
       "      <td>0.967021</td>\n",
       "      <td>0.984276</td>\n",
       "    </tr>\n",
       "    <tr>\n",
       "      <th>R2_test</th>\n",
       "      <td>0.989243</td>\n",
       "      <td>0.986478</td>\n",
       "      <td>0.985843</td>\n",
       "      <td>0.984048</td>\n",
       "      <td>0.989537</td>\n",
       "    </tr>\n",
       "  </tbody>\n",
       "</table>\n",
       "</div>"
      ],
      "text/plain": [
       "                  All  Cluster_1  Cluster_2  Cluster_3    PCA_All\n",
       "RMSE_train  62.668893  50.654001  52.465481  50.078748  63.596086\n",
       "RMSE_test   76.321628  79.887594  72.383182  85.518178  75.955993\n",
       "R2_train     0.984016   0.967987   0.981382   0.967021   0.984276\n",
       "R2_test      0.989243   0.986478   0.985843   0.984048   0.989537"
      ]
     },
     "execution_count": 44,
     "metadata": {},
     "output_type": "execute_result"
    }
   ],
   "source": [
    "r2_train = boost_pca.best_score_\n",
    "r2_test = boost_pca.best_estimator_.score(X_PCA_test, Y_test)\n",
    "rf_output['PCA_All'] = [train_RMSE, test_RMSE, r2_train, r2_test]\n",
    "rf_output.index = ['RMSE_train', 'RMSE_test', 'R2_train', 'R2_test']\n",
    "rf_output"
   ]
  },
  {
   "cell_type": "markdown",
   "id": "f0c659f8",
   "metadata": {},
   "source": [
    "## Cluster 1 with PCA"
   ]
  },
  {
   "cell_type": "code",
   "execution_count": 45,
   "id": "58b46be2",
   "metadata": {},
   "outputs": [
    {
     "name": "stderr",
     "output_type": "stream",
     "text": [
      "/opt/anaconda3/lib/python3.8/site-packages/sklearn/utils/validation.py:63: DataConversionWarning: A column-vector y was passed when a 1d array was expected. Please change the shape of y to (n_samples, ), for example using ravel().\n",
      "  return f(*args, **kwargs)\n"
     ]
    },
    {
     "data": {
      "text/plain": [
       "RandomizedSearchCV(cv=3,\n",
       "                   estimator=GradientBoostingRegressor(learning_rate=0.01,\n",
       "                                                       n_estimators=500,\n",
       "                                                       subsample=0.7),\n",
       "                   n_iter=48, n_jobs=-1,\n",
       "                   param_distributions=[{'learning_rate': [0.005, 0.01, 0.015,\n",
       "                                                           0.02],\n",
       "                                         'n_estimators': [100, 500, 1000],\n",
       "                                         'subsample': [0.6, 0.5, 0.4, 0.2]}])"
      ]
     },
     "execution_count": 45,
     "metadata": {},
     "output_type": "execute_result"
    }
   ],
   "source": [
    "c1_pca_train = c1_train[feat]\n",
    "c1_pca_test = c1_test[feat]\n",
    "grid_para_tree = [{'learning_rate': [0.005, 0.01, 0.015, 0.02],\n",
    "                  'subsample'    : [0.6, 0.5, 0.4, 0.2],\n",
    "                  'n_estimators' : [100, 500, 1000]\n",
    "#                  'max_depth'    : [2,5,10]\n",
    "                 }]\n",
    "\n",
    "boost1_pca = RandomizedSearchCV(gbm, grid_para_tree, \n",
    "                                cv = 3, \n",
    "                                n_jobs = -1, n_iter = 48)\n",
    "\n",
    "boost1_pca.fit(c1_pca_train, Y_c1train)"
   ]
  },
  {
   "cell_type": "code",
   "execution_count": 46,
   "id": "f825634b",
   "metadata": {},
   "outputs": [
    {
     "name": "stdout",
     "output_type": "stream",
     "text": [
      "R2 of train =  0.9699556143587911\n",
      "R2 of test =  0.9867038193349225\n",
      "Train RMSE =  57.51931796482435\n",
      "Test RMSE =  79.22576330279492\n"
     ]
    }
   ],
   "source": [
    "# Results of Cluster 1:\n",
    "print(\"R2 of train = \", boost1_pca.best_score_)\n",
    "print(\"R2 of test = \", boost1_pca.best_estimator_.score(c1_pca_test, Y_c1test))\n",
    "\n",
    "pred1 = boost1_pca.predict(c1_pca_train)\n",
    "pred_unlog1 = np.exp(pred1)\n",
    "\n",
    "pred_test1 = boost1_pca.predict(c1_pca_test)\n",
    "pred_test_unlog1 = np.exp(pred_test1)\n",
    "\n",
    "Y_unlog1 = np.exp(Y_c1train)\n",
    "Y_test_unlog1 = np.exp(Y_c1test)\n",
    "\n",
    "train_RMSE1 = mean_squared_error(Y_unlog1, pred_unlog1, squared = False)\n",
    "test_RMSE1 = np.sqrt(mean_squared_error(pred_test_unlog1, Y_test_unlog1))\n",
    "print(\"Train RMSE = \", train_RMSE1)\n",
    "print(\"Test RMSE = \", test_RMSE1)"
   ]
  },
  {
   "cell_type": "code",
   "execution_count": 47,
   "id": "acabea0f",
   "metadata": {},
   "outputs": [
    {
     "data": {
      "text/html": [
       "<div>\n",
       "<style scoped>\n",
       "    .dataframe tbody tr th:only-of-type {\n",
       "        vertical-align: middle;\n",
       "    }\n",
       "\n",
       "    .dataframe tbody tr th {\n",
       "        vertical-align: top;\n",
       "    }\n",
       "\n",
       "    .dataframe thead th {\n",
       "        text-align: right;\n",
       "    }\n",
       "</style>\n",
       "<table border=\"1\" class=\"dataframe\">\n",
       "  <thead>\n",
       "    <tr style=\"text-align: right;\">\n",
       "      <th></th>\n",
       "      <th>All</th>\n",
       "      <th>Cluster_1</th>\n",
       "      <th>Cluster_2</th>\n",
       "      <th>Cluster_3</th>\n",
       "      <th>PCA_All</th>\n",
       "      <th>PCA_Cluster_1</th>\n",
       "    </tr>\n",
       "  </thead>\n",
       "  <tbody>\n",
       "    <tr>\n",
       "      <th>RMSE_train</th>\n",
       "      <td>62.668893</td>\n",
       "      <td>50.654001</td>\n",
       "      <td>52.465481</td>\n",
       "      <td>50.078748</td>\n",
       "      <td>63.596086</td>\n",
       "      <td>57.519318</td>\n",
       "    </tr>\n",
       "    <tr>\n",
       "      <th>RMSE_test</th>\n",
       "      <td>76.321628</td>\n",
       "      <td>79.887594</td>\n",
       "      <td>72.383182</td>\n",
       "      <td>85.518178</td>\n",
       "      <td>75.955993</td>\n",
       "      <td>79.225763</td>\n",
       "    </tr>\n",
       "    <tr>\n",
       "      <th>R2_train</th>\n",
       "      <td>0.984016</td>\n",
       "      <td>0.967987</td>\n",
       "      <td>0.981382</td>\n",
       "      <td>0.967021</td>\n",
       "      <td>0.984276</td>\n",
       "      <td>0.969956</td>\n",
       "    </tr>\n",
       "    <tr>\n",
       "      <th>R2_test</th>\n",
       "      <td>0.989243</td>\n",
       "      <td>0.986478</td>\n",
       "      <td>0.985843</td>\n",
       "      <td>0.984048</td>\n",
       "      <td>0.989537</td>\n",
       "      <td>0.986704</td>\n",
       "    </tr>\n",
       "  </tbody>\n",
       "</table>\n",
       "</div>"
      ],
      "text/plain": [
       "                  All  Cluster_1  Cluster_2  Cluster_3    PCA_All  \\\n",
       "RMSE_train  62.668893  50.654001  52.465481  50.078748  63.596086   \n",
       "RMSE_test   76.321628  79.887594  72.383182  85.518178  75.955993   \n",
       "R2_train     0.984016   0.967987   0.981382   0.967021   0.984276   \n",
       "R2_test      0.989243   0.986478   0.985843   0.984048   0.989537   \n",
       "\n",
       "            PCA_Cluster_1  \n",
       "RMSE_train      57.519318  \n",
       "RMSE_test       79.225763  \n",
       "R2_train         0.969956  \n",
       "R2_test          0.986704  "
      ]
     },
     "execution_count": 47,
     "metadata": {},
     "output_type": "execute_result"
    }
   ],
   "source": [
    "r2_train = boost1_pca.best_score_\n",
    "r2_test = boost1_pca.best_estimator_.score(c1_pca_test, Y_c1test)\n",
    "rf_output['PCA_Cluster_1'] = [train_RMSE1, test_RMSE1, r2_train, r2_test]\n",
    "rf_output.index = ['RMSE_train', 'RMSE_test', 'R2_train', 'R2_test']\n",
    "rf_output"
   ]
  },
  {
   "cell_type": "markdown",
   "id": "5447caaa",
   "metadata": {},
   "source": [
    "## Cluster 2 with PCA"
   ]
  },
  {
   "cell_type": "code",
   "execution_count": 48,
   "id": "d30f8607",
   "metadata": {},
   "outputs": [
    {
     "name": "stderr",
     "output_type": "stream",
     "text": [
      "/opt/anaconda3/lib/python3.8/site-packages/sklearn/utils/validation.py:63: DataConversionWarning: A column-vector y was passed when a 1d array was expected. Please change the shape of y to (n_samples, ), for example using ravel().\n",
      "  return f(*args, **kwargs)\n"
     ]
    },
    {
     "data": {
      "text/plain": [
       "RandomizedSearchCV(cv=3,\n",
       "                   estimator=GradientBoostingRegressor(learning_rate=0.01,\n",
       "                                                       n_estimators=500,\n",
       "                                                       subsample=0.7),\n",
       "                   n_iter=48, n_jobs=-1,\n",
       "                   param_distributions=[{'learning_rate': [0.005, 0.01, 0.015,\n",
       "                                                           0.02],\n",
       "                                         'n_estimators': [100, 500, 1000],\n",
       "                                         'subsample': [0.6, 0.5, 0.4, 0.2]}])"
      ]
     },
     "execution_count": 48,
     "metadata": {},
     "output_type": "execute_result"
    }
   ],
   "source": [
    "c2_pca_train = c2_train[feat]\n",
    "c2_pca_test = c2_test[feat]\n",
    "grid_para_tree = [{'learning_rate': [0.005, 0.01, 0.015, 0.02],\n",
    "                  'subsample'    : [0.6, 0.5, 0.4, 0.2],\n",
    "                  'n_estimators' : [100, 500, 1000]\n",
    "#                  'max_depth'    : [2,5,10]\n",
    "                 }]\n",
    "\n",
    "boost2_pca = RandomizedSearchCV(gbm, grid_para_tree, \n",
    "                                cv = 3, \n",
    "                                n_jobs = -1, n_iter = 48)\n",
    "\n",
    "boost2_pca.fit(c2_pca_train, Y_c2train)"
   ]
  },
  {
   "cell_type": "code",
   "execution_count": 49,
   "id": "6dc422bb",
   "metadata": {},
   "outputs": [
    {
     "name": "stdout",
     "output_type": "stream",
     "text": [
      "R2 of train =  0.9815825413165492\n",
      "R2 of test =  0.985765688673127\n",
      "Train RMSE =  55.018928453710416\n",
      "Test RMSE =  72.56541887192918\n"
     ]
    }
   ],
   "source": [
    "# Results of Cluster 1:\n",
    "print(\"R2 of train = \", boost2_pca.best_score_)\n",
    "print(\"R2 of test = \", boost2_pca.best_estimator_.score(c2_pca_test, Y_c2test))\n",
    "\n",
    "pred2 = boost2_pca.predict(c2_pca_train)\n",
    "pred_unlog2 = np.exp(pred2)\n",
    "\n",
    "pred_test2 = boost2_pca.predict(c2_pca_test)\n",
    "pred_test_unlog2 = np.exp(pred_test2)\n",
    "\n",
    "Y_unlog2 = np.exp(Y_c2train)\n",
    "Y_test_unlog2 = np.exp(Y_c2test)\n",
    "\n",
    "train_RMSE2 = mean_squared_error(Y_unlog2, pred_unlog2, squared = False)\n",
    "test_RMSE2 = np.sqrt(mean_squared_error(pred_test_unlog2, Y_test_unlog2))\n",
    "print(\"Train RMSE = \", train_RMSE2)\n",
    "print(\"Test RMSE = \", test_RMSE2)"
   ]
  },
  {
   "cell_type": "code",
   "execution_count": 50,
   "id": "25644a0c",
   "metadata": {},
   "outputs": [
    {
     "data": {
      "text/html": [
       "<div>\n",
       "<style scoped>\n",
       "    .dataframe tbody tr th:only-of-type {\n",
       "        vertical-align: middle;\n",
       "    }\n",
       "\n",
       "    .dataframe tbody tr th {\n",
       "        vertical-align: top;\n",
       "    }\n",
       "\n",
       "    .dataframe thead th {\n",
       "        text-align: right;\n",
       "    }\n",
       "</style>\n",
       "<table border=\"1\" class=\"dataframe\">\n",
       "  <thead>\n",
       "    <tr style=\"text-align: right;\">\n",
       "      <th></th>\n",
       "      <th>All</th>\n",
       "      <th>Cluster_1</th>\n",
       "      <th>Cluster_2</th>\n",
       "      <th>Cluster_3</th>\n",
       "      <th>PCA_All</th>\n",
       "      <th>PCA_Cluster_1</th>\n",
       "      <th>PCA_Cluster_2</th>\n",
       "    </tr>\n",
       "  </thead>\n",
       "  <tbody>\n",
       "    <tr>\n",
       "      <th>RMSE_train</th>\n",
       "      <td>62.668893</td>\n",
       "      <td>50.654001</td>\n",
       "      <td>52.465481</td>\n",
       "      <td>50.078748</td>\n",
       "      <td>63.596086</td>\n",
       "      <td>57.519318</td>\n",
       "      <td>55.018928</td>\n",
       "    </tr>\n",
       "    <tr>\n",
       "      <th>RMSE_test</th>\n",
       "      <td>76.321628</td>\n",
       "      <td>79.887594</td>\n",
       "      <td>72.383182</td>\n",
       "      <td>85.518178</td>\n",
       "      <td>75.955993</td>\n",
       "      <td>79.225763</td>\n",
       "      <td>72.565419</td>\n",
       "    </tr>\n",
       "    <tr>\n",
       "      <th>R2_train</th>\n",
       "      <td>0.984016</td>\n",
       "      <td>0.967987</td>\n",
       "      <td>0.981382</td>\n",
       "      <td>0.967021</td>\n",
       "      <td>0.984276</td>\n",
       "      <td>0.969956</td>\n",
       "      <td>0.981583</td>\n",
       "    </tr>\n",
       "    <tr>\n",
       "      <th>R2_test</th>\n",
       "      <td>0.989243</td>\n",
       "      <td>0.986478</td>\n",
       "      <td>0.985843</td>\n",
       "      <td>0.984048</td>\n",
       "      <td>0.989537</td>\n",
       "      <td>0.986704</td>\n",
       "      <td>0.985766</td>\n",
       "    </tr>\n",
       "  </tbody>\n",
       "</table>\n",
       "</div>"
      ],
      "text/plain": [
       "                  All  Cluster_1  Cluster_2  Cluster_3    PCA_All  \\\n",
       "RMSE_train  62.668893  50.654001  52.465481  50.078748  63.596086   \n",
       "RMSE_test   76.321628  79.887594  72.383182  85.518178  75.955993   \n",
       "R2_train     0.984016   0.967987   0.981382   0.967021   0.984276   \n",
       "R2_test      0.989243   0.986478   0.985843   0.984048   0.989537   \n",
       "\n",
       "            PCA_Cluster_1  PCA_Cluster_2  \n",
       "RMSE_train      57.519318      55.018928  \n",
       "RMSE_test       79.225763      72.565419  \n",
       "R2_train         0.969956       0.981583  \n",
       "R2_test          0.986704       0.985766  "
      ]
     },
     "execution_count": 50,
     "metadata": {},
     "output_type": "execute_result"
    }
   ],
   "source": [
    "r2_train = boost2_pca.best_score_\n",
    "r2_test = boost2_pca.best_estimator_.score(c2_pca_test, Y_c2test)\n",
    "rf_output['PCA_Cluster_2'] = [train_RMSE2, test_RMSE2, r2_train, r2_test]\n",
    "rf_output.index = ['RMSE_train', 'RMSE_test', 'R2_train', 'R2_test']\n",
    "rf_output"
   ]
  },
  {
   "cell_type": "markdown",
   "id": "8e0bf00d",
   "metadata": {},
   "source": [
    "## Cluster 3 with PCA"
   ]
  },
  {
   "cell_type": "code",
   "execution_count": 51,
   "id": "bb974771",
   "metadata": {},
   "outputs": [
    {
     "name": "stderr",
     "output_type": "stream",
     "text": [
      "/opt/anaconda3/lib/python3.8/site-packages/sklearn/utils/validation.py:63: DataConversionWarning: A column-vector y was passed when a 1d array was expected. Please change the shape of y to (n_samples, ), for example using ravel().\n",
      "  return f(*args, **kwargs)\n"
     ]
    },
    {
     "data": {
      "text/plain": [
       "RandomizedSearchCV(cv=3,\n",
       "                   estimator=GradientBoostingRegressor(learning_rate=0.01,\n",
       "                                                       n_estimators=500,\n",
       "                                                       subsample=0.7),\n",
       "                   n_iter=48, n_jobs=-1,\n",
       "                   param_distributions=[{'learning_rate': [0.005, 0.01, 0.015,\n",
       "                                                           0.02],\n",
       "                                         'n_estimators': [100, 500, 1000],\n",
       "                                         'subsample': [0.6, 0.5, 0.4, 0.2]}])"
      ]
     },
     "execution_count": 51,
     "metadata": {},
     "output_type": "execute_result"
    }
   ],
   "source": [
    "# Gradient Boosting with Cluster 3 and PCA:\n",
    "c3_pca_train = c3_train[feat]\n",
    "c3_pca_test = c3_test[feat]\n",
    "grid_para_tree = [{'learning_rate': [0.005, 0.01, 0.015, 0.02],\n",
    "                  'subsample'    : [0.6, 0.5, 0.4, 0.2],\n",
    "                  'n_estimators' : [100, 500, 1000]\n",
    "#                  'max_depth'    : [2,5,10]\n",
    "                 }]\n",
    "\n",
    "boost3_pca = RandomizedSearchCV(gbm, grid_para_tree, \n",
    "                                cv = 3, \n",
    "                                n_jobs = -1, n_iter = 48)\n",
    "\n",
    "boost3_pca.fit(c3_pca_train, Y_c3train)"
   ]
  },
  {
   "cell_type": "code",
   "execution_count": 52,
   "id": "1e510685",
   "metadata": {},
   "outputs": [
    {
     "name": "stdout",
     "output_type": "stream",
     "text": [
      "R2 of train =  0.9745616824851931\n",
      "R2 of test =  0.9847049096682389\n",
      "Train RMSE =  44.33533245459912\n",
      "Test RMSE =  84.23821789871623\n"
     ]
    }
   ],
   "source": [
    "# Results of Cluster 3 and PCA:\n",
    "print(\"R2 of train = \", boost3_pca.best_score_)\n",
    "print(\"R2 of test = \", boost3_pca.best_estimator_.score(c3_pca_test, Y_c3test))\n",
    "\n",
    "pred3 = boost3_pca.predict(c3_pca_train)\n",
    "pred_unlog3 = np.exp(pred3)\n",
    "\n",
    "pred_test3 = boost3_pca.predict(c3_pca_test)\n",
    "pred_test_unlog3 = np.exp(pred_test3)\n",
    "\n",
    "Y_unlog3 = np.exp(Y_c3train)\n",
    "Y_test_unlog3 = np.exp(Y_c3test)\n",
    "\n",
    "train_RMSE3 = mean_squared_error(Y_unlog3, pred_unlog3, squared = False)\n",
    "test_RMSE3 = np.sqrt(mean_squared_error(pred_test_unlog3, Y_test_unlog3))\n",
    "print(\"Train RMSE = \", train_RMSE3)\n",
    "print(\"Test RMSE = \", test_RMSE3)"
   ]
  },
  {
   "cell_type": "code",
   "execution_count": 53,
   "id": "a34fc780",
   "metadata": {},
   "outputs": [
    {
     "data": {
      "text/html": [
       "<div>\n",
       "<style scoped>\n",
       "    .dataframe tbody tr th:only-of-type {\n",
       "        vertical-align: middle;\n",
       "    }\n",
       "\n",
       "    .dataframe tbody tr th {\n",
       "        vertical-align: top;\n",
       "    }\n",
       "\n",
       "    .dataframe thead th {\n",
       "        text-align: right;\n",
       "    }\n",
       "</style>\n",
       "<table border=\"1\" class=\"dataframe\">\n",
       "  <thead>\n",
       "    <tr style=\"text-align: right;\">\n",
       "      <th></th>\n",
       "      <th>All</th>\n",
       "      <th>Cluster_1</th>\n",
       "      <th>Cluster_2</th>\n",
       "      <th>Cluster_3</th>\n",
       "      <th>PCA_All</th>\n",
       "      <th>PCA_Cluster_1</th>\n",
       "      <th>PCA_Cluster_2</th>\n",
       "      <th>PCA_Cluster_3</th>\n",
       "    </tr>\n",
       "  </thead>\n",
       "  <tbody>\n",
       "    <tr>\n",
       "      <th>RMSE_train</th>\n",
       "      <td>62.668893</td>\n",
       "      <td>50.654001</td>\n",
       "      <td>52.465481</td>\n",
       "      <td>50.078748</td>\n",
       "      <td>63.596086</td>\n",
       "      <td>57.519318</td>\n",
       "      <td>55.018928</td>\n",
       "      <td>44.335332</td>\n",
       "    </tr>\n",
       "    <tr>\n",
       "      <th>RMSE_test</th>\n",
       "      <td>76.321628</td>\n",
       "      <td>79.887594</td>\n",
       "      <td>72.383182</td>\n",
       "      <td>85.518178</td>\n",
       "      <td>75.955993</td>\n",
       "      <td>79.225763</td>\n",
       "      <td>72.565419</td>\n",
       "      <td>84.238218</td>\n",
       "    </tr>\n",
       "    <tr>\n",
       "      <th>R2_train</th>\n",
       "      <td>0.984016</td>\n",
       "      <td>0.967987</td>\n",
       "      <td>0.981382</td>\n",
       "      <td>0.967021</td>\n",
       "      <td>0.984276</td>\n",
       "      <td>0.969956</td>\n",
       "      <td>0.981583</td>\n",
       "      <td>0.974562</td>\n",
       "    </tr>\n",
       "    <tr>\n",
       "      <th>R2_test</th>\n",
       "      <td>0.989243</td>\n",
       "      <td>0.986478</td>\n",
       "      <td>0.985843</td>\n",
       "      <td>0.984048</td>\n",
       "      <td>0.989537</td>\n",
       "      <td>0.986704</td>\n",
       "      <td>0.985766</td>\n",
       "      <td>0.984705</td>\n",
       "    </tr>\n",
       "  </tbody>\n",
       "</table>\n",
       "</div>"
      ],
      "text/plain": [
       "                  All  Cluster_1  Cluster_2  Cluster_3    PCA_All  \\\n",
       "RMSE_train  62.668893  50.654001  52.465481  50.078748  63.596086   \n",
       "RMSE_test   76.321628  79.887594  72.383182  85.518178  75.955993   \n",
       "R2_train     0.984016   0.967987   0.981382   0.967021   0.984276   \n",
       "R2_test      0.989243   0.986478   0.985843   0.984048   0.989537   \n",
       "\n",
       "            PCA_Cluster_1  PCA_Cluster_2  PCA_Cluster_3  \n",
       "RMSE_train      57.519318      55.018928      44.335332  \n",
       "RMSE_test       79.225763      72.565419      84.238218  \n",
       "R2_train         0.969956       0.981583       0.974562  \n",
       "R2_test          0.986704       0.985766       0.984705  "
      ]
     },
     "execution_count": 53,
     "metadata": {},
     "output_type": "execute_result"
    }
   ],
   "source": [
    "# Create dataframe from results of Cluster 3 and PCA:\n",
    "r2_train = boost3_pca.best_score_\n",
    "r2_test = boost3_pca.best_estimator_.score(c3_pca_test, Y_c3test)\n",
    "rf_output['PCA_Cluster_3'] = [train_RMSE3, test_RMSE3, r2_train, r2_test]\n",
    "rf_output.index = ['RMSE_train', 'RMSE_test', 'R2_train', 'R2_test']\n",
    "rf_output"
   ]
  },
  {
   "cell_type": "markdown",
   "id": "5a5b4cab",
   "metadata": {},
   "source": [
    "## Pickle all the PCA files"
   ]
  },
  {
   "cell_type": "code",
   "execution_count": 54,
   "id": "d23f1562",
   "metadata": {},
   "outputs": [],
   "source": [
    "pickle.dump(boost_pca, open('boost_all_pca.pkl','wb'))\n",
    "pickle.dump(boost1_pca, open('boost_C1_pca.pkl','wb'))\n",
    "pickle.dump(boost2_pca, open('boost_C2_pca.pkl','wb'))\n",
    "pickle.dump(boost3_pca, open('boost_C3_pca.pkl','wb'))"
   ]
  },
  {
   "cell_type": "markdown",
   "id": "3b546485",
   "metadata": {},
   "source": [
    "## XGBoost"
   ]
  },
  {
   "cell_type": "code",
   "execution_count": 17,
   "id": "494acf15",
   "metadata": {},
   "outputs": [
    {
     "data": {
      "text/plain": [
       "XGBRegressor(base_score=0.5, booster='gbtree', colsample_bylevel=1,\n",
       "             colsample_bynode=1, colsample_bytree=1, gamma=0, gpu_id=-1,\n",
       "             importance_type='gain', interaction_constraints='',\n",
       "             learning_rate=0.300000012, max_delta_step=0, max_depth=6,\n",
       "             min_child_weight=1, missing=nan, monotone_constraints='()',\n",
       "             n_estimators=100, n_jobs=8, num_parallel_tree=1, random_state=0,\n",
       "             reg_alpha=0, reg_lambda=1, scale_pos_weight=1, subsample=1,\n",
       "             tree_method='exact', validate_parameters=1, verbosity=None)"
      ]
     },
     "execution_count": 17,
     "metadata": {},
     "output_type": "execute_result"
    }
   ],
   "source": [
    "from xgboost import XGBRegressor\n",
    "\n",
    "model = XGBRegressor(random_state = 0)\n",
    "\n",
    "model.fit(X_train, Y_train)"
   ]
  },
  {
   "cell_type": "code",
   "execution_count": 20,
   "id": "00f56b00",
   "metadata": {},
   "outputs": [],
   "source": [
    "pred = model.predict(X_train)\n",
    "pred_unlog = np.exp(pred)\n",
    "\n",
    "pred_test = model.predict(X_test)\n",
    "pred_test_unlog = np.exp(pred_test)\n",
    "\n",
    "Y_unlog = np.exp(Y_train)\n",
    "Y_test_unlog = np.exp(Y_test)"
   ]
  },
  {
   "cell_type": "code",
   "execution_count": 21,
   "id": "ff7650a4",
   "metadata": {},
   "outputs": [
    {
     "name": "stdout",
     "output_type": "stream",
     "text": [
      "Train RMSE =  20.82557253274334\n",
      "Test RMSE =  80.54936457612692\n"
     ]
    }
   ],
   "source": [
    "print(\"Train RMSE = \", np.sqrt(mean_squared_error(pred_unlog, Y_unlog)))\n",
    "train_RMSE = mean_squared_error(Y_unlog, pred_unlog, squared = False)\n",
    "train_RMSE\n",
    "\n",
    "print(\"Test RMSE = \", np.sqrt(mean_squared_error(pred_test_unlog, Y_test_unlog)))\n"
   ]
  },
  {
   "cell_type": "code",
   "execution_count": 22,
   "id": "90b7d8a9",
   "metadata": {},
   "outputs": [
    {
     "name": "stdout",
     "output_type": "stream",
     "text": [
      "0.9990999612909691\n",
      "0.9873656202440846\n"
     ]
    }
   ],
   "source": [
    "print(model.score(X_train, Y_train))\n",
    "print(model.score(X_test, Y_test))"
   ]
  },
  {
   "cell_type": "code",
   "execution_count": 23,
   "id": "58c98a4d",
   "metadata": {},
   "outputs": [
    {
     "data": {
      "text/plain": [
       "RandomizedSearchCV(cv=2,\n",
       "                   estimator=XGBRegressor(base_score=None, booster=None,\n",
       "                                          colsample_bylevel=None,\n",
       "                                          colsample_bynode=None,\n",
       "                                          colsample_bytree=None, gamma=None,\n",
       "                                          gpu_id=None, importance_type='gain',\n",
       "                                          interaction_constraints=None,\n",
       "                                          learning_rate=None,\n",
       "                                          max_delta_step=None, max_depth=None,\n",
       "                                          min_child_weight=None, missing=nan,\n",
       "                                          monotone_constraints=None,\n",
       "                                          n_estimators=100, n...\n",
       "                                          validate_parameters=None,\n",
       "                                          verbosity=None),\n",
       "                   n_jobs=-1,\n",
       "                   param_distributions={'colsample_bylevel': [0.75, 0.8, 0.85],\n",
       "                                        'colsample_bynode': [0.7, 0.8, 0.85],\n",
       "                                        'colsample_bytree': [0.75, 0.8, 0.85],\n",
       "                                        'gamma': [0.75, 0.8, 0.85],\n",
       "                                        'learning_rate': [0.025, 0.05, 0.1,\n",
       "                                                          0.15],\n",
       "                                        'max_depth': [5, 6, 7],\n",
       "                                        'max_leaves': [5, 6, 7],\n",
       "                                        'min_child_weight': [5, 6, 7],\n",
       "                                        'n_estimators': [150, 200, 250],\n",
       "                                        'subsample': [0.7, 0.75, 0.8]})"
      ]
     },
     "execution_count": 23,
     "metadata": {},
     "output_type": "execute_result"
    }
   ],
   "source": [
    "hyperparameters = {\n",
    "    'colsample_bylevel': [0.75, 0.8, 0.85],\n",
    "    'colsample_bynode': [0.7, 0.8, 0.85],\n",
    "    'colsample_bytree': [0.75, 0.8, 0.85], \n",
    "    'learning_rate': [0.025, 0.05, 0.1, 0.15],\n",
    "    'max_depth': [5, 6, 7],\n",
    "    'max_leaves': [5, 6, 7],\n",
    "    'min_child_weight': [5, 6, 7],\n",
    "    'subsample': [0.7, 0.75, 0.8],\n",
    "    'gamma':[0.75, 0.8, 0.85],\n",
    "    'n_estimators': [150, 200, 250]\n",
    "}\n",
    "\n",
    "gs_boost = XGBRegressor(random_state=0, reg_lambda = 0)\n",
    "model = RandomizedSearchCV(gs_boost, hyperparameters, cv = 2, n_jobs=-1, n_iter = 10)\n",
    "\n",
    "# model.fit(X_train, Y_train, eval_set = [(X_ver,Y_ver)], early_stopping_rounds = 20)\n",
    "model.fit(X_train, Y_train) #, early_stopping_rounds = 20)\n"
   ]
  },
  {
   "cell_type": "code",
   "execution_count": 24,
   "id": "3cadd6bd",
   "metadata": {},
   "outputs": [],
   "source": [
    "pred = model.predict(X_train)\n",
    "pred_unlog = np.exp(pred)\n",
    "\n",
    "pred_test = model.predict(X_test)\n",
    "pred_test_unlog = np.exp(pred_test)\n",
    "\n",
    "Y_unlog = np.exp(Y_train)\n",
    "Y_test_unlog = np.exp(Y_test)"
   ]
  },
  {
   "cell_type": "code",
   "execution_count": 25,
   "id": "513df0b7",
   "metadata": {
    "scrolled": true
   },
   "outputs": [
    {
     "name": "stdout",
     "output_type": "stream",
     "text": [
      "Train RMSE =  100.72561995465115\n",
      "Test RMSE =  112.32663256056514\n"
     ]
    }
   ],
   "source": [
    "print(\"Train RMSE = \", np.sqrt(mean_squared_error(pred_unlog, Y_unlog)))\n",
    "train_RMSE = mean_squared_error(Y_unlog, pred_unlog, squared = False)\n",
    "train_RMSE\n",
    "\n",
    "print(\"Test RMSE = \", np.sqrt(mean_squared_error(pred_test_unlog, Y_test_unlog)))\n"
   ]
  },
  {
   "cell_type": "code",
   "execution_count": 26,
   "id": "828e6fe7",
   "metadata": {},
   "outputs": [
    {
     "name": "stdout",
     "output_type": "stream",
     "text": [
      "0.984320567326284\n",
      "0.9816836165466879\n"
     ]
    }
   ],
   "source": [
    "print(model.score(X_train, Y_train))\n",
    "print(model.score(X_test, Y_test))"
   ]
  },
  {
   "cell_type": "code",
   "execution_count": 27,
   "id": "703b1249",
   "metadata": {},
   "outputs": [
    {
     "data": {
      "text/plain": [
       "{'subsample': 0.75,\n",
       " 'n_estimators': 250,\n",
       " 'min_child_weight': 6,\n",
       " 'max_leaves': 7,\n",
       " 'max_depth': 7,\n",
       " 'learning_rate': 0.05,\n",
       " 'gamma': 0.8,\n",
       " 'colsample_bytree': 0.85,\n",
       " 'colsample_bynode': 0.7,\n",
       " 'colsample_bylevel': 0.8}"
      ]
     },
     "execution_count": 27,
     "metadata": {},
     "output_type": "execute_result"
    }
   ],
   "source": [
    "model.best_estimator_\n",
    "model.best_params_"
   ]
  }
 ],
 "metadata": {
  "kernelspec": {
   "display_name": "Python 3",
   "language": "python",
   "name": "python3"
  },
  "language_info": {
   "codemirror_mode": {
    "name": "ipython",
    "version": 3
   },
   "file_extension": ".py",
   "mimetype": "text/x-python",
   "name": "python",
   "nbconvert_exporter": "python",
   "pygments_lexer": "ipython3",
   "version": "3.8.8"
  }
 },
 "nbformat": 4,
 "nbformat_minor": 5
}
