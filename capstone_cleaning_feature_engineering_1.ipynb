{
 "cells": [
  {
   "cell_type": "code",
   "execution_count": 4,
   "id": "2ddc6fb5",
   "metadata": {},
   "outputs": [],
   "source": [
    "import numpy as np\n",
    "import pandas as pd\n",
    "from matplotlib import pyplot as plt\n",
    "import seaborn as sns\n",
    "from sklearn.model_selection import train_test_split, GridSearchCV, KFold, cross_val_score\n",
    "from datetime import datetime\n",
    "from sklearn.preprocessing import StandardScaler\n",
    "from sklearn.cluster import KMeans\n",
    "import statsmodels.api as sm\n",
    "import pylab as py\n",
    "import scipy.stats as stats \n",
    "from scipy.stats import norm, skew, probplot\n",
    "from sklearn.metrics import r2_score, mean_squared_error, accuracy_score\n",
    "from sklearn.linear_model import LinearRegression, Ridge, Lasso, ElasticNet, RidgeCV, LassoCV, ElasticNetCV\n",
    "from sklearn.decomposition import PCA"
   ]
  },
  {
   "cell_type": "code",
   "execution_count": null,
   "id": "7bc361a4",
   "metadata": {},
   "outputs": [],
   "source": [
    "year = ['2011','2012','2013','2014','2015','2016','2017','2018']\n",
    "data_ = pd.DataFrame()\n",
    "\n",
    "acs = pd.read_csv(\"../data/ACS_2011.csv\")\n",
    "acs['year'] = 2011\n",
    "\n",
    "pp = pd.read_csv(\"../data/ACS_2012.csv\")\n",
    "pp['year'] = 2012\n",
    "acs = acs.append(pp)\n",
    "\n",
    "pp = pd.read_csv(\"../data/ACS_2013.csv\")\n",
    "pp['year'] = 2013\n",
    "acs = acs.append(pp)\n",
    "\n",
    "pp = pd.read_csv(\"../data/ACS_2014.csv\")\n",
    "pp['year'] = 2014\n",
    "acs = acs.append(pp)\n",
    "\n",
    "pp = pd.read_csv(\"../data/ACS_2015.csv\")\n",
    "pp['year'] = 2015\n",
    "acs = acs.append(pp)\n",
    "\n",
    "pp = pd.read_csv(\"../data/ACS_2016.csv\")\n",
    "pp['year'] = 2016\n",
    "acs = acs.append(pp)\n",
    "\n",
    "pp = pd.read_csv(\"../data/ACS_2017.csv\")\n",
    "pp['year'] = 2017\n",
    "acs = acs.append(pp)\n",
    "\n",
    "pp = pd.read_csv(\"../data/ACS_2018.csv\")\n",
    "pp['year'] = 2018\n",
    "data_ = acs.append(pp)"
   ]
  },
  {
   "cell_type": "code",
   "execution_count": null,
   "id": "f825c446",
   "metadata": {},
   "outputs": [],
   "source": [
    "zir = pd.read_csv(\"../data/Zip_Zri_MultiFamilyResidenceRental.csv\")"
   ]
  },
  {
   "cell_type": "code",
   "execution_count": null,
   "id": "02f1202d",
   "metadata": {},
   "outputs": [],
   "source": [
    "data_['geo_id'] = data_['geo_id'].astype(str).str.zfill(5)\n",
    "zir['RegionName'] = zir['RegionName'].astype(str).str.zfill(5)"
   ]
  },
  {
   "cell_type": "code",
   "execution_count": null,
   "id": "9aa2eaee",
   "metadata": {},
   "outputs": [],
   "source": [
    "cols_replace = list(zir.columns)[7:]\n",
    "cols_keep = list(zir.columns)[:7]\n",
    "zil_new = zir.melt(id_vars=cols_keep, value_vars = cols_replace)\n",
    "zil_new['variable']= pd.to_datetime(zil_new['variable'])"
   ]
  },
  {
   "cell_type": "code",
   "execution_count": null,
   "id": "37703a6c",
   "metadata": {},
   "outputs": [],
   "source": [
    "zil_new['year'] = zil_new['variable'].apply(lambda a: a.year)\n",
    "zil_new.info()"
   ]
  },
  {
   "cell_type": "code",
   "execution_count": null,
   "id": "45dee996",
   "metadata": {},
   "outputs": [],
   "source": [
    "zil_yr = zil_new.groupby(['RegionName', 'year']).mean().reset_index()\n",
    "zil_yr.drop(['SizeRank','RegionID'], inplace=True, axis=1)"
   ]
  },
  {
   "cell_type": "code",
   "execution_count": null,
   "id": "0c523a02",
   "metadata": {
    "scrolled": true
   },
   "outputs": [],
   "source": [
    "zil_targets = zil_yr[zil_yr['year'] > 2011]\n",
    "zil_targets = zil_targets[zil_targets['year'] < 2020]\n",
    "zil_targets.head(50)"
   ]
  },
  {
   "cell_type": "code",
   "execution_count": null,
   "id": "164dde9b",
   "metadata": {},
   "outputs": [],
   "source": [
    "zil_yr = zil_yr.dropna()\n",
    "zil_targets = zil_yr[zil_yr['year'] > 2011]\n",
    "zil_yr = zil_yr[zil_yr['year'] > 2010]\n",
    "zil_yr = zil_yr[zil_yr['year'] < 2019]"
   ]
  },
  {
   "cell_type": "code",
   "execution_count": null,
   "id": "7f13e469",
   "metadata": {},
   "outputs": [],
   "source": [
    "df_final = zil_yr.merge(data_, how='left', left_on = ['RegionName','year'], right_on=['geo_id', 'year'])"
   ]
  },
  {
   "cell_type": "code",
   "execution_count": null,
   "id": "30b774ad",
   "metadata": {},
   "outputs": [],
   "source": [
    "df_final.drop(['pop_5_years_over', 'speak_only_english_at_home', 'speak_spanish_at_home_low_english', \n",
    "               'pop_15_and_over', 'pop_never_married', 'pop_now_married', 'pop_separated', 'pop_widowed',\n",
    "              'pop_divorced', 'geoid','speak_spanish_at_home'], axis=1, inplace=True)"
   ]
  },
  {
   "cell_type": "code",
   "execution_count": null,
   "id": "bfc9a7e2",
   "metadata": {},
   "outputs": [],
   "source": [
    "df_final[df_final['geo_id'].isnull()]"
   ]
  },
  {
   "cell_type": "code",
   "execution_count": null,
   "id": "609a0e99",
   "metadata": {},
   "outputs": [],
   "source": [
    "df_final = df_final[df_final['RegionName']!='11249']\n",
    "df_final = df_final[df_final['RegionName']!='75033']\n",
    "\n",
    "df_final[df_final['geo_id'].isnull()]"
   ]
  },
  {
   "cell_type": "code",
   "execution_count": null,
   "id": "0c374af7",
   "metadata": {},
   "outputs": [],
   "source": [
    "null_zip = list(zip(df_final.columns, list(df_final.isnull().sum())))\n",
    "non_zero = []\n",
    "col_names = []\n",
    "for i, j in null_zip:\n",
    "    if j>0:\n",
    "        non_zero.append(j)\n",
    "        col_names.append(i)\n",
    "list(zip(col_names, non_zero))"
   ]
  },
  {
   "cell_type": "code",
   "execution_count": null,
   "id": "dbf5ef72",
   "metadata": {},
   "outputs": [],
   "source": [
    "df_final[df_final[col_names].isnull().any(axis=1)][col_names]\n",
    "\n",
    "df_final_sorted = df_final.sort_values(by=['RegionName', 'year'])"
   ]
  },
  {
   "cell_type": "code",
   "execution_count": null,
   "id": "311b2d1e",
   "metadata": {},
   "outputs": [],
   "source": [
    "null_2011 = ['associates_degree', 'bachelors_degree', \n",
    "             'high_school_diploma', \n",
    "             'less_one_year_college', \\\n",
    "             'masters_degree', \n",
    "             'one_year_more_college', \n",
    "             'pop_25_years_over']\n",
    "\n",
    "null_2018 = ['white_including_hispanic', 'black_including_hispanic', \n",
    "             'amerindian_including_hispanic', \n",
    "             'asian_including_hispanic', \n",
    "             'commute_5_9_mins', 'commute_35_39_mins', \n",
    "             'commute_40_44_mins', 'commute_60_89_mins', \n",
    "             'commute_90_more_mins', 'households_retirement_income',\n",
    "            'male_60_61','male_62_64']\n",
    "\n",
    "for i in range(0, df_final_sorted.shape[0]):\n",
    "    if df_final_sorted['year'].iloc[i] == 2011:\n",
    "        for j in range(0,len(null_2011)):\n",
    "            df_final_sorted[null_2011[j]].iloc[i] = df_final_sorted[null_2011[j]].iloc[i+1]\n",
    "    if df_final_sorted['year'].iloc[i] == 2018:\n",
    "        for j in range(0,len(null_2018)):\n",
    "            df_final_sorted[null_2018[j]].iloc[i] = df_final_sorted[null_2018[j]].iloc[i-1]\n"
   ]
  },
  {
   "cell_type": "code",
   "execution_count": null,
   "id": "3ab0ae1f",
   "metadata": {},
   "outputs": [],
   "source": [
    "df_final = df_final_sorted.loc[:, df_final_sorted.columns != 'do_date']\n",
    "df_final = df_final.dropna()"
   ]
  },
  {
   "cell_type": "code",
   "execution_count": null,
   "id": "2ed720a1",
   "metadata": {},
   "outputs": [],
   "source": [
    "sns.histplot(x = 'value', data = df_final)\n",
    "plt.show()\n",
    "df_final = df_final[df_final['value'] < 6000]\n",
    "sns.histplot(x = 'value', data = df_final)\n",
    "plt.show()"
   ]
  },
  {
   "cell_type": "code",
   "execution_count": null,
   "id": "4e9326c9",
   "metadata": {},
   "outputs": [],
   "source": [
    "# Filter Cityies with less than 100,000 people\n",
    "zil_city = df_final.merge(zir, on = 'RegionName', how = 'left')\n",
    "zil_city = zil_city[['RegionName','City','total_pop','year']]\n",
    "zil_city = zil_city[zil_city['year'] == 2018]\n",
    "zil_city.drop('year', inplace = True, axis= 1)\n",
    "zil_city = zil_city.groupby('City').sum('total_pop').sort_values(by = 'total_pop')\n",
    "\n",
    "zil_filter = zil_city[zil_city['total_pop'] >= 100000].reset_index()\n",
    "zil_filter = zil_filter['City']"
   ]
  },
  {
   "cell_type": "code",
   "execution_count": null,
   "id": "f45be182",
   "metadata": {},
   "outputs": [],
   "source": [
    "df_filtered = df_final.merge(zir[['RegionName','City']], on = 'RegionName', how = 'left')\n",
    "\n",
    "df_filtered = df_filtered[df_filtered['City'].isin(zil_filter)]"
   ]
  },
  {
   "cell_type": "markdown",
   "id": "cf3f3263",
   "metadata": {},
   "source": [
    "## Cluster on three features"
   ]
  },
  {
   "cell_type": "code",
   "execution_count": null,
   "id": "4f88e57e",
   "metadata": {},
   "outputs": [],
   "source": [
    "df_small_fil = df_filtered[['value']] #, 'total_pop', 'median_income']]\n",
    "df_small_fil"
   ]
  },
  {
   "cell_type": "code",
   "execution_count": null,
   "id": "8ed6b636",
   "metadata": {},
   "outputs": [],
   "source": [
    "scaler = StandardScaler().fit(df_small_fil)\n",
    "features = scaler.transform(df_small_fil)\n",
    "df_scal = pd.DataFrame(features, columns = df_small_fil.columns)\n"
   ]
  },
  {
   "cell_type": "code",
   "execution_count": null,
   "id": "c52e62ff",
   "metadata": {},
   "outputs": [],
   "source": [
    "columns = df_small_fil.columns\n",
    "kmeans = KMeans(n_clusters = 3)\n",
    "y = kmeans.fit_predict(df_small_fil[columns])\n",
    "   \n",
    "df_filtered['Cluster'] = y"
   ]
  },
  {
   "cell_type": "markdown",
   "id": "212a9aa9",
   "metadata": {},
   "source": [
    "## Add CPI data"
   ]
  },
  {
   "cell_type": "code",
   "execution_count": null,
   "id": "fe9f7b02",
   "metadata": {},
   "outputs": [],
   "source": [
    "year = [2011, 2012, 2013, 2014, 2015, 2016, 2017, 2018]\n",
    "\n",
    "cpi = [251.645, 257.081, 263.050, 270.509, 278.802, 288.233, 297.808, 307.660]\n",
    "cpi_df = pd.DataFrame()\n",
    "cpi_df['year'] = year\n",
    "cpi_df['cpi'] = cpi\n",
    "cpi_df"
   ]
  },
  {
   "cell_type": "code",
   "execution_count": null,
   "id": "e5cd0f13",
   "metadata": {},
   "outputs": [],
   "source": [
    "df_addition = df_filtered.merge(cpi_df, how = 'left', on = 'year')"
   ]
  },
  {
   "cell_type": "markdown",
   "id": "dd2003c2",
   "metadata": {},
   "source": [
    "## Add GDP Growth (%) data"
   ]
  },
  {
   "cell_type": "code",
   "execution_count": null,
   "id": "a2ea8492",
   "metadata": {
    "scrolled": true
   },
   "outputs": [],
   "source": [
    "# Add GDP Growth (%)\n",
    "year = [2011, 2012, 2013, 2014, 2015, 2016, 2017, 2018]\n",
    "\n",
    "gdp = [1.5508, 2.2495, 1.8421, 2.526, 3.0755, 1.7114, 2.3327, 2.9965]\n",
    "gdp_df = pd.DataFrame()\n",
    "gdp_df['year'] = year\n",
    "gdp_df['gdp'] = gdp\n",
    "gdp_df"
   ]
  },
  {
   "cell_type": "code",
   "execution_count": null,
   "id": "79b78519",
   "metadata": {},
   "outputs": [],
   "source": [
    "df_addition = df_addition.merge(gdp_df, how = 'left', on = 'year')"
   ]
  },
  {
   "cell_type": "markdown",
   "id": "9e0892f5",
   "metadata": {},
   "source": [
    "## Add Fed Interest Rate data"
   ]
  },
  {
   "cell_type": "code",
   "execution_count": null,
   "id": "6909a837",
   "metadata": {},
   "outputs": [],
   "source": [
    "# Add Federal Interest Rate data\n",
    "year = [2011, 2012, 2013, 2014, 2015, 2016, 2017, 2018]\n",
    "\n",
    "interest = [0.1016666667, 0.14, 0.1075, 0.08916666667, 0.1325, 0.395, \n",
    "            0.655, 1.42]\n",
    "interest_df = pd.DataFrame()\n",
    "interest_df['year'] = year\n",
    "interest_df['interest'] = interest\n",
    "interest_df"
   ]
  },
  {
   "cell_type": "code",
   "execution_count": null,
   "id": "fa335973",
   "metadata": {},
   "outputs": [],
   "source": [
    "df_addition = df_addition.merge(interest_df, how = 'left', on = 'year')\n",
    "df_addition"
   ]
  },
  {
   "cell_type": "markdown",
   "id": "cdc141bd",
   "metadata": {},
   "source": [
    "## Add Census business data"
   ]
  },
  {
   "cell_type": "code",
   "execution_count": null,
   "id": "3b418dfb",
   "metadata": {},
   "outputs": [],
   "source": [
    "bus_count = pd.read_csv('../data/bus_count.csv')"
   ]
  },
  {
   "cell_type": "code",
   "execution_count": 2,
   "id": "3bb17e5e",
   "metadata": {
    "scrolled": true
   },
   "outputs": [
    {
     "ename": "NameError",
     "evalue": "name 'bus_count' is not defined",
     "output_type": "error",
     "traceback": [
      "\u001b[0;31m---------------------------------------------------------------------------\u001b[0m",
      "\u001b[0;31mNameError\u001b[0m                                 Traceback (most recent call last)",
      "\u001b[0;32m<ipython-input-2-40d371bbe6c5>\u001b[0m in \u001b[0;36m<module>\u001b[0;34m\u001b[0m\n\u001b[0;32m----> 1\u001b[0;31m \u001b[0mbus_count\u001b[0m\u001b[0;34m[\u001b[0m\u001b[0;34m'zip'\u001b[0m\u001b[0;34m]\u001b[0m \u001b[0;34m=\u001b[0m \u001b[0mbus_count\u001b[0m\u001b[0;34m[\u001b[0m\u001b[0;34m'zip'\u001b[0m\u001b[0;34m]\u001b[0m\u001b[0;34m.\u001b[0m\u001b[0mastype\u001b[0m\u001b[0;34m(\u001b[0m\u001b[0mstr\u001b[0m\u001b[0;34m)\u001b[0m\u001b[0;34m.\u001b[0m\u001b[0mstr\u001b[0m\u001b[0;34m.\u001b[0m\u001b[0mzfill\u001b[0m\u001b[0;34m(\u001b[0m\u001b[0;36m5\u001b[0m\u001b[0;34m)\u001b[0m\u001b[0;34m\u001b[0m\u001b[0;34m\u001b[0m\u001b[0m\n\u001b[0m\u001b[1;32m      2\u001b[0m \u001b[0mbus_count\u001b[0m\u001b[0;34m\u001b[0m\u001b[0;34m\u001b[0m\u001b[0m\n",
      "\u001b[0;31mNameError\u001b[0m: name 'bus_count' is not defined"
     ]
    }
   ],
   "source": [
    "bus_count['zip'] = bus_count['zip'].astype(str).str.zfill(5)\n",
    "bus_count"
   ]
  },
  {
   "cell_type": "code",
   "execution_count": null,
   "id": "33087449",
   "metadata": {},
   "outputs": [],
   "source": [
    "df_addition = df_addition.merge(bus_count, how = 'left', left_on = ['RegionName', 'year'], right_on = ['zip', 'year'])"
   ]
  },
  {
   "cell_type": "markdown",
   "id": "ce1d3212",
   "metadata": {},
   "source": [
    "# Feature Engineering"
   ]
  },
  {
   "cell_type": "code",
   "execution_count": null,
   "id": "c2733ced",
   "metadata": {},
   "outputs": [],
   "source": [
    "df_addition['log_value'] = np.log(df_addition['value'])\n",
    "df_addition['log_value'].hist(bins=30)"
   ]
  },
  {
   "cell_type": "code",
   "execution_count": null,
   "id": "4b72015d",
   "metadata": {
    "scrolled": false
   },
   "outputs": [],
   "source": [
    "stats.probplot(df_addition['value'], dist=\"norm\", plot=py)\n",
    "py.show()"
   ]
  },
  {
   "cell_type": "code",
   "execution_count": null,
   "id": "61dee210",
   "metadata": {},
   "outputs": [],
   "source": [
    "data_orig = df_addition['value']\n",
    "mu, std = norm.fit(data_orig) \n",
    "\n",
    "# Plot the histogram.\n",
    "plt.hist(data_orig, bins=25, density=True, alpha=0.6, color='b')\n",
    "\n",
    "# Plot the PDF.\n",
    "xmin, xmax = plt.xlim()\n",
    "x = np.linspace(xmin, xmax, 100)\n",
    "p = norm.pdf(x, mu, std)\n",
    "\n",
    "plt.plot(x, p, 'k', linewidth=2)\n",
    "title = \"Fit Values: {:.2f} and {:.2f}\".format(mu, std)\n",
    "plt.title(title)\n",
    "\n",
    "plt.show()"
   ]
  },
  {
   "cell_type": "code",
   "execution_count": null,
   "id": "7ab472cb",
   "metadata": {},
   "outputs": [],
   "source": [
    "data = df_addition['log_value']\n",
    "stats.probplot(data, dist=\"norm\", plot=py)\n",
    "py.show()"
   ]
  },
  {
   "cell_type": "code",
   "execution_count": null,
   "id": "a1e270f8",
   "metadata": {
    "scrolled": true
   },
   "outputs": [],
   "source": [
    "data = df_addition['log_value']\n",
    "mu, std = norm.fit(data) \n",
    "\n",
    "# Plot the histogram.\n",
    "plt.hist(data, bins=25, density=True, alpha=0.6, color='b')\n",
    "\n",
    "# Plot the PDF.\n",
    "xmin, xmax = plt.xlim()\n",
    "x = np.linspace(xmin, xmax, 100)\n",
    "p = norm.pdf(x, mu, std)\n",
    "\n",
    "plt.plot(x, p, 'k', linewidth=2)\n",
    "title = \"Fit Values: {:.2f} and {:.2f}\".format(mu, std)\n",
    "plt.title(title)\n",
    "\n",
    "plt.show()"
   ]
  },
  {
   "cell_type": "code",
   "execution_count": null,
   "id": "912f88af",
   "metadata": {
    "scrolled": false
   },
   "outputs": [],
   "source": [
    "df_addition.columns"
   ]
  },
  {
   "cell_type": "code",
   "execution_count": null,
   "id": "a85252db",
   "metadata": {},
   "outputs": [],
   "source": [
    "df_addition.select_dtypes(include=['object'])"
   ]
  },
  {
   "cell_type": "code",
   "execution_count": null,
   "id": "b6e9ff6f",
   "metadata": {},
   "outputs": [],
   "source": [
    "# Import library for VIF\n",
    "from statsmodels.stats.outliers_influence import variance_inflation_factor\n",
    "\n",
    "def calc_vif(X):\n",
    "\n",
    "    # Calculating VIF\n",
    "    vif = pd.DataFrame()\n",
    "    vif[\"variables\"] = X.columns\n",
    "    vif[\"VIF\"] = [variance_inflation_factor(X.values, i) for i in range(X.shape[1])]\n",
    "\n",
    "    return(vif)"
   ]
  },
  {
   "cell_type": "code",
   "execution_count": null,
   "id": "d6210e36",
   "metadata": {
    "scrolled": false
   },
   "outputs": [],
   "source": [
    "pd.set_option('display.max_rows', None)\n",
    "calc_vif(df_addition.select_dtypes(exclude=['object'])).sort_values(by='VIF')"
   ]
  },
  {
   "cell_type": "code",
   "execution_count": null,
   "id": "ae94291b",
   "metadata": {},
   "outputs": [],
   "source": [
    "from copy import copy\n",
    "\n",
    "\n",
    "corr = df_addition.select_dtypes(exclude=['object']).iloc[:,0:10].corr()\n",
    "corr = abs(corr)\n",
    "mask = np.zeros_like(corr)\n",
    "mask[np.triu_indices_from(mask)]=True\n",
    "\n",
    "#conditions for filtering 0.6<=r<=0.9\n",
    "sns.set(font_scale=1.4)\n",
    "\n",
    "cmap =  copy(plt.cm.hot_r)\n",
    "cmap.set_over(\"white\")\n",
    "cmap.set_under(\"white\")\n",
    "\n",
    "\n",
    "with sns.axes_style(\"white\"):\n",
    "    fig, ax = plt.subplots(figsize=(13,11))\n",
    "    sns.heatmap(abs(corr),\n",
    "                vmax = 1,\n",
    "                vmin = 0.3,\n",
    "                cmap = cmap,\n",
    "                cbar_kws = {'shrink':.5},\n",
    "                linewidth = 1,\n",
    "               linecolor = \"grey\");\n",
    "\n"
   ]
  },
  {
   "cell_type": "code",
   "execution_count": null,
   "id": "15433242",
   "metadata": {
    "scrolled": true
   },
   "outputs": [],
   "source": [
    "sns.pairplot(data = df_addition, y_vars = ['log_value'], x_vars = df_addition.iloc[:,4:10])"
   ]
  },
  {
   "cell_type": "code",
   "execution_count": null,
   "id": "54d8cfa7",
   "metadata": {},
   "outputs": [],
   "source": [
    "sns.pairplot(data = df_addition, y_vars = ['log_value'], x_vars = df_addition.iloc[:,10:16])"
   ]
  },
  {
   "cell_type": "code",
   "execution_count": null,
   "id": "401c5b39",
   "metadata": {},
   "outputs": [],
   "source": []
  },
  {
   "cell_type": "markdown",
   "id": "b1dee2c2",
   "metadata": {},
   "source": [
    "# Create Target Variable"
   ]
  },
  {
   "cell_type": "code",
   "execution_count": null,
   "id": "2cad3d20",
   "metadata": {
    "scrolled": true
   },
   "outputs": [],
   "source": [
    "zil_targets['year'] = zil_targets['year'] - 1\n",
    "zil_targets.head(50)"
   ]
  },
  {
   "cell_type": "code",
   "execution_count": null,
   "id": "c047a62b",
   "metadata": {},
   "outputs": [],
   "source": [
    "zil_targets['future_value'] = zil_targets['value']\n",
    "zil_targets.drop('value', axis=1, inplace=True)\n",
    "zil_targets.head(10)"
   ]
  },
  {
   "cell_type": "code",
   "execution_count": null,
   "id": "6c77efb8",
   "metadata": {
    "scrolled": false
   },
   "outputs": [],
   "source": [
    "target = df_addition.merge(zil_targets, on = ['RegionName','year'], how='left')\n",
    "target.head(10)"
   ]
  },
  {
   "cell_type": "code",
   "execution_count": null,
   "id": "6f5bbb98",
   "metadata": {},
   "outputs": [],
   "source": [
    "target = target.dropna()"
   ]
  },
  {
   "cell_type": "code",
   "execution_count": null,
   "id": "e7f4e9e2",
   "metadata": {},
   "outputs": [],
   "source": [
    "train = target[target['year'] < 2018]\n",
    "test = target[target['year'] == 2018]"
   ]
  },
  {
   "cell_type": "code",
   "execution_count": null,
   "id": "4858ece6",
   "metadata": {},
   "outputs": [],
   "source": [
    "train_feat = train.drop('future_value', axis=1)"
   ]
  },
  {
   "cell_type": "code",
   "execution_count": null,
   "id": "379fb74e",
   "metadata": {},
   "outputs": [],
   "source": [
    "test_feat = test.drop('future_value', axis=1)"
   ]
  },
  {
   "cell_type": "code",
   "execution_count": null,
   "id": "40478c82",
   "metadata": {},
   "outputs": [],
   "source": [
    "test_feat = test_feat.drop('value', axis=1)\n",
    "train_feat = train_feat.drop('value', axis=1)"
   ]
  },
  {
   "cell_type": "code",
   "execution_count": null,
   "id": "782278be",
   "metadata": {},
   "outputs": [],
   "source": [
    "Y_train = np.log(train[['future_value']])\n",
    "X_train = train_feat.select_dtypes(exclude=['object'])"
   ]
  },
  {
   "cell_type": "code",
   "execution_count": null,
   "id": "f7aaef1a",
   "metadata": {},
   "outputs": [],
   "source": [
    "Y_test = np.log(test[['future_value']])\n",
    "X_test = test_feat.select_dtypes(exclude=['object'])"
   ]
  },
  {
   "cell_type": "code",
   "execution_count": null,
   "id": "803f23e0",
   "metadata": {},
   "outputs": [],
   "source": []
  }
 ],
 "metadata": {
  "kernelspec": {
   "display_name": "Python 3",
   "language": "python",
   "name": "python3"
  },
  "language_info": {
   "codemirror_mode": {
    "name": "ipython",
    "version": 3
   },
   "file_extension": ".py",
   "mimetype": "text/x-python",
   "name": "python",
   "nbconvert_exporter": "python",
   "pygments_lexer": "ipython3",
   "version": "3.8.8"
  }
 },
 "nbformat": 4,
 "nbformat_minor": 5
}
